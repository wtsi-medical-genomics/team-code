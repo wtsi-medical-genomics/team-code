{
 "metadata": {
  "name": "",
  "signature": "sha256:7d4e4281d5aadad1b050bcbdabea290a8c90309f801670a66b1b4ef5941ae8fe"
 },
 "nbformat": 3,
 "nbformat_minor": 0,
 "worksheets": [
  {
   "cells": [
    {
     "cell_type": "markdown",
     "metadata": {},
     "source": [
      "##Exercise 7.1"
     ]
    },
    {
     "cell_type": "code",
     "collapsed": false,
     "input": [
      "def print_n(s, n):\n",
      "    while n > 0:\n",
      "        print(s)\n",
      "        n -= 1"
     ],
     "language": "python",
     "metadata": {},
     "outputs": [],
     "prompt_number": 6
    },
    {
     "cell_type": "code",
     "collapsed": false,
     "input": [
      "print_n('hi there', 3)"
     ],
     "language": "python",
     "metadata": {},
     "outputs": [
      {
       "output_type": "stream",
       "stream": "stdout",
       "text": [
        "hi there\n",
        "hi there\n",
        "hi there\n"
       ]
      }
     ],
     "prompt_number": 7
    },
    {
     "cell_type": "markdown",
     "metadata": {},
     "source": [
      "##Exercise 7.2"
     ]
    },
    {
     "cell_type": "code",
     "collapsed": false,
     "input": [
      "def square_root(a):\n",
      "    epsilon = 1e-7\n",
      "    x = a / 2.\n",
      "    while True:\n",
      "        y = (x + a/x) / 2\n",
      "        if abs(x - y) < epsilon:\n",
      "            break\n",
      "        x = y\n",
      "    return x"
     ],
     "language": "python",
     "metadata": {},
     "outputs": [],
     "prompt_number": 51
    },
    {
     "cell_type": "code",
     "collapsed": false,
     "input": [
      "square_root(144)"
     ],
     "language": "python",
     "metadata": {},
     "outputs": [
      {
       "metadata": {},
       "output_type": "pyout",
       "prompt_number": 40,
       "text": [
        "12.000000010666378"
       ]
      }
     ],
     "prompt_number": 40
    },
    {
     "cell_type": "markdown",
     "metadata": {},
     "source": [
      "##Exercise 7.3"
     ]
    },
    {
     "cell_type": "code",
     "collapsed": false,
     "input": [
      "import math\n",
      "def test_square_root(a_lo, a_hi):\n",
      "    for a in range(a_lo, a_hi+1):\n",
      "        actual = math.sqrt(a)\n",
      "        approx = square_root(a)\n",
      "        error = abs(actual - approx)\n",
      "        print \"{}\\t{}\\t{}\\t{}\".format(a, actual, approx, error)"
     ],
     "language": "python",
     "metadata": {},
     "outputs": [],
     "prompt_number": 49
    },
    {
     "cell_type": "code",
     "collapsed": false,
     "input": [
      "test_square_root(1, 9)"
     ],
     "language": "python",
     "metadata": {},
     "outputs": [
      {
       "output_type": "stream",
       "stream": "stdout",
       "text": [
        "1\t1.0\t1.00000004646\t4.64611473738e-08\n",
        "2\t1.41421356237\t1.41421356237\t1.59472435257e-12\n",
        "3\t1.73205080757\t1.73205081001\t2.44585018905e-09\n",
        "4\t2.0\t2.0\t0.0\n",
        "5\t2.2360679775\t2.23606797792\t4.16013890003e-10\n",
        "6\t2.44948974278\t2.44948979592\t5.31351895816e-08\n",
        "7\t2.64575131106\t2.64575131106\t1.02584607475e-13\n",
        "8\t2.82842712475\t2.82842712475\t3.18944870514e-12\n",
        "9\t3.0\t3.00000000004\t3.9321434997e-11\n"
       ]
      }
     ],
     "prompt_number": 52
    },
    {
     "cell_type": "markdown",
     "metadata": {},
     "source": [
      "##Exercise 7.4"
     ]
    },
    {
     "cell_type": "code",
     "collapsed": false,
     "input": [
      "def eval_loop():\n",
      "    while True:\n",
      "        user_input = raw_input(\">\")\n",
      "        if user_input == \"done\":\n",
      "            break\n",
      "        print eval(user_input)"
     ],
     "language": "python",
     "metadata": {},
     "outputs": [],
     "prompt_number": 1
    },
    {
     "cell_type": "code",
     "collapsed": false,
     "input": [
      "eval_loop()"
     ],
     "language": "python",
     "metadata": {},
     "outputs": [
      {
       "name": "stdout",
       "output_type": "stream",
       "stream": "stdout",
       "text": [
        ">324 * 89324\n"
       ]
      },
      {
       "output_type": "stream",
       "stream": "stdout",
       "text": [
        "28940976\n"
       ]
      },
      {
       "name": "stdout",
       "output_type": "stream",
       "stream": "stdout",
       "text": [
        ">done\n"
       ]
      }
     ],
     "prompt_number": 5
    },
    {
     "cell_type": "markdown",
     "metadata": {},
     "source": [
      "##Exercise 7.5"
     ]
    },
    {
     "cell_type": "code",
     "collapsed": false,
     "input": [
      "import math\n",
      "\n",
      "def estimate_pi():\n",
      "    k = 0.\n",
      "    term_min = 1e-15\n",
      "    term = term_min + 1 # need to get in to the loop\n",
      "    term_sum = 0\n",
      "    const_factor = 2 * math.sqrt(2) / 9801\n",
      "    while abs(term) > term_min:\n",
      "        numer = math.factorial(4*k) * (1103 + 26390*k)\n",
      "        denom = math.factorial(k)**4 * 396**(4*k)\n",
      "        term = numer / denom\n",
      "        term_sum += term\n",
      "        k += 1\n",
      "        print term\n",
      "\n",
      "    return 1 / (const_factor * term_sum)"
     ],
     "language": "python",
     "metadata": {},
     "outputs": [],
     "prompt_number": 15
    },
    {
     "cell_type": "code",
     "collapsed": false,
     "input": [
      "estimate_pi()"
     ],
     "language": "python",
     "metadata": {},
     "outputs": [
      {
       "metadata": {},
       "output_type": "pyout",
       "prompt_number": 20,
       "text": [
        "3.141592653589793"
       ]
      }
     ],
     "prompt_number": 20
    },
    {
     "cell_type": "code",
     "collapsed": false,
     "input": [
      "estimate_pi() - math.pi"
     ],
     "language": "python",
     "metadata": {},
     "outputs": [
      {
       "metadata": {},
       "output_type": "pyout",
       "prompt_number": 21,
       "text": [
        "0.0"
       ]
      }
     ],
     "prompt_number": 21
    },
    {
     "cell_type": "code",
     "collapsed": false,
     "input": [
      "import math\n",
      "\n",
      "def estimate_pi():\n",
      "    k = 0.\n",
      "    term_sum = 0\n",
      "    const_factor = 2 * math.sqrt(2) / 9801\n",
      "    while True:\n",
      "        numer = math.factorial(4*k) * (1103 + 26390*k)\n",
      "        denom = math.factorial(k)**4 * 396**(4*k)\n",
      "        term = numer / denom\n",
      "        term_sum += term\n",
      "        if abs(term) < 1e-15: break\n",
      "        k += 1\n",
      "\n",
      "    return 1 / (const_factor * term_sum)"
     ],
     "language": "python",
     "metadata": {},
     "outputs": [],
     "prompt_number": 17
    },
    {
     "cell_type": "code",
     "collapsed": false,
     "input": [
      "estimate_pi()"
     ],
     "language": "python",
     "metadata": {},
     "outputs": [
      {
       "metadata": {},
       "output_type": "pyout",
       "prompt_number": 22,
       "text": [
        "3.141592653589793"
       ]
      }
     ],
     "prompt_number": 22
    },
    {
     "cell_type": "code",
     "collapsed": false,
     "input": [
      "math.pi - estimate_pi()"
     ],
     "language": "python",
     "metadata": {},
     "outputs": [
      {
       "metadata": {},
       "output_type": "pyout",
       "prompt_number": 23,
       "text": [
        "0.0"
       ]
      }
     ],
     "prompt_number": 23
    }
   ],
   "metadata": {}
  }
 ]
}
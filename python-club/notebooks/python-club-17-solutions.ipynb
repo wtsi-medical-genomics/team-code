{
 "cells": [
  {
   "cell_type": "markdown",
   "metadata": {},
   "source": [
    "#Chapter 17 Solutions"
   ]
  },
  {
   "cell_type": "markdown",
   "metadata": {},
   "source": [
    "##Question 1"
   ]
  },
  {
   "cell_type": "code",
   "execution_count": null,
   "metadata": {
    "collapsed": true
   },
   "outputs": [],
   "source": []
  },
  {
   "cell_type": "markdown",
   "metadata": {},
   "source": [
    "##Question 2 (Sarah)"
   ]
  },
  {
   "cell_type": "code",
   "execution_count": null,
   "metadata": {
    "collapsed": true
   },
   "outputs": [],
   "source": []
  },
  {
   "cell_type": "markdown",
   "metadata": {},
   "source": [
    "##Question 3"
   ]
  },
  {
   "cell_type": "code",
   "execution_count": null,
   "metadata": {
    "collapsed": true
   },
   "outputs": [],
   "source": []
  },
  {
   "cell_type": "markdown",
   "metadata": {},
   "source": [
    "##Question 4"
   ]
  },
  {
   "cell_type": "code",
   "execution_count": null,
   "metadata": {
    "collapsed": true
   },
   "outputs": [],
   "source": []
  },
  {
   "cell_type": "markdown",
   "metadata": {},
   "source": [
    "##Question 5 (Dan)"
   ]
  },
  {
   "cell_type": "code",
   "execution_count": 1,
   "metadata": {
    "collapsed": true
   },
   "outputs": [],
   "source": [
    "class Point():\n",
    "    def __init__(self, x=0, y=0):\n",
    "        self.x = x\n",
    "        self.y = y\n",
    "\n",
    "    def __str__(self):\n",
    "        return '({}, {})'.format(self.x, self.y)\n",
    "    \n",
    "    def __add__(self, other):\n",
    "        if isinstance(other, Point):\n",
    "            return self.add_point(other)\n",
    "        elif isinstance(other, tuple):\n",
    "            return self.add_tuple(other)\n",
    "            \n",
    "    def add_point(self, other):\n",
    "        return Point(self.x + other.x, self.y + other.y)\n",
    "    \n",
    "    def add_tuple(self, in_tuple):\n",
    "        return Point(self.x + in_tuple[0], self.y + in_tuple[1])\n",
    "\n",
    "    def __radd__(self, other):\n",
    "        return self.__add__(other)"
   ]
  },
  {
   "cell_type": "code",
   "execution_count": 2,
   "metadata": {
    "collapsed": false
   },
   "outputs": [
    {
     "name": "stdout",
     "output_type": "stream",
     "text": [
      "(24, 48)\n"
     ]
    }
   ],
   "source": [
    "p1 = Point(23, 46)\n",
    "p2 = Point(1, 2)\n",
    "print(p1 + p2)"
   ]
  },
  {
   "cell_type": "code",
   "execution_count": 3,
   "metadata": {
    "collapsed": false
   },
   "outputs": [
    {
     "name": "stdout",
     "output_type": "stream",
     "text": [
      "(33, 66)\n"
     ]
    }
   ],
   "source": [
    "p1 = Point(23, 46)\n",
    "tup = (10, 20)\n",
    "print(p1 + tup)"
   ]
  },
  {
   "cell_type": "code",
   "execution_count": 4,
   "metadata": {
    "collapsed": false
   },
   "outputs": [
    {
     "name": "stdout",
     "output_type": "stream",
     "text": [
      "(33, 66)\n"
     ]
    }
   ],
   "source": [
    "p1 = Point(23, 46)\n",
    "tup = (10, 20)\n",
    "print(tup + p1)"
   ]
  },
  {
   "cell_type": "markdown",
   "metadata": {},
   "source": [
    "##Question 6 (Wendy)"
   ]
  },
  {
   "cell_type": "code",
   "execution_count": null,
   "metadata": {
    "collapsed": true
   },
   "outputs": [],
   "source": []
  },
  {
   "cell_type": "markdown",
   "metadata": {},
   "source": [
    "##Question 7 (Liu)"
   ]
  },
  {
   "cell_type": "code",
   "execution_count": 23,
   "metadata": {
    "collapsed": false
   },
   "outputs": [
    {
     "name": "stdout",
     "output_type": "stream",
     "text": [
      "<__main__.Kangaroo object at 0x104a68d90> with pouch contents:\n",
      "    'wallet'\n",
      "    'car keys'\n",
      "    <__main__.Kangaroo object at 0x104a68d10>\n",
      "<__main__.Kangaroo object at 0x104a68d10> with pouch contents:\n",
      "    'wallet'\n",
      "    'car keys'\n",
      "    <__main__.Kangaroo object at 0x104a68d10>\n"
     ]
    }
   ],
   "source": [
    "# Directly copied from the solutions provided in the book!!!!!\n",
    "# Ver 1, with poential BUG!\n",
    "class Kangaroo(object):\n",
    "    \"\"\"a Kangaroo is a marsupial\"\"\"\n",
    "    \n",
    "    def __init__(self, contents=[]):\n",
    "        \"\"\"initialize the pouch contents; the default value is\n",
    "        an empty list\"\"\"\n",
    "        self.pouch_contents = contents\n",
    "\n",
    "    def __str__(self):\n",
    "        \"\"\"return a string representaion of this Kangaroo and\n",
    "        the contents of the pouch, with one item per line\"\"\"\n",
    "        t = [ object.__str__(self) + ' with pouch contents:' ]\n",
    "        for obj in self.pouch_contents:\n",
    "            s = '    ' + object.__str__(obj)\n",
    "            t.append(s)\n",
    "        return '\\n'.join(t)\n",
    "\n",
    "    def put_in_pouch(self, item):\n",
    "        \"\"\"add a new item to the pouch contents\"\"\"\n",
    "        self.pouch_contents.append(item)\n",
    "\n",
    "kanga = Kangaroo()\n",
    "roo = Kangaroo()\n",
    "kanga.put_in_pouch('wallet')\n",
    "kanga.put_in_pouch('car keys')\n",
    "kanga.put_in_pouch(roo)\n",
    "\n",
    "print kanga\n",
    "print roo"
   ]
  },
  {
   "cell_type": "code",
   "execution_count": 15,
   "metadata": {
    "collapsed": false
   },
   "outputs": [
    {
     "name": "stdout",
     "output_type": "stream",
     "text": [
      "<__main__.Kangaroo object at 0x1048aa810> with pouch contents:\n",
      "    'wallet'\n",
      "    'car keys'\n",
      "    <__main__.Kangaroo object at 0x1048aa790>\n",
      "\n",
      "<__main__.Kangaroo object at 0x1048aa790> with pouch contents:\n"
     ]
    }
   ],
   "source": [
    "# Ver 2\n",
    "\n",
    "class Kangaroo(object):\n",
    "    \"\"\"a Kangaroo is a marsupial\"\"\"\n",
    "    \n",
    "    def __init__(self, contents=[]):\n",
    "        # The problem is the default value for contents.\n",
    "        # Default values get evaluated ONCE, when the function\n",
    "        # is defined; they don't get evaluated again when the\n",
    "        # function is called.\n",
    "\n",
    "        # In this case that means that when __init__ is defined,\n",
    "        # [] gets evaluated and contents gets a reference to\n",
    "        # an empty list.\n",
    "\n",
    "        # After that, every Kangaroo that gets the default\n",
    "        # value get a reference to THE SAME list.  If any\n",
    "        # Kangaroo modifies this shared list, they all see\n",
    "        # the change.\n",
    "\n",
    "        # The next version of __init__ shows an idiomatic way\n",
    "        # to avoid this problem.\n",
    "        self.pouch_contents = contents\n",
    "\n",
    "    def __init__(self, contents=None):\n",
    "        # In this version, the default value is None.  When\n",
    "        # __init__ runs, it checks the value of contents and,\n",
    "        # if necessary, creates a new empty list.  That way,\n",
    "        # every Kangaroo that gets the default value get a\n",
    "        # reference to a different list.\n",
    "\n",
    "        # As a general rule, you should avoid using a mutable\n",
    "        # object as a default value, unless you really know\n",
    "        # what you are doing.\n",
    "        if contents == None:\n",
    "            contents = []\n",
    "        self.pouch_contents = contents\n",
    "\n",
    "    def __str__(self):\n",
    "        \"\"\"return a string representation of this Kangaroo and\n",
    "        the contents of the pouch, with one item per line\"\"\"\n",
    "        t = [ object.__str__(self) + ' with pouch contents:' ]\n",
    "        for obj in self.pouch_contents:\n",
    "            s = '    ' + object.__str__(obj)\n",
    "            t.append(s)\n",
    "        return '\\n'.join(t)\n",
    "\n",
    "    def put_in_pouch(self, item):\n",
    "        \"\"\"add a new item to the pouch contents\"\"\"\n",
    "        self.pouch_contents.append(item)\n",
    "\n",
    "kanga = Kangaroo()\n",
    "roo = Kangaroo()\n",
    "kanga.put_in_pouch('wallet')\n",
    "kanga.put_in_pouch('car keys')\n",
    "kanga.put_in_pouch(roo)\n",
    "\n",
    "print kanga\n",
    "print ''\n",
    "\n",
    "print roo"
   ]
  },
  {
   "cell_type": "code",
   "execution_count": null,
   "metadata": {
    "collapsed": true
   },
   "outputs": [],
   "source": []
  }
 ],
 "metadata": {
  "kernelspec": {
   "display_name": "Python 2",
   "language": "python",
   "name": "python2"
  },
  "language_info": {
   "codemirror_mode": {
    "name": "ipython",
    "version": 2
   },
   "file_extension": ".py",
   "mimetype": "text/x-python",
   "name": "python",
   "nbconvert_exporter": "python",
   "pygments_lexer": "ipython2",
   "version": "2.7.9"
  }
 },
 "nbformat": 4,
 "nbformat_minor": 0
}

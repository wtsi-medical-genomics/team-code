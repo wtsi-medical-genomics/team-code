{
 "cells": [
  {
   "cell_type": "markdown",
   "metadata": {},
   "source": [
    "*All exercises from Downey, Allen. Think Python. Green Tea Press, 2014. http://www.greenteapress.com/thinkpython/*"
   ]
  },
  {
   "cell_type": "markdown",
   "metadata": {},
   "source": [
    "##Exercise 1 (Wendy)\n",
    "Write a function called distance_between_points that takes two Points as arguments and returns the distance between them."
   ]
  },
  {
   "cell_type": "markdown",
   "metadata": {},
   "source": [
    "##Exercise 2 (Sarah)\n",
    "Write a function named move_rectangle that takes a Rectangle and two numbers named dx and dy. It should change the\n",
    "location of the rectangle by adding dx to the x coordinate of corner and adding dy to the y coordinate of corner."
   ]
  },
  {
   "cell_type": "markdown",
   "metadata": {},
   "source": [
    "##Exercise 3 (Liu)\n",
    "Write a version of move_rectangle that creates and returns a new Rectangle instead of modifying the old one."
   ]
  },
  {
   "cell_type": "markdown",
   "metadata": {},
   "source": [
    "##Exercise 4  (Dan)\n",
    "Swampy (see Chapter 4) provides a module named `World`, which defines a user-defined type also called `World`. You can import it like this:\n",
    "\n",
    "```\n",
    "from swampy.World import World\n",
    "```\n",
    "Or, depending on how you installed Swampy, like this:\n",
    "```\n",
    "from World import World\n",
    "```\n",
    "The following code creates a `World` object and calls the `mainloop` method, which waits for the user.\n",
    "```\n",
    "world = World()\n",
    "world.mainloop()\n",
    "```\n",
    "A window should appear with a title bar and an empty square. We will use this window to draw Points, Rectangles and other shapes. Add the following lines before calling `mainloop` and run the program again.\n",
    "```\n",
    "canvas = world.ca(width=500, height=500, background='white')\n",
    "bbox = [[-150,-100], [150, 100]]\n",
    "canvas.rectangle(bbox, outline='black', width=2, fill='green4')\n",
    "```\n",
    "You should see a green rectangle with a black outline. The first line creates a Canvas, which appears in the window as a white square. The Canvas object provides methods like rectangle for drawing various shapes.\n",
    "\n",
    "`bbox` is a list of lists that represents the “bounding box” of the rectangle. The first pair of coordinates is the lower-left corner of the rectangle; the second pair is the upper-right corner.\n",
    "\n",
    "You can draw a circle like this:\n",
    "\n",
    "```\n",
    "canvas.circle([-25,0], 70, outline=None, fill='red')\n",
    "```\n",
    "\n",
    "The first parameter is the coordinate pair for the center of the circle; the second parameter is the radius.\n",
    "If you add this line to the program, the result should resemble the national flag of Bangladesh (see http://en.wikipedia.org/wiki/Gallery_of_sovereign-state_flags).\n",
    "\n",
    "1. Write a function called draw_rectangle that takes a Canvas and a Rectangle as arguments and draws a representation of the Rectangle on the Canvas.\n",
    "2. Add an attribute named color to your Rectangle objects and modify draw_rectangle so that it uses the color attribute as the fill color.\n",
    "3. Write a function called draw_point that takes a Canvas and a Point as arguments and draws a representation of the Point on the Canvas.\n",
    "4. Define a new class called Circle with appropriate attributes and instantiate a few Circle objects. Write a function called draw_circle that draws circles on the canvas.\n",
    "5. Write a program that draws the national flag of the Czech Republic. Hint: you can draw a polygon like this:\n",
    "```\n",
    "points = [[-150,-100], [150, 100], [150, -100]]\n",
    "canvas.polygon(points, fill='blue')\n",
    "```\n",
    "I have written a small program that lists the available colors; you can download it from http://thinkpython.com/code/color_list.py."
   ]
  },
  {
   "cell_type": "code",
   "execution_count": null,
   "metadata": {
    "collapsed": true
   },
   "outputs": [],
   "source": []
  }
 ],
 "metadata": {
  "kernelspec": {
   "display_name": "Python 2",
   "language": "python",
   "name": "python2"
  },
  "language_info": {
   "codemirror_mode": {
    "name": "ipython",
    "version": 2
   },
   "file_extension": ".py",
   "mimetype": "text/x-python",
   "name": "python",
   "nbconvert_exporter": "python",
   "pygments_lexer": "ipython2",
   "version": "2.7.9"
  }
 },
 "nbformat": 4,
 "nbformat_minor": 0
}

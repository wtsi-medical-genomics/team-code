{
 "metadata": {
  "name": "",
  "signature": "sha256:d62455249af531e724a7b41993f30ca278b23b27a650c1cbe8822f6e2b2901c1"
 },
 "nbformat": 3,
 "nbformat_minor": 0,
 "worksheets": [
  {
   "cells": [
    {
     "cell_type": "markdown",
     "metadata": {},
     "source": [
      "*All exercises from Downey, Allen. Think Python. Green Tea Press, 2014. http://www.greenteapress.com/thinkpython/*"
     ]
    },
    {
     "cell_type": "markdown",
     "metadata": {},
     "source": [
      "##Exercise 9.1 (Mari)\n",
      "Write a program that reads words.txt and prints only the words with more than 20 characters (not counting whitespace).\n",
      "\n",
      "##Exercise 9.2 (Dan)\n",
      "In 1939 Ernest Vincent Wright published a 50,000 word novel called Gadsby that does not contain the letter \u201ce.\u201d Since \u201ce\u201d is the most common letter in English, that\u2019s not easy to do.\n",
      "In fact, it is difficult to construct a solitary thought without using that most common symbol. It is slow going at first, but with caution and hours of training you can gradually gain facility.\n",
      "\n",
      "All right, I\u2019ll stop now.\n",
      "\n",
      "Write a function called has_no_e that returns True if the given word doesn\u2019t have the letter \u201ce\u201d in it.\n",
      "\n",
      "Modify your program from the previous section to print only the words that have no \u201ce\u201d and compute the percentage of the words in the list have no \u201ce.\u201d\n",
      "\n",
      "##Exercise 9.3  \n",
      "Write a function named avoids that takes a word and a string of forbidden letters, and that returns True if the word doesn\u2019t use any of the forbidden letters.\n",
      "Modify your program to prompt the user to enter a string of forbidden letters and then print the number of words that don\u2019t contain any of them. Can you find a combination of 5 forbidden letters that excludes the smallest number of words?\n",
      "\n",
      "##Exercise 9.4 (Sarah)\n",
      "Write a function named uses_only that takes a word and a string of letters, and that returns True if the word contains only letters in the list. Can you make a sentence using only the letters acefhlo? Other than \u201cHoe alfalfa?\u201d\n",
      "\n",
      "##Exercise 9.5  \n",
      "Write a function named uses_all that takes a word and a string of required letters, and that returns True if the word uses all the required letters at least once. How many words are there that use all the vowels aeiou? How about aeiouy?\n",
      "\n",
      "##Exercise 9.6  \n",
      "Write a function called is_abecedarian that returns True if the letters in a word appear in alphabetical order (double letters are ok). How many abecedarian words are there?\n",
      "\n",
      "##Exercise 9.7 (Liu)\n",
      "This question is based on a Puzzler that was broadcast on the radio program Car Talk (http://www.cartalk.com/content/puzzlers):\n",
      "Give me a word with three consecutive double letters. I\u2019ll give you a couple of words that almost qualify, but don\u2019t. For example, the word committee, c-o-m-m-i-t-t-e-e. It would be great except for the \u2018i\u2019 that sneaks in there. Or Mississippi: M-i-s-s-i-s-s-i-p-p-i. If you could take out those i\u2019s it would work. But there is a word that has three consecutive pairs of letters and to the best of my knowledge this may be the only word. Of course there are probably 500 more but I can only think of one. What is the word?\n",
      "\n",
      "Write a program to find it. \n",
      "\n",
      "##Exercise 9.8 (Wendy)\n",
      "Here\u2019s another Car Talk Puzzler (http://www.cartalk.com/content/puzzlers):\n",
      "\u201cI was driving on the highway the other day and I happened to notice my odometer. Like most odometers, it shows six digits, in whole miles only. So, if my car had 300,000 miles, for example, I\u2019d see 3-0-0-0-0-0.\n",
      "\u201cNow, what I saw that day was very interesting. I noticed that the last 4 digits were palindromic; that is, they read the same forward as backward. For example, 5-4-4-5 is a palindrome, so my odometer could have read 3-1-5-4-4-5.\n",
      "\u201cOne mile later, the last 5 numbers were palindromic. For example, it could have read 3-6-5-4-5-6. One mile after that, the middle 4 out of 6 numbers were palindromic. And you ready for this? One mile later, all 6 were palindromic!\n",
      "\n",
      "\u201cThe question is, what was on the odometer when I first looked?\u201d\n",
      "\n",
      "Write a Python program that tests all the six-digit numbers and prints any numbers that satisfy these requirements \n",
      "\n",
      "##Exercise 9.9 (Masa)\n",
      "Here\u2019s another Car Talk Puzzler you can solve with a search (http://www.cartalk.com/content/puzzlers):\n",
      "\u201cRecently I had a visit with my mom and we realized that the two digits that make up my age when reversed resulted in her age. For example, if she\u2019s 73, I\u2019m 37. We wondered how often this has happened over the years but we got sidetracked with other topics and we never came up with an answer.\n",
      "\u201cWhen I got home I figured out that the digits of our ages have been reversible six times so far. I also figured out that if we\u2019re lucky it would happen again in a few years, and if we\u2019re really lucky it would happen one more time after that. In other words, it would have happened 8 times over all. So the question is, how old am I now?\u201d\n",
      "Write a Python program that searches for solutions to this Puzzler. Hint: you might find the string method zfill useful."
     ]
    },
    {
     "cell_type": "code",
     "collapsed": false,
     "input": [],
     "language": "python",
     "metadata": {},
     "outputs": []
    }
   ],
   "metadata": {}
  }
 ]
}
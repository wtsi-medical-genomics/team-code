{
 "metadata": {
  "name": "",
  "signature": "sha256:350bb83fc604a8ee02fd41de3e9cb81bed469bc8a9dd08760dd94db8de2437bb"
 },
 "nbformat": 3,
 "nbformat_minor": 0,
 "worksheets": [
  {
   "cells": [
    {
     "cell_type": "markdown",
     "metadata": {},
     "source": [
      "#Python Club\n",
      "##Meeting 2\n",
      "---\n",
      "\n",
      "##Agenda\n",
      "\n",
      "* Chapter 3 Discussion and Questions\n",
      "* Exercises\n",
      "* Next session\n",
      "---\n",
      "\n",
      "##Chapter 3 Discussion and Questions\n",
      "##Exercises"
     ]
    },
    {
     "cell_type": "markdown",
     "metadata": {},
     "source": [
      "###Exercise 0\n",
      "Implmement the mathematical function in a python function:\n",
      "```\n",
      "f(x) = x + 1\n",
      "```\n",
      "\n",
      "Now create two new python functions , `g and h` that peform the following:\n",
      "\n",
      "```\n",
      "g(x) = 2f(x)\n",
      "h(x) = f(2x)\n",
      "```"
     ]
    },
    {
     "cell_type": "markdown",
     "metadata": {},
     "source": [
      "###Exercise 1  \n",
      "Move the last line of this program to the top, so the function call appears before the definitions. Run the program and see what error message you get.\n",
      "###Exercise 2  \n",
      "Move the function call back to the bottom and move the definition of print_lyrics after the definition of repeat_lyrics. What happens when you run this program?\n",
      "\n",
      "\n",
      "```\n",
      "def print_lyrics():\n",
      "    print \"I'm a lumberjack, and I'm okay.\"\n",
      "    print \"I sleep all night and I work all day.\"\n",
      "\n",
      "def repeat_lyrics():\n",
      "    print_lyrics()\n",
      "    print_lyrics()\n",
      "\n",
      "repeat_lyrics()\n",
      "```"
     ]
    },
    {
     "cell_type": "markdown",
     "metadata": {},
     "source": [
      "###Exercise 3  \n",
      "Python provides a built-in function called len that returns the length of a string, so the value of len('allen') is 5.\n",
      "Write a function named right_justify that takes a string named s as a parameter and prints the string with enough leading spaces so that the last letter of the string is in column 70 of the display.\n",
      "\n",
      "```\n",
      ">>> 'right_justify('allen')\n",
      "                                                                 allen\n",
      "```"
     ]
    },
    {
     "cell_type": "markdown",
     "metadata": {},
     "source": [
      "###Exercise 4  \n",
      "A function object is a value you can assign to a variable or pass as an argument. For example, do_twice is a function that takes a function object as an argument and calls it twice:\n",
      "```\n",
      "def do_twice(f):\n",
      "    f()\n",
      "    f()\n",
      "```\n",
      "\n",
      "Here\u2019s an example that uses `do_twice` to call a function named `print_spam` twice.\n",
      "\n",
      "```\n",
      "def print_spam():\n",
      "    print 'spam'\n",
      "\n",
      "do_twice(print_spam)\n",
      "```\n",
      "Type this example into a script and test it.\n",
      "Modify do_twice so that it takes two arguments, a function object and a value, and calls the function twice, passing the value as an argument.\n",
      "Write a more general version of print_spam, called print_twice, that takes a string as a parameter and prints it twice.\n",
      "Use the modified version of do_twice to call print_twice twice, passing 'spam' as an argument.\n",
      "Define a new function called do_four that takes a function object and a value and calls the function four times, passing the value as a parameter. There should be only two statements in the body of this function, not four.\n",
      "Solution: http://thinkpython.com/code/do_four.py."
     ]
    },
    {
     "cell_type": "markdown",
     "metadata": {},
     "source": [
      "###Exercise 5  \n",
      "This exercise can be done using only the statements and other features we have learned so far.\n",
      "Write a function that draws a grid like the following:\n",
      "```\n",
      "+ - - - - + - - - - +\n",
      "|         |         |\n",
      "|         |         |\n",
      "|         |         |\n",
      "|         |         |\n",
      "+ - - - - + - - - - +\n",
      "|         |         |\n",
      "|         |         |\n",
      "|         |         |\n",
      "|         |         |\n",
      "+ - - - - + - - - - +\n",
      "```\n",
      "Hint: to print more than one value on a line, you can print a comma-separated sequence:\n",
      "\n",
      "```\n",
      "print '+', '-'\n",
      "```\n",
      "\n",
      "If the sequence ends with a comma, Python leaves the line unfinished, so the value printed next appears on the same line.\n",
      "\n",
      "```\n",
      "print '+', \n",
      "print '-'\n",
      "```\n",
      "The output of these statements is `'+ -'`.\n",
      "A print statement all by itself ends the current line and goes to the next line.\n",
      "\n",
      "Write a function that draws a similar grid with four rows and four columns."
     ]
    },
    {
     "cell_type": "markdown",
     "metadata": {},
     "source": [
      "##Exercise 6\n",
      "We are going to extend Exercise 5 so that it can print grids n x n grids for any n. The steps are:\n",
      "\n",
      "    1. Write a function `get_line(symbol1, symbol2, n)` that returns a string such that `symbol1` is printed followed by four copies of `symbol2`, repeat `n` times. Finally, ensure that all symbols are sepearted by spaces. For example:\n",
      "\n",
      "```\n",
      ">>> print get_line('+', '-', 6)\n",
      "+ - - - - + - - - - + - - - - + - - - - + - - - - + - - - - +\n",
      "```\n",
      "\n",
      "    2. Write a function `get_row(n)` that returns one single row of the grid as a single string. Hint: use '\\n'. For example,\n",
      "\n",
      "```\n",
      ">>> r = get_row(4)\n",
      ">>> r\n",
      "'+ - - - - + - - - - + - - - - + - - - - +\\n|         |         |         |         |\\n|         |         |         |         |\\n|         |         |         |         |\\n|         |         |         |         |\\n'\n",
      ">>> print r\n",
      "+ - - - - + - - - - + - - - - + - - - - +\n",
      "|         |         |         |         |\n",
      "|         |         |         |         |\n",
      "|         |         |         |         |\n",
      "|         |         |         |         |\n",
      "```\n",
      "\n",
      "    3. Write a function `print_grid(n)` that returns the complete complete of `n` rows and `n` columns."
     ]
    },
    {
     "cell_type": "markdown",
     "metadata": {},
     "source": [
      "##Next session"
     ]
    }
   ],
   "metadata": {}
  }
 ]
}
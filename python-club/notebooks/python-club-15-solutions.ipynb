{
 "cells": [
  {
   "cell_type": "markdown",
   "metadata": {},
   "source": [
    "*All exercises from Downey, Allen. Think Python. Green Tea Press, 2014. http://www.greenteapress.com/thinkpython/*"
   ]
  },
  {
   "cell_type": "markdown",
   "metadata": {},
   "source": [
    "##Exercise 1 (Wendy)"
   ]
  },
  {
   "cell_type": "code",
   "execution_count": null,
   "metadata": {
    "collapsed": true
   },
   "outputs": [],
   "source": []
  },
  {
   "cell_type": "markdown",
   "metadata": {},
   "source": [
    "##Exercise 2 (Sarah)"
   ]
  },
  {
   "cell_type": "code",
   "execution_count": null,
   "metadata": {
    "collapsed": true
   },
   "outputs": [],
   "source": []
  },
  {
   "cell_type": "markdown",
   "metadata": {},
   "source": [
    "##Exercise 3 (Liu)"
   ]
  },
  {
   "cell_type": "code",
   "execution_count": 3,
   "metadata": {
    "collapsed": false
   },
   "outputs": [
    {
     "name": "stdout",
     "output_type": "stream",
     "text": [
      "<__main__.Rectangle object at 0x104999650>\n",
      "<__main__.Point instance at 0x1045097a0>\n",
      "(0, 0)\n",
      "<__main__.Rectangle object at 0x104999650>\n",
      "<__main__.Point instance at 0x1045097a0>\n",
      "(10, 10)\n",
      "<__main__.Rectangle object at 0x10450a610>\n",
      "<__main__.Point instance at 0x104509680>\n",
      "(20, 20)\n"
     ]
    }
   ],
   "source": [
    "import math\n",
    "import copy\n",
    "\n",
    "class Point():\n",
    "    \"\"\"Represents a point in 2-D space.\"\"\"\n",
    "    \n",
    "def print_point(p):\n",
    "    print '(%g, %g)' % (p.x, p.y)    \n",
    "    \n",
    "class Rectangle(object):\n",
    "    \"\"\"Represents a rectangle.\n",
    "    attributes: width, height, corner.\n",
    "    \"\"\"\n",
    "\n",
    "def move_rectangle(b, dx, dy):\n",
    "    b.corner.x += dx\n",
    "    b.corner.y += dy\n",
    "     \n",
    "def deep_move_retangle(b, dx, dy):\n",
    "    new_box = copy.deepcopy(b)\n",
    "    move_rectangle(new_box, dx, dy)\n",
    "    return new_box\n",
    "\n",
    "box = Rectangle()\n",
    "box.width = 100.0\n",
    "box.height = 200.0\n",
    "box.corner = Point()\n",
    "box.corner.x = 0.0\n",
    "box.corner.y = 0.0\n",
    "\n",
    "print box\n",
    "print box.corner\n",
    "print_point(box.corner)\n",
    "move_rectangle(box, 10, 10)\n",
    "print box\n",
    "print box.corner\n",
    "print_point(box.corner)\n",
    "moved_box = deep_move_retangle(box, 10, 10)\n",
    "print moved_box\n",
    "print moved_box.corner\n",
    "print_point(moved_box.corner)\n",
    "\n"
   ]
  },
  {
   "cell_type": "markdown",
   "metadata": {},
   "source": [
    "##Exercise 4  (Dan)"
   ]
  },
  {
   "cell_type": "code",
   "execution_count": null,
   "metadata": {
    "collapsed": true
   },
   "outputs": [],
   "source": []
  }
 ],
 "metadata": {
  "kernelspec": {
   "display_name": "Python 2",
   "language": "python",
   "name": "python2"
  },
  "language_info": {
   "codemirror_mode": {
    "name": "ipython",
    "version": 2
   },
   "file_extension": ".py",
   "mimetype": "text/x-python",
   "name": "python",
   "nbconvert_exporter": "python",
   "pygments_lexer": "ipython2",
   "version": "2.7.9"
  }
 },
 "nbformat": 4,
 "nbformat_minor": 0
}

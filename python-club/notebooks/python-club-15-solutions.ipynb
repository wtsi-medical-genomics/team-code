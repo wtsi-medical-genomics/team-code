{
 "cells": [
  {
   "cell_type": "markdown",
   "metadata": {},
   "source": [
    "*All exercises from Downey, Allen. Think Python. Green Tea Press, 2014. http://www.greenteapress.com/thinkpython/*"
   ]
  },
  {
   "cell_type": "markdown",
   "metadata": {},
   "source": [
    "##Exercise 1 (Wendy)"
   ]
  },
  {
   "cell_type": "code",
   "execution_count": null,
   "metadata": {
    "collapsed": true
   },
   "outputs": [],
   "source": []
  },
  {
   "cell_type": "markdown",
   "metadata": {},
   "source": [
    "##Exercise 2 (Sarah)"
   ]
  },
  {
   "cell_type": "code",
   "execution_count": 1,
   "metadata": {
    "collapsed": false
   },
   "outputs": [
    {
     "name": "stdout",
     "output_type": "stream",
     "text": [
      "50.0\n",
      "100.0\n"
     ]
    }
   ],
   "source": [
    "class Point(object):\n",
    "    \"\"\"Represents a point in 2-D space.\"\"\"\n",
    "    \n",
    "class Rectangle(object):\n",
    "    \"\"\"Represents a rectangle.\n",
    "    attributes: width, height, corner.\n",
    "    \"\"\"\n",
    "\n",
    "box = Rectangle()\n",
    "box.width = 100.0\n",
    "box.height = 200.0\n",
    "box.corner = Point()\n",
    "box.corner.x = 0.0\n",
    "box.corner.y = 0.0\n",
    "    \n",
    "def move_rectangle(rect,dx,dy):\n",
    "    \n",
    "    rect.corner.x = rect.corner.x + dx\n",
    "    rect.corner.y = rect.corner.y + dy\n",
    "\n",
    "move_rectangle(box, 50,100)\n",
    "print box.corner.x\n",
    "print box.corner.y"
   ]
  },
  {
   "cell_type": "markdown",
   "metadata": {},
   "source": [
    "##Exercise 3 (Liu)"
   ]
  },
  {
   "cell_type": "code",
   "execution_count": 3,
   "metadata": {
    "collapsed": false
   },
   "outputs": [
    {
     "name": "stdout",
     "output_type": "stream",
     "text": [
      "<__main__.Rectangle object at 0x104999650>\n",
      "<__main__.Point instance at 0x1045097a0>\n",
      "(0, 0)\n",
      "<__main__.Rectangle object at 0x104999650>\n",
      "<__main__.Point instance at 0x1045097a0>\n",
      "(10, 10)\n",
      "<__main__.Rectangle object at 0x10450a610>\n",
      "<__main__.Point instance at 0x104509680>\n",
      "(20, 20)\n"
     ]
    }
   ],
   "source": [
    "import math\n",
    "import copy\n",
    "\n",
    "class Point():\n",
    "    \"\"\"Represents a point in 2-D space.\"\"\"\n",
    "    \n",
    "def print_point(p):\n",
    "    print '(%g, %g)' % (p.x, p.y)    \n",
    "    \n",
    "class Rectangle(object):\n",
    "    \"\"\"Represents a rectangle.\n",
    "    attributes: width, height, corner.\n",
    "    \"\"\"\n",
    "\n",
    "def move_rectangle(b, dx, dy):\n",
    "    b.corner.x += dx\n",
    "    b.corner.y += dy\n",
    "     \n",
    "def deep_move_retangle(b, dx, dy):\n",
    "    new_box = copy.deepcopy(b)\n",
    "    move_rectangle(new_box, dx, dy)\n",
    "    return new_box\n",
    "\n",
    "box = Rectangle()\n",
    "box.width = 100.0\n",
    "box.height = 200.0\n",
    "box.corner = Point()\n",
    "box.corner.x = 0.0\n",
    "box.corner.y = 0.0\n",
    "\n",
    "print box\n",
    "print box.corner\n",
    "print_point(box.corner)\n",
    "move_rectangle(box, 10, 10)\n",
    "print box\n",
    "print box.corner\n",
    "print_point(box.corner)\n",
    "moved_box = deep_move_retangle(box, 10, 10)\n",
    "print moved_box\n",
    "print moved_box.corner\n",
    "print_point(moved_box.corner)\n",
    "\n"
   ]
  },
  {
   "cell_type": "markdown",
   "metadata": {},
   "source": [
    "##Exercise 4  (Dan)"
   ]
  },
  {
   "cell_type": "code",
   "execution_count": 1,
   "metadata": {
    "collapsed": true
   },
   "outputs": [],
   "source": [
    "from swampy.World import World\n",
    "\n",
    "class Point(object):\n",
    "    \"\"\"Represents a point in 2-D space.\"\"\"\n",
    "    \n",
    "class Rectangle(object):\n",
    "    \"\"\"Represents a rectangle. \n",
    "\n",
    "    attributes: width, height, corner.\"\"\""
   ]
  },
  {
   "cell_type": "markdown",
   "metadata": {},
   "source": [
    "###Part 1 + 2"
   ]
  },
  {
   "cell_type": "code",
   "execution_count": null,
   "metadata": {
    "collapsed": true
   },
   "outputs": [],
   "source": [
    "def draw_rectangle(canvas, rectangle):\n",
    "    lowerleft = [rectangle.corner.x, rectangle.corner.y]\n",
    "    topright = [rectangle.corner.x + rectangle.width,\n",
    "                rectangle.corner.y + rectangle.height]\n",
    "    bbox = [lowerleft, topright]\n",
    "    canvas.rectangle(bbox, outline='black', width=2, fill=rectangle.color)\n",
    "\n",
    "r = Rectangle()\n",
    "r.width = 100.0\n",
    "r.height = 200.0\n",
    "r.corner = Point()\n",
    "r.corner.x = 0.0\n",
    "r.corner.y = 0.0\n",
    "r.color = 'yellow'\n",
    "\n",
    "world = World()\n",
    "canvas = world.ca(width=500, height=500, background='white')\n",
    "draw_rectangle(canvas, r)\n",
    "world.mainloop()"
   ]
  },
  {
   "cell_type": "markdown",
   "metadata": {},
   "source": [
    "###Part 3"
   ]
  },
  {
   "cell_type": "code",
   "execution_count": 4,
   "metadata": {
    "collapsed": true
   },
   "outputs": [],
   "source": [
    "def draw_point(canvas, point):\n",
    "    canvas.circle([point.x, point.y], 2, outline=None, fill='black')\n",
    "\n",
    "p = Point()\n",
    "p.x = 10\n",
    "p.y =50\n",
    "world = World()\n",
    "canvas = world.ca(width=500, height=500, background='white')\n",
    "draw_point(canvas, p)\n",
    "world.mainloop()"
   ]
  },
  {
   "cell_type": "markdown",
   "metadata": {},
   "source": [
    "###Part 4"
   ]
  },
  {
   "cell_type": "markdown",
   "metadata": {},
   "source": [
    "###Part 5"
   ]
  }
 ],
 "metadata": {
  "kernelspec": {
   "display_name": "Python 2",
   "language": "python",
   "name": "python2"
  },
  "language_info": {
   "codemirror_mode": {
    "name": "ipython",
    "version": 2
   },
   "file_extension": ".py",
   "mimetype": "text/x-python",
   "name": "python",
   "nbconvert_exporter": "python",
   "pygments_lexer": "ipython2",
   "version": "2.7.9"
  }
 },
 "nbformat": 4,
 "nbformat_minor": 0
}

{
 "metadata": {
  "name": "",
  "signature": "sha256:4b7843d2e192db332cf491b38cd58e6532a9c3f6063678cc062bfb4407e3f011"
 },
 "nbformat": 3,
 "nbformat_minor": 0,
 "worksheets": [
  {
   "cells": [
    {
     "cell_type": "markdown",
     "metadata": {},
     "source": [
      "##Exercise 0\n",
      "In this chapter we wrote a function called polygon:"
     ]
    },
    {
     "cell_type": "code",
     "collapsed": false,
     "input": [
      "from swampy.TurtleWorld import *\n",
      "\n",
      "def polygon(t, n, length):\n",
      "    angle = 360.0 / n\n",
      "    for i in range(n):\n",
      "        fd(t, length)\n",
      "        lt(t, angle)\n",
      "        \n",
      "if __name__ == '__main__':\n",
      "    world = TurtleWorld()\n",
      "    bob = Turtle()\n",
      "    bob.delay = 0.01\n",
      "    polygon(bob, n=5, length=50)\n",
      "    wait_for_user()"
     ],
     "language": "python",
     "metadata": {},
     "outputs": []
    },
    {
     "cell_type": "markdown",
     "metadata": {},
     "source": [
      "Let's modify this so that we pass in the arguments to polygon from the command line. To do this we will use the argv function from the sys module:\n",
      "\n",
      "---\n",
      "###sys.argv\n",
      "The list of command line arguments passed to a Python script. `argv[0]` is the script name (it is operating system dependent whether this is a full pathname or not). If the command was executed using the -c command line option to the interpreter, `argv[0]` is set to the string '-c'. If no script name was passed to the Python interpreter, `argv[0]` is the empty string.\n",
      "https://docs.python.org/2/library/sys.html#sys.argv\n",
      "\n",
      "---\n",
      "What we want to be able to do is call\n",
      "```\n",
      "$ ./draw_polygon 5 50\n",
      "```\n",
      "and this will pass in 5 as the number of sides of the polygon and 50 the length of each side. (Note that in this case I have used the hashbang `#!/usr/bin/env python` and `chmod u+x`.)\n",
      "####Solution"
     ]
    },
    {
     "cell_type": "code",
     "collapsed": false,
     "input": [
      "#!/usr/bin/env python\n",
      "import sys\n",
      "from swampy.TurtleWorld import *\n",
      "\n",
      "def polygon(t, n, length):\n",
      "    angle = 360.0 / n\n",
      "    for i in range(n):\n",
      "        fd(t, length)\n",
      "        lt(t, angle)\n",
      "        \n",
      "if __name__ == '__main__':\n",
      "    world = TurtleWorld()\n",
      "    bob = Turtle()\n",
      "    bob.delay = 0.01\n",
      "    if len(sys.argv) > 1:\n",
      "        n = int(sys.argv[1])\n",
      "        l = int(sys.argv[2])\n",
      "    polygon(bob, n=5, length=50)\n",
      "    wait_for_user()"
     ],
     "language": "python",
     "metadata": {},
     "outputs": []
    },
    {
     "cell_type": "markdown",
     "metadata": {},
     "source": [
      "##Exercise 4.1.1\n",
      "Write appropriate docstrings for polygon, arc and circle.\n",
      "\n",
      "####Solution"
     ]
    },
    {
     "cell_type": "code",
     "collapsed": false,
     "input": [
      "def polyline(t, n, length, angle):\n",
      "    \"\"\"\n",
      "    Draws a n-connected lines.\n",
      "    \n",
      "    Params:\n",
      "        t (Turtle): turtle object to draw the lines\n",
      "        n (int): number of lines to draw\n",
      "        length (float): length of each line\n",
      "        angle (float): angle between successive lines\n",
      "    \n",
      "    Returns:\n",
      "        None\n",
      "    \"\"\"\n",
      "    \n",
      "    for i in range(n):\n",
      "        fd(t, length)\n",
      "        lt(t, angle)\n",
      "        \n",
      "def arc(t, r, angle):\n",
      "    \"\"\" \n",
      "    Draws the arc of a circle.\n",
      "    \n",
      "    Params:\n",
      "        t (Turtle): turtle object to draw the arc\n",
      "        r (float): radius of the arc\n",
      "        angle (float): angle subtended by the arc, in degrees\n",
      "    \n",
      "    Returns:\n",
      "        None\n",
      "    \"\"\"\n",
      "    arc_length = 2 * math.pi * r * angle / 360\n",
      "    n = int(arc_length / 3) + 1 # QUESTION: why do we need int here?\n",
      "    step_length = arc_length / n\n",
      "    step_angle = float(angle) / n # QUESTION: why do we need float here?\n",
      "    polyline(t, n, step_length, step_angle)\n",
      "\n",
      "    \n",
      "def circle(t, r):\n",
      "    \"\"\" \n",
      "    Draws a circle.\n",
      "    \n",
      "    Params:\n",
      "        t (Turtle): turtle object to draw the circle\n",
      "        r (float): radius of the circle\n",
      "    \n",
      "    Returns:\n",
      "        None\n",
      "    \"\"\"\n",
      "    arc(t, r, 360)"
     ],
     "language": "python",
     "metadata": {},
     "outputs": [],
     "prompt_number": 41
    },
    {
     "cell_type": "markdown",
     "metadata": {},
     "source": [
      "##Exercise 4.1.2\n",
      "Draw a stack diagram that shows the state of the program while executing circle(bob, radius). You can do the arithmetic by hand or add print statements to the code."
     ]
    },
    {
     "cell_type": "markdown",
     "metadata": {},
     "source": [
      "##Exercise 4.2\n",
      "Write an appropriately general set of functions that can draw flowers as in Figure 4.1.\n",
      "\n",
      "####Solution"
     ]
    },
    {
     "cell_type": "code",
     "collapsed": false,
     "input": [
      "def petal(t, r, angle):\n",
      "    \"\"\"\n",
      "    Draws a single flower petal.\n",
      "    \n",
      "    Params:\n",
      "        t (Turtle): turtle object to draw the petal\n",
      "        r (float): radius of the arcs that constitute the petal\n",
      "        angle (float): the angle between the petals\n",
      "\n",
      "    Returns:\n",
      "        None\n",
      "    \"\"\"\n",
      "    \n",
      "    for i in range(2):\n",
      "        arc(t, r, angle)\n",
      "        lt(t, 180 - angle)\n",
      "\n",
      "def flower(t, n, r, angle):\n",
      "    \"\"\"\n",
      "    Draws a single flower petal.\n",
      "    \n",
      "    Params:\n",
      "        t (Turtle): turtle object to draw the petal\n",
      "        r (float): radius of the arcs that constitute the petal\n",
      "        angle (float): the angle between the petals\n",
      "\n",
      "    Returns:\n",
      "        None\n",
      "    \"\"\"\n",
      "    for i in range(n):\n",
      "        petal(t, r, angle)\n",
      "        lt(t, 360.0/n)\n",
      "    "
     ],
     "language": "python",
     "metadata": {},
     "outputs": []
    },
    {
     "cell_type": "code",
     "collapsed": false,
     "input": [
      "world = TurtleWorld()\n",
      "bob = Turtle()\n",
      "bob.delay = 0.01\n",
      "flower(bob, n=10, r=400, angle=25)\n",
      "wait_for_user()"
     ],
     "language": "python",
     "metadata": {},
     "outputs": []
    },
    {
     "cell_type": "markdown",
     "metadata": {},
     "source": [
      "##Exercise 4.3\n",
      "Write an appropriately general set of functions that can draw shapes as in Figure 4.2."
     ]
    },
    {
     "cell_type": "markdown",
     "metadata": {},
     "source": [
      "See http://thinkpython.com/code/pie.py for solution."
     ]
    },
    {
     "cell_type": "code",
     "collapsed": false,
     "input": [],
     "language": "python",
     "metadata": {},
     "outputs": []
    }
   ],
   "metadata": {}
  }
 ]
}
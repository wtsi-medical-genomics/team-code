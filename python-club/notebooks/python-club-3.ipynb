{
 "metadata": {
  "name": "",
  "signature": "sha256:73e626de55d027931db7417e0ad8fd235366848cb19da6cda428ddbc993e9e82"
 },
 "nbformat": 3,
 "nbformat_minor": 0,
 "worksheets": [
  {
   "cells": [
    {
     "cell_type": "markdown",
     "metadata": {},
     "source": [
      "##Exercise -1\n",
      "Write a program that prints n lines with n repetitions of a character. For example\n",
      "\n",
      "```\n",
      "repeat_character(character='*', n=5)\n",
      "\n",
      "*\n",
      "**\n",
      "***\n",
      "****\n",
      "*****\n",
      "```"
     ]
    },
    {
     "cell_type": "markdown",
     "metadata": {},
     "source": [
      "##Exercise 0\n",
      "In this chapter we wrote a function called polygon:"
     ]
    },
    {
     "cell_type": "code",
     "collapsed": false,
     "input": [
      "from swampy.TurtleWorld import *\n",
      "\n",
      "def polygon(t, n, length):\n",
      "    angle = 360.0 / n\n",
      "    for i in range(n):\n",
      "        fd(t, length)\n",
      "        lt(t, angle)\n",
      "        \n",
      "if __name__ == '__main__':\n",
      "    world = TurtleWorld()\n",
      "    bob = Turtle()\n",
      "    bob.delay = 0.01\n",
      "    polygon(bob, n=5, length=50)\n",
      "    wait_for_user()"
     ],
     "language": "python",
     "metadata": {},
     "outputs": [],
     "prompt_number": 47
    },
    {
     "cell_type": "markdown",
     "metadata": {},
     "source": [
      "Let's modify this so that we pass in the arguments to polygon from the command line. To do this we will use the argv function from the sys module:\n",
      "\n",
      "---\n",
      "###sys.argv\n",
      "The list of command line arguments passed to a Python script. `argv[0]` is the script name (it is operating system dependent whether this is a full pathname or not). If the command was executed using the -c command line option to the interpreter, `argv[0]` is set to the string '-c'. If no script name was passed to the Python interpreter, `argv[0]` is the empty string.\n",
      "https://docs.python.org/2/library/sys.html#sys.argv\n",
      "\n",
      "---\n",
      "What we want to be able to do is call\n",
      "```\n",
      "$ ./draw_polygon 5 50\n",
      "```\n",
      "and this will pass in 5 as the number of sides of the polygon and 50 the length of each side. (Note that in this case I have used the hashbang `#!/usr/bin/env python` and `chmod u+x`.)"
     ]
    },
    {
     "cell_type": "markdown",
     "metadata": {},
     "source": [
      "##Exercise 4.1.1\n",
      "Write appropriate docstrings for polygon, arc and circle."
     ]
    },
    {
     "cell_type": "markdown",
     "metadata": {},
     "source": [
      "##Exercise 4.1.2\n",
      "Draw a stack diagram that shows the state of the program while executing circle(bob, radius). You can do the arithmetic by hand or add print statements to the code."
     ]
    },
    {
     "cell_type": "markdown",
     "metadata": {},
     "source": [
      "##Exercise 4.2\n",
      "Write an appropriately general set of functions that can draw flowers as in Figure 4.1."
     ]
    },
    {
     "cell_type": "markdown",
     "metadata": {},
     "source": [
      "##Exercise 4.3\n",
      "Write an appropriately general set of functions that can draw shapes as in Figure 4.2."
     ]
    },
    {
     "cell_type": "code",
     "collapsed": false,
     "input": [],
     "language": "python",
     "metadata": {},
     "outputs": []
    },
    {
     "cell_type": "code",
     "collapsed": false,
     "input": [],
     "language": "python",
     "metadata": {},
     "outputs": []
    }
   ],
   "metadata": {}
  }
 ]
}
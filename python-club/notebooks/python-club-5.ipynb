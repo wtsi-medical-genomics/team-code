{
 "metadata": {
  "name": "",
  "signature": "sha256:712872538764a1e112f71ef9f7d9b03bfabcc3d9f5389b2279f12125fcf12ac6"
 },
 "nbformat": 3,
 "nbformat_minor": 0,
 "worksheets": [
  {
   "cells": [
    {
     "cell_type": "markdown",
     "metadata": {},
     "source": [
      "#Solution to this week's problem"
     ]
    },
    {
     "cell_type": "code",
     "collapsed": false,
     "input": [
      "def sum_numbers_i(n):\n",
      "    if n == 0:\n",
      "        return 0\n",
      "    else:\n",
      "        return n + sum_numbers_i(n - 1)\n",
      "\n",
      "def sum_numbers_ii(n):\n",
      "    return sum(range(n + 1))\n",
      "\n",
      "def sum_numbers_iii(n):\n",
      "    return n * (n + 1) / 2"
     ],
     "language": "python",
     "metadata": {},
     "outputs": [],
     "prompt_number": 11
    },
    {
     "cell_type": "code",
     "collapsed": false,
     "input": [
      "%timeit sum_numbers_i(500)"
     ],
     "language": "python",
     "metadata": {},
     "outputs": [
      {
       "output_type": "stream",
       "stream": "stdout",
       "text": [
        "10000 loops, best of 3: 107 \u00b5s per loop\n"
       ]
      }
     ],
     "prompt_number": 12
    },
    {
     "cell_type": "code",
     "collapsed": false,
     "input": [
      "%timeit sum_numbers_ii(500)"
     ],
     "language": "python",
     "metadata": {},
     "outputs": [
      {
       "output_type": "stream",
       "stream": "stdout",
       "text": [
        "100000 loops, best of 3: 7.63 \u00b5s per loop\n"
       ]
      }
     ],
     "prompt_number": 13
    },
    {
     "cell_type": "code",
     "collapsed": false,
     "input": [
      "%timeit sum_numbers_iii(500)"
     ],
     "language": "python",
     "metadata": {},
     "outputs": [
      {
       "output_type": "stream",
       "stream": "stdout",
       "text": [
        "1000000 loops, best of 3: 265 ns per loop\n"
       ]
      }
     ],
     "prompt_number": 14
    },
    {
     "cell_type": "markdown",
     "metadata": {},
     "source": [
      "#Efficient file handling\n",
      "\n",
      "Lustre is designed for **big read/writes**. If you can read the complete file at once, then do so. Repeatedly reading a single file one line at a time can be slow.\n",
      "\n",
      "###Example\n",
      "I have a file of 1's located in my scratch space. Reading it one line at a time:"
     ]
    },
    {
     "cell_type": "code",
     "collapsed": false,
     "input": [
      "def read_ones_ver1():\n",
      "    \"\"\"\n",
      "    Read the file one line at a time . Your allocated RAM better be big enough.\n",
      "    \"\"\"\n",
      "    with open('/lustre/scratch113/teams/barrett/users/dr9/ones.txt') as f:\n",
      "        for line in f:\n",
      "            times2 = int(line) * 2"
     ],
     "language": "python",
     "metadata": {},
     "outputs": [],
     "prompt_number": 7
    },
    {
     "cell_type": "markdown",
     "metadata": {},
     "source": [
      "####Farm Results\n",
      "\n",
      "```\n",
      "Fri Feb 13 12:17:18: Started on <bc-30-3-08>, Execution Home </nfs/users/nfs_d/dr9>, Execution CWD </nfs/users/nfs_d/dr9>;\n",
      "Fri Feb 13 12:17:42: Done successfully. The CPU time used is 23.5 seconds.\n",
      "Max Memory: 11 MB\n",
      "Average Memory: 11.00 MB\n",
      "```\n",
      "But if I use the `read()` function, the whole file is read:"
     ]
    },
    {
     "cell_type": "code",
     "collapsed": false,
     "input": [
      "def read_ones_ver2():\n",
      "    \"\"\"\n",
      "    Read the whole file at once. Your allocated RAM better be big enough.\n",
      "    \"\"\"\n",
      "    with open('/lustre/scratch113/teams/barrett/users/dr9/ones.txt') as f:\n",
      "        lines = f.read()\n",
      "\n",
      "    for line in lines:\n",
      "        times2 = int(line) * 2"
     ],
     "language": "python",
     "metadata": {},
     "outputs": [],
     "prompt_number": 5
    },
    {
     "cell_type": "markdown",
     "metadata": {},
     "source": [
      "####Results\n",
      "```\n",
      "Fri Feb 13 12:16:04: Started on <bc-29-2-15>, Execution Home </nfs/users/nfs_d/dr9>, Execution CWD </nfs/users/nfs_d/dr9>;\n",
      "Fri Feb 13 12:16:08: Exited with exit code 1. The CPU time used is 2.5 seconds.\n",
      "Max Memory: 165 MB\n",
      "Average Memory: 165.00 MB\n",
      "```\n",
      "\n",
      "#VCF\n",
      "Variant Call Format (VCF) files are text based files (though often compressed) that contain variant calls and associated information.\n",
      "\n",
      "The general structure is:\n",
      "\n",
      "```\n",
      "##Meta-information lines\n",
      ".\n",
      ".\n",
      ".\n",
      "#A header line\n",
      "variant call 1\n",
      "variant call 2\n",
      ".\n",
      ".\n",
      ".\n",
      "variant call n\n",
      "```\n",
      "\n",
      "###Meta-information\n",
      "These lines contain information that includes:\n",
      "\n",
      "* the version of the VCF file\n",
      "* what program created the file\n",
      "* the format of some of the attributes contained within each variant call\n",
      "\n",
      "The following is an example of meta-information lines:\n",
      "\n",
      "```\n",
      "##fileformat=VCFv4.0\n",
      "##fileDate=20090805\n",
      "##source=myImputationProgramV3.1\n",
      "##reference=1000GenomesPilot-NCBI36\n",
      "##phasing=partial\n",
      "##INFO=<ID=NS,Number=1,Type=Integer,Description=\"Number of Samples With Data\">\n",
      "##INFO=<ID=DP,Number=1,Type=Integer,Description=\"Total Depth\">\n",
      "##INFO=<ID=AF,Number=.,Type=Float,Description=\"Allele Frequency\">\n",
      "##INFO=<ID=AA,Number=1,Type=String,Description=\"Ancestral Allele\">\n",
      "##INFO=<ID=DB,Number=0,Type=Flag,Description=\"dbSNP membership, build 129\">\n",
      "##INFO=<ID=H2,Number=0,Type=Flag,Description=\"HapMap2 membership\">\n",
      "##FILTER=<ID=q10,Description=\"Quality below 10\">\n",
      "##FILTER=<ID=s50,Description=\"Less than 50% of samples have data\">\n",
      "##FORMAT=<ID=GT,Number=1,Type=String,Description=\"Genotype\">\n",
      "##FORMAT=<ID=GQ,Number=1,Type=Integer,Description=\"Genotype Quality\">\n",
      "##FORMAT=<ID=DP,Number=1,Type=Integer,Description=\"Read Depth\">\n",
      "##FORMAT=<ID=HQ,Number=2,Type=Integer,Description=\"Haplotype Quality\">\n",
      "```\n",
      "\n",
      "###Header line\n",
      "The header line has the following tab-delimited fields :\n",
      "\n",
      "```\n",
      "CHROM\n",
      "POS\n",
      "ID\n",
      "REF\n",
      "ALT\n",
      "QUAL\n",
      "FILTER\n",
      "INFO\n",
      "```\n",
      "As well as the standard fields, if genotype data is present in the file, these are followed by a FORMAT column header, then an arbitrary number of sample IDs. For example:\n",
      "\n",
      "```\n",
      "#CHROM   POS   ID   REF ALT    QUAL   FILTER   INFO   FORMAT   NA00001   NA00002   NA00003\n",
      "```\n",
      "\n",
      "###Variant calls\n",
      "The rest of the the file consists of variant calls with data filling in each of the header line fields. As with the header line, each entry is seperated by tabs. Furthermore, some of these entries are contain lists of information seperated by various characters (, and ;). An example of some variants calls:\n",
      "\n",
      "```\n",
      "20     14370   rs6054257 G      A       29   PASS   NS=3;DP=14;AF=0.5;DB;H2           GT:GQ:DP:HQ 0|0:48:1:51,51 1|0:48:8:51,51 1/1:43:5:.,.\n",
      "20     17330   .         T      A       3    q10    NS=3;DP=11;AF=0.017               GT:GQ:DP:HQ 0|0:49:3:58,50 0|1:3:5:65,3   0/0:41:3\n",
      "20     1110696 rs6040355 A      G,T     67   PASS   NS=2;DP=10;AF=0.333,0.667;AA=T;DB GT:GQ:DP:HQ 1|2:21:6:23,27 2|1:2:0:18,2   2/2:35:4\n",
      "20     1230237 .         T      .       47   PASS   NS=3;DP=13;AA=T                   GT:GQ:DP:HQ 0|0:54:7:56,60 0|0:48:4:51,51 0/0:61:2\n",
      "20     1234567 microsat1 GTCT   G,GTACT 50   PASS   NS=3;DP=9;AA=G                    GT:GQ:DP    0/1:35:4       0/2:17:2       1/1:40:3\n",
      "```\n",
      "\n",
      "The examples cited are from the following pages which also contains more in depth information\n",
      "* http://samtools.github.io/hts-specs/\n",
      "* http://www.1000genomes.org/wiki/Analysis/Variant%20Call%20Format/vcf-variant-call-format-version-40\n",
      "\n",
      "\n",
      "---\n",
      "\n",
      "#The problem\n",
      "You are trying to find the variant call at position 1110696 along with it's ancestral allele in a VCF file.\n",
      "\n",
      "#Solutions\n",
      "**Solution 1:** Write a parser to split each line by '\\t', count the number of columns until you reach your desired field of interest. If this column is semicolon delimited, split on this character. Search the results until you find datapoint.\n",
      "\n",
      "**Solution 2:** Use PyVCF\n",
      "\n",
      "---\n",
      "\n",
      "##PyVCF\n",
      "\n",
      "PyVCF is a convenient package that parses Variant Call Format files into objects for easy data access. For example, we can iterate over all of the lines in this file with the following code:"
     ]
    },
    {
     "cell_type": "code",
     "collapsed": false,
     "input": [
      "import vcf\n",
      "\n",
      "vcf_reader = vcf.Reader(open('/Users/dr9/Developer/PyVCF/vcf/test/example-4.0.vcf', 'r'))\n",
      "\n",
      "for record in vcf_reader:\n",
      "\tprint record"
     ],
     "language": "python",
     "metadata": {},
     "outputs": [
      {
       "output_type": "stream",
       "stream": "stdout",
       "text": [
        "Record(CHROM=20, POS=14370, REF=G, ALT=[A])\n",
        "Record(CHROM=20, POS=17330, REF=T, ALT=[A])\n",
        "Record(CHROM=20, POS=1110696, REF=A, ALT=[G, T])\n",
        "Record(CHROM=20, POS=1230237, REF=T, ALT=[None])\n",
        "Record(CHROM=20, POS=1234567, REF=GTCT, ALT=[G, GTACT])\n"
       ]
      }
     ],
     "prompt_number": 10
    },
    {
     "cell_type": "markdown",
     "metadata": {},
     "source": [
      "The solution to our problem is therefore:"
     ]
    },
    {
     "cell_type": "code",
     "collapsed": false,
     "input": [
      "import vcf\n",
      "\n",
      "vcf_reader = vcf.Reader(open('/Users/dr9/Developer/PyVCF/vcf/test/example-4.0.vcf', 'r'))\n",
      "\n",
      "for record in vcf_reader:\n",
      "    if record.POS == 1110696:\n",
      "        print record.INFO['AA']"
     ],
     "language": "python",
     "metadata": {},
     "outputs": [
      {
       "output_type": "stream",
       "stream": "stdout",
       "text": [
        "T\n"
       ]
      }
     ],
     "prompt_number": 27
    },
    {
     "cell_type": "markdown",
     "metadata": {},
     "source": [
      "Each `Record` gives us all of the information with that variant call. This object has all sorts of methods and attributes to make our lives easier.\n",
      "\n",
      "###Exercise 1.\n",
      "Use the `dir` function lets checkout all of the available attributes for a record.\n",
      "\n",
      "Hint:\n",
      "The `for` loop above is not neccessary. We also just use: \n",
      "\n",
      "```\n",
      "rec = vcf_reader.next()\n",
      "```"
     ]
    },
    {
     "cell_type": "markdown",
     "metadata": {},
     "source": [
      "###Exercise 2\n",
      "Calcuate the proprtion of variant calls in `/lustre/scratch113/teams/barrett/users/dr9/vcfs/example-4.0.vcf` that pass the filters."
     ]
    },
    {
     "cell_type": "markdown",
     "metadata": {},
     "source": [
      "We can get a list of dictionaries containing the parsed sample column and record using the `sample`attribute:"
     ]
    },
    {
     "cell_type": "code",
     "collapsed": false,
     "input": [
      "vcf_reader = vcf.Reader(open('/Users/dr9/Developer/PyVCF/vcf/test/example-4.0.vcf', 'r'))\n",
      "record = vcf_reader.next()\n",
      "for sample in record.samples:\n",
      "    print sample['GT']"
     ],
     "language": "python",
     "metadata": {},
     "outputs": [
      {
       "output_type": "stream",
       "stream": "stdout",
       "text": [
        "0|0\n",
        "1|0\n",
        "1/1\n"
       ]
      }
     ],
     "prompt_number": 36
    },
    {
     "cell_type": "markdown",
     "metadata": {},
     "source": [
      "The genotypes are represented by `Call` objects, which have three attributes\n",
      "\n",
      "* the corresponding Record site\n",
      "* the sample name in sample\n",
      "* a dictionary of call data in data\n",
      "\n",
      "As seen below:"
     ]
    },
    {
     "cell_type": "code",
     "collapsed": false,
     "input": [
      "vcf_reader = vcf.Reader(open('/Users/dr9/Developer/PyVCF/vcf/test/example-4.0.vcf', 'r'))\n",
      "record = vcf_reader.next()\n",
      "call = record.genotype('NA00001')\n",
      "print call.site "
     ],
     "language": "python",
     "metadata": {},
     "outputs": [
      {
       "output_type": "stream",
       "stream": "stdout",
       "text": [
        "Record(CHROM=20, POS=14370, REF=G, ALT=[A])\n"
       ]
      }
     ],
     "prompt_number": 37
    }
   ],
   "metadata": {}
  }
 ]
}
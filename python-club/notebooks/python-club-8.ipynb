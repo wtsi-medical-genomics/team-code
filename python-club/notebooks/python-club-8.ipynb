{
 "metadata": {
  "name": "",
  "signature": "sha256:b0506234fc76d1332baf646afcbf93b4590311890d6ff08254e88a1d910cedba"
 },
 "nbformat": 3,
 "nbformat_minor": 0,
 "worksheets": [
  {
   "cells": [
    {
     "cell_type": "markdown",
     "metadata": {},
     "source": [
      "*All exercises from Downey, Allen. Think Python. Green Tea Press, 2014. http://www.greenteapress.com/thinkpython/*"
     ]
    },
    {
     "cell_type": "markdown",
     "metadata": {},
     "source": [
      "##Exercise 8.1\n",
      "Write a function that takes a string as an argument and displays the letters backward, one per line."
     ]
    },
    {
     "cell_type": "markdown",
     "metadata": {},
     "source": [
      "##Exercise 8.2\n",
      "Modify the following programming to print Jack, Kack, Lack, Mack, Nack, Ouack, Pack, and Quack\n",
      "\n",
      "```\n",
      "prefixes = 'JKLMNOPQ'\n",
      "suffix = 'ack'\n",
      "\n",
      "for letter in prefixes:\n",
      "    print letter + suffix\n",
      "```"
     ]
    },
    {
     "cell_type": "markdown",
     "metadata": {},
     "source": [
      "##Exercise 8.3\n",
      "Given that fruit is a string, what does fruit[:] mean?"
     ]
    },
    {
     "cell_type": "markdown",
     "metadata": {},
     "source": [
      "##Exercise 8.4\n",
      "Modify `find` so that it has a third parameter, the index in word where it should start looking.\n",
      "\n",
      "```\n",
      "def find(word, letter):\n",
      "    index = 0\n",
      "    while index < len(word):\n",
      "        if word[index] == letter:\n",
      "            return index\n",
      "        index = index + 1\n",
      "    return -1\n",
      "```"
     ]
    },
    {
     "cell_type": "markdown",
     "metadata": {},
     "source": [
      "##Exercise 8.5\n",
      "Encapsulate this code in a function named `count`, and generalize it so that it accepts the string and the letter as arguments."
     ]
    },
    {
     "cell_type": "markdown",
     "metadata": {},
     "source": [
      "##Exercise 8.6\n",
      "Rewrite this function so that instead of traversing the string, it uses the three-parameter version of find from the previous section."
     ]
    },
    {
     "cell_type": "markdown",
     "metadata": {},
     "source": [
      "##Exercise 8.7\n",
      "There is a string method called `count` that is similar to the function in the previous exercise. Read the documentation of this method and write an invocation that counts the number of as in 'banana'."
     ]
    },
    {
     "cell_type": "markdown",
     "metadata": {},
     "source": [
      "##Exercise 8.8\n",
      "Read the documentation of the string methods at http://docs.python.org/2/library/stdtypes.html#string-methods. You might want to experiment with some of them to make sure you understand how they work. strip and replace are particularly useful."
     ]
    },
    {
     "cell_type": "markdown",
     "metadata": {},
     "source": [
      "##Exercise 8.10\n",
      "A string slice can take a third index that specifies the \u201cstep size;\u201d that is, the number of spaces between successive characters. A step size of 2 means every other character; 3 means every third, etc.\n",
      "\n",
      "```\n",
      ">>> fruit = 'banana'\n",
      ">>> fruit[0:5:2]\n",
      "'bnn'\n",
      "```\n",
      "\n",
      "A step size of `-1` goes through the word backwards, so the `slice [::-1]` generates a reversed string. Use this idiom to write a one-line version of is_palindrome from Exercise 7.6."
     ]
    },
    {
     "cell_type": "markdown",
     "metadata": {},
     "source": [
      "##Exercise 8.12\n",
      "ROT13 is a weak form of encryption that involves \u201crotating\u201d each letter in a word by 13 places. To rotate a letter means to shift it through the alphabet, wrapping around to the beginning if necessary, so \u2019A\u2019 shifted by 3 is \u2019D\u2019 and \u2019Z\u2019 shifted by 1 is \u2019A\u2019.\n",
      "Write a function called rotate_word that takes a string and an integer as parameters, and that returns a new string that contains the letters from the original string \u201crotated\u201d by the given amount.\n",
      "\n",
      "For example, \u201ccheer\u201d rotated by 7 is \u201cjolly\u201d and \u201cmelon\u201d rotated by -10 is \u201ccubed\u201d.\n",
      "\n",
      "You might want to use the built-in functions ord, which converts a character to a numeric code, and chr, which converts numeric codes to characters."
     ]
    }
   ],
   "metadata": {}
  }
 ]
}
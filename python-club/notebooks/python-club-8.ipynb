{
 "metadata": {
  "name": "",
  "signature": "sha256:dd2e10e7a273480b96ef95b68266371cad9590655e504ddf3e078d8982bb4d63"
 },
 "nbformat": 3,
 "nbformat_minor": 0,
 "worksheets": [
  {
   "cells": [
    {
     "cell_type": "markdown",
     "metadata": {},
     "source": [
      "*All exercises from Downey, Allen. Think Python. Green Tea Press, 2014. http://www.greenteapress.com/thinkpython/*"
     ]
    },
    {
     "cell_type": "markdown",
     "metadata": {},
     "source": [
      "##Exercise 8.1\n",
      "Write a function that takes a string as an argument and displays the letters backward, one per line."
     ]
    },
    {
     "cell_type": "markdown",
     "metadata": {},
     "source": [
      "##Exercise 8.2\n",
      "Modify the following programming to print Jack, Kack, Lack, Mack, Nack, Ouack, Pack, and Quack\n",
      "\n",
      "```\n",
      "prefixes = 'JKLMNOPQ'\n",
      "suffix = 'ack'\n",
      "\n",
      "for letter in prefixes:\n",
      "    print letter + suffix\n",
      "```"
     ]
    },
    {
     "cell_type": "markdown",
     "metadata": {},
     "source": [
      "##Exercise 8.3\n",
      "Given that fruit is a string, what does fruit[:] mean?"
     ]
    },
    {
     "cell_type": "markdown",
     "metadata": {},
     "source": [
      "##Exercise 8.4\n",
      "Modify `find` so that it has a third parameter, the index in word where it should start looking.\n",
      "\n",
      "```\n",
      "def find(word, letter):\n",
      "    index = 0\n",
      "    while index < len(word):\n",
      "        if word[index] == letter:\n",
      "            return index\n",
      "        index = index + 1\n",
      "    return -1\n",
      "```"
     ]
    },
    {
     "cell_type": "markdown",
     "metadata": {},
     "source": [
      "##Exercise 8.5\n",
      "Encapsulate this code in a function named `count`, and generalize it so that it accepts the string and the letter as arguments."
     ]
    },
    {
     "cell_type": "markdown",
     "metadata": {},
     "source": [
      "##Exercise 8.6\n",
      "Rewrite this function so that instead of traversing the string, it uses the three-parameter version of find from the previous section."
     ]
    },
    {
     "cell_type": "markdown",
     "metadata": {},
     "source": [
      "##Exercise 8.7\n",
      "There is a string method called `count` that is similar to the function in the previous exercise. Read the documentation of this method and write an invocation that counts the number of as in 'banana'."
     ]
    },
    {
     "cell_type": "markdown",
     "metadata": {},
     "source": [
      "##Exercise 8.8\n",
      "Read the documentation of the string methods at http://docs.python.org/2/library/stdtypes.html#string-methods. You might want to experiment with some of them to make sure you understand how they work. strip and replace are particularly useful."
     ]
    }
   ],
   "metadata": {}
  }
 ]
}
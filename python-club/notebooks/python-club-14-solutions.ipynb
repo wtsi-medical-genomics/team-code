{
 "cells": [
  {
   "cell_type": "markdown",
   "metadata": {},
   "source": [
    "##Exercise 1 (Sarah)"
   ]
  },
  {
   "cell_type": "code",
   "execution_count": 51,
   "metadata": {
    "collapsed": false
   },
   "outputs": [
    {
     "name": "stdout",
     "output_type": "stream",
     "text": [
      "/Users/dr9/Developer/team-code/python-club/notebooks/a.txt\n",
      "/Users/dr9/Developer/team-code/python-club/notebooks/anagram_sets.py\n",
      "/Users/dr9/Developer/team-code/python-club/notebooks/anagram_sets.pyc\n",
      "/Users/dr9/Developer/team-code/python-club/notebooks/anagrams.db.db\n",
      "/Users/dr9/Developer/team-code/python-club/notebooks/b\n",
      "/Users/dr9/Developer/team-code/python-club/notebooks/c06d\n",
      "/Users/dr9/Developer/team-code/python-club/notebooks/patterns.ipynb\n",
      "/Users/dr9/Developer/team-code/python-club/notebooks/python-club-1.ipynb\n",
      "/Users/dr9/Developer/team-code/python-club/notebooks/python-club-10-solutions.ipynb\n",
      "/Users/dr9/Developer/team-code/python-club/notebooks/python-club-10.ipynb\n",
      "/Users/dr9/Developer/team-code/python-club/notebooks/python-club-11-solutions-final.ipynb\n",
      "/Users/dr9/Developer/team-code/python-club/notebooks/python-club-11-solutions.ipynb\n",
      "/Users/dr9/Developer/team-code/python-club/notebooks/python-club-11.ipynb\n",
      "/Users/dr9/Developer/team-code/python-club/notebooks/python-club-12-solutions-final.ipynb\n",
      "/Users/dr9/Developer/team-code/python-club/notebooks/python-club-12-solutions.ipynb\n",
      "/Users/dr9/Developer/team-code/python-club/notebooks/python-club-12.ipynb\n",
      "/Users/dr9/Developer/team-code/python-club/notebooks/python-club-14-solutions-Copy1.ipynb\n",
      "/Users/dr9/Developer/team-code/python-club/notebooks/python-club-14-solutions.ipynb\n",
      "/Users/dr9/Developer/team-code/python-club/notebooks/python-club-14.ipynb\n",
      "/Users/dr9/Developer/team-code/python-club/notebooks/python-club-2-solutions.ipynb\n",
      "/Users/dr9/Developer/team-code/python-club/notebooks/python-club-2.ipynb\n",
      "/Users/dr9/Developer/team-code/python-club/notebooks/python-club-3-solutions.ipynb\n",
      "/Users/dr9/Developer/team-code/python-club/notebooks/python-club-3.ipynb\n",
      "/Users/dr9/Developer/team-code/python-club/notebooks/python-club-4-solutions.ipynb\n",
      "/Users/dr9/Developer/team-code/python-club/notebooks/python-club-4.ipynb\n",
      "/Users/dr9/Developer/team-code/python-club/notebooks/python-club-5-solutions.ipynb\n",
      "/Users/dr9/Developer/team-code/python-club/notebooks/python-club-5.ipynb\n",
      "/Users/dr9/Developer/team-code/python-club/notebooks/python-club-6-solutions.ipynb\n",
      "/Users/dr9/Developer/team-code/python-club/notebooks/python-club-6.ipynb\n",
      "/Users/dr9/Developer/team-code/python-club/notebooks/python-club-7-solutions.ipynb\n",
      "/Users/dr9/Developer/team-code/python-club/notebooks/python-club-7.ipynb\n",
      "/Users/dr9/Developer/team-code/python-club/notebooks/python-club-8-solutions.ipynb\n",
      "/Users/dr9/Developer/team-code/python-club/notebooks/python-club-8.ipynb\n",
      "/Users/dr9/Developer/team-code/python-club/notebooks/python-club-9.ipynb\n",
      "/Users/dr9/Developer/team-code/python-club/notebooks/python-club-solutions-9.ipynb\n",
      "/Users/dr9/Developer/team-code/python-club/notebooks/stopwatch.ipynb\n",
      "/Users/dr9/Developer/team-code/python-club/notebooks/test.txt\n",
      "/Users/dr9/Developer/team-code/python-club/notebooks/Untitled.ipynb\n",
      "/Users/dr9/Developer/team-code/python-club/notebooks/Untitled2-Copy0.ipynb\n",
      "/Users/dr9/Developer/team-code/python-club/notebooks/Vagrantfile\n",
      "/Users/dr9/Developer/team-code/python-club/notebooks/words.txt\n",
      "/Users/dr9/Developer/team-code/python-club/notebooks/.ipynb_checkpoints/parsing-hits-checkpoint.ipynb\n",
      "/Users/dr9/Developer/team-code/python-club/notebooks/.ipynb_checkpoints/patterns-checkpoint.ipynb\n",
      "/Users/dr9/Developer/team-code/python-club/notebooks/.ipynb_checkpoints/python-club-1-checkpoint.ipynb\n",
      "/Users/dr9/Developer/team-code/python-club/notebooks/.ipynb_checkpoints/python-club-10-checkpoint.ipynb\n",
      "/Users/dr9/Developer/team-code/python-club/notebooks/.ipynb_checkpoints/python-club-10-solutions-checkpoint.ipynb\n",
      "/Users/dr9/Developer/team-code/python-club/notebooks/.ipynb_checkpoints/python-club-11-checkpoint.ipynb\n",
      "/Users/dr9/Developer/team-code/python-club/notebooks/.ipynb_checkpoints/python-club-11-solutions-checkpoint.ipynb\n",
      "/Users/dr9/Developer/team-code/python-club/notebooks/.ipynb_checkpoints/python-club-11-solutions-final-checkpoint.ipynb\n",
      "/Users/dr9/Developer/team-code/python-club/notebooks/.ipynb_checkpoints/python-club-12-checkpoint.ipynb\n",
      "/Users/dr9/Developer/team-code/python-club/notebooks/.ipynb_checkpoints/python-club-12-solutions-checkpoint.ipynb\n",
      "/Users/dr9/Developer/team-code/python-club/notebooks/.ipynb_checkpoints/python-club-12-solutions-final-checkpoint.ipynb\n",
      "/Users/dr9/Developer/team-code/python-club/notebooks/.ipynb_checkpoints/python-club-14-checkpoint.ipynb\n",
      "/Users/dr9/Developer/team-code/python-club/notebooks/.ipynb_checkpoints/python-club-14-solutions-checkpoint.ipynb\n",
      "/Users/dr9/Developer/team-code/python-club/notebooks/.ipynb_checkpoints/python-club-14-solutions-Copy1-checkpoint.ipynb\n",
      "/Users/dr9/Developer/team-code/python-club/notebooks/.ipynb_checkpoints/python-club-2-checkpoint.ipynb\n",
      "/Users/dr9/Developer/team-code/python-club/notebooks/.ipynb_checkpoints/python-club-2-solutions-checkpoint.ipynb\n",
      "/Users/dr9/Developer/team-code/python-club/notebooks/.ipynb_checkpoints/python-club-3-checkpoint.ipynb\n",
      "/Users/dr9/Developer/team-code/python-club/notebooks/.ipynb_checkpoints/python-club-3-solutions-checkpoint.ipynb\n",
      "/Users/dr9/Developer/team-code/python-club/notebooks/.ipynb_checkpoints/python-club-4-checkpoint.ipynb\n",
      "/Users/dr9/Developer/team-code/python-club/notebooks/.ipynb_checkpoints/python-club-4-solutions-checkpoint.ipynb\n",
      "/Users/dr9/Developer/team-code/python-club/notebooks/.ipynb_checkpoints/python-club-5-checkpoint.ipynb\n",
      "/Users/dr9/Developer/team-code/python-club/notebooks/.ipynb_checkpoints/python-club-5-solutions-checkpoint.ipynb\n",
      "/Users/dr9/Developer/team-code/python-club/notebooks/.ipynb_checkpoints/python-club-6-checkpoint.ipynb\n",
      "/Users/dr9/Developer/team-code/python-club/notebooks/.ipynb_checkpoints/python-club-6-solutions-checkpoint.ipynb\n",
      "/Users/dr9/Developer/team-code/python-club/notebooks/.ipynb_checkpoints/python-club-7-checkpoint.ipynb\n",
      "/Users/dr9/Developer/team-code/python-club/notebooks/.ipynb_checkpoints/python-club-7-solutions-checkpoint.ipynb\n",
      "/Users/dr9/Developer/team-code/python-club/notebooks/.ipynb_checkpoints/python-club-8-checkpoint.ipynb\n",
      "/Users/dr9/Developer/team-code/python-club/notebooks/.ipynb_checkpoints/python-club-8-solutions-checkpoint.ipynb\n",
      "/Users/dr9/Developer/team-code/python-club/notebooks/.ipynb_checkpoints/python-club-9-checkpoint.ipynb\n",
      "/Users/dr9/Developer/team-code/python-club/notebooks/.ipynb_checkpoints/python-club-solutions-9-checkpoint.ipynb\n",
      "/Users/dr9/Developer/team-code/python-club/notebooks/.ipynb_checkpoints/stopwatch-checkpoint.ipynb\n",
      "/Users/dr9/Developer/team-code/python-club/notebooks/.ipynb_checkpoints/Untitled-checkpoint.ipynb\n",
      "/Users/dr9/Developer/team-code/python-club/notebooks/.vagrant/machines/default/virtualbox/action_provision\n",
      "/Users/dr9/Developer/team-code/python-club/notebooks/.vagrant/machines/default/virtualbox/action_set_name\n",
      "/Users/dr9/Developer/team-code/python-club/notebooks/.vagrant/machines/default/virtualbox/id\n",
      "/Users/dr9/Developer/team-code/python-club/notebooks/.vagrant/machines/default/virtualbox/index_uuid\n",
      "/Users/dr9/Developer/team-code/python-club/notebooks/.vagrant/machines/default/virtualbox/private_key\n",
      "/Users/dr9/Developer/team-code/python-club/notebooks/.vagrant/machines/default/virtualbox/synced_folders\n"
     ]
    }
   ],
   "source": [
    "import os\n",
    "\n",
    "def go_for_a_walk(d):\n",
    "    for root, dirs, files in os.walk(d, topdown=True):\n",
    "        for name in files:\n",
    "            print os.path.join(root, name)\n",
    "\n",
    "go_for_a_walk(os.getcwd())"
   ]
  },
  {
   "cell_type": "markdown",
   "metadata": {
    "collapsed": false
   },
   "source": [
    "##Exercise 2 (Wendy)"
   ]
  },
  {
   "cell_type": "code",
   "execution_count": 57,
   "metadata": {
    "collapsed": false
   },
   "outputs": [
    {
     "name": "stdout",
     "output_type": "stream",
     "text": [
      "\"\"\"Exercise 14.2. Write a function called sed that takes as arguments a pattern string, a replacement string, and two filenames; it should read the first file and write the contents into the second file (creating it if necessary). If the pattern string appears anywhere in the file, it should be replaced with the replacement string.\r\n",
      "\"\"\"\r\n",
      "\r\n",
      "import os\r\n",
      "import sys\r\n",
      "import string\r\n",
      "\r\n",
      "def main():\r\n",
      "    # Enter pattern string and replacement string\r\n",
      "    pattern_string = sys.argv [1]\r\n",
      "    replacement_string = sys.argv [2]\r\n",
      "\r\n",
      "    #Open the file to read (fin) and the file to output to. Raise exceptions if there are problems.  If no output file has been created then create this.\r\n",
      "\r\n",
      "    try:\r\n",
      "       fin = open(sys.argv[3])\r\n",
      "    except:\r\n",
      "       print 'Something went wrong with opening the first file.'\r\n",
      "\r\n",
      "    try:\r\n",
      "       fout = open(sys.argv[4], 'w')\r\n",
      "    except:\r\n",
      "       print 'Something went wrong with opening the second file it has been created'\r\n",
      "       fout = open('output.txt', 'w')\r\n",
      "\r\n",
      "    #Read through the input file and replace any of the pattern  strings found with a replacement string.\r\n",
      "    for line in fin:\r\n",
      "       str(line)\r\n",
      "       new_line = string.replace(line, pattern_string, replacement_string)\r\n",
      "       fout.write(new_line)\r\n",
      "\r\n",
      "    #Close the input file and the output file\r\n",
      "    fin.close()\r\n",
      "    fout.close()\r\n",
      "\r\n",
      "if __name__ == \"__main__\":\r\n",
      "    main()"
     ]
    }
   ],
   "source": [
    "!cat exercise14-2.py"
   ]
  },
  {
   "cell_type": "code",
   "execution_count": 58,
   "metadata": {
    "collapsed": false
   },
   "outputs": [
    {
     "name": "stdout",
     "output_type": "stream",
     "text": [
      "This is a testing string that does work\r\n"
     ]
    }
   ],
   "source": [
    "!echo 'This is a testing string that may work' > file_in\n",
    "!python exercise14-2.py may does file_in file_out\n",
    "!cat file_out"
   ]
  },
  {
   "cell_type": "markdown",
   "metadata": {},
   "source": [
    "##Exercise 3 (Dan)"
   ]
  },
  {
   "cell_type": "code",
   "execution_count": 43,
   "metadata": {
    "collapsed": true
   },
   "outputs": [],
   "source": [
    "import anagram_sets\n",
    "import shelve\n",
    "\n",
    "def store_anagrams(filename):\n",
    "    shelf = shelve.open(filename, 'c')\n",
    "    d = anagram_sets.all_anagrams('words.txt')\n",
    "    for word, word_list in d.iteritems():\n",
    "        shelf[word] =  word_list\n",
    "    shelf.close()\n",
    "\n",
    "def read_anagrams(filename, word):\n",
    "    shelf = shelve.open(filename)\n",
    "    sig = signature(word)\n",
    "    try:\n",
    "        return shelf[sig]\n",
    "    except KeyError:\n",
    "        return []"
   ]
  },
  {
   "cell_type": "code",
   "execution_count": 44,
   "metadata": {
    "collapsed": false
   },
   "outputs": [],
   "source": [
    "store_anagrams('anagrams.db')"
   ]
  },
  {
   "cell_type": "code",
   "execution_count": 50,
   "metadata": {
    "collapsed": false
   },
   "outputs": [
    {
     "data": {
      "text/plain": [
       "['act', 'cat']"
      ]
     },
     "execution_count": 50,
     "metadata": {},
     "output_type": "execute_result"
    }
   ],
   "source": [
    "read_anagrams('anagrams.db', 'cat')"
   ]
  },
  {
   "cell_type": "markdown",
   "metadata": {},
   "source": [
    "##Exercise 4 (Liu)"
   ]
  },
  {
   "cell_type": "code",
   "execution_count": 61,
   "metadata": {
    "collapsed": false
   },
   "outputs": [
    {
     "name": "stdout",
     "output_type": "stream",
     "text": [
      "Dups found with md5sum \"d41d8cd98f00b204e9800998ecf8427e\":\n",
      "\t/Users/dr9/Developer/team-code/python-club/notebooks/a.txt\n",
      "\t/Users/dr9/Developer/team-code/python-club/notebooks/output.txt\n",
      "\t/Users/dr9/Developer/team-code/python-club/notebooks/test.txt\n"
     ]
    }
   ],
   "source": [
    "import os\n",
    "\n",
    "def walk(workdir):\n",
    "   \"\"\"\n",
    "   'walk' take a specified Folder and return all the files in a List within it.\n",
    "   \"\"\"\n",
    "   list_all_files = []\n",
    "   for root, dirs, files in os.walk(workdir, topdown=True):\n",
    "       for name in files:\n",
    "           list_all_files.append(os.path.join(root, name))\n",
    "   return list_all_files\n",
    "\n",
    "def make_md5sum(list_files, suffix):\n",
    "   \"\"\"\n",
    "   'make_md5sum' take a List of files and a suffix, then return a dictonary with the md5sums \n",
    "   of the files with the specified sufix as the keys\n",
    "   \"\"\"\n",
    "   d_md5sum = {}\n",
    "   for each_file in list_files:\n",
    "       if not each_file.endswith(suffix):\n",
    "           continue\n",
    "       cmd_md5 = 'md5 ' + each_file\n",
    "       fp = os.popen(cmd_md5)\n",
    "       res = fp.read()\n",
    "       fp.close()\n",
    "       md5_sum = res.strip().split(' ')[-1]\n",
    "       if md5_sum not in d_md5sum:\n",
    "           d_md5sum[md5_sum] = [each_file]\n",
    "       else:\n",
    "           d_md5sum[md5_sum].append(each_file)\n",
    "   return d_md5sum\n",
    "\n",
    "def find_duplicates (dict_md5sum):\n",
    "   \"\"\"\n",
    "   'find_duplicates' take a Dictionary of md5sum and output those with more than 1 files attached to it\n",
    "   \"\"\"\n",
    "   for each_md5sum in dict_md5sum:\n",
    "       if len(dict_md5sum[each_md5sum]) > 1:\n",
    "           print 'Dups found with md5sum \"' + each_md5sum + '\":'\n",
    "           for each_file in dict_md5sum[each_md5sum]:\n",
    "               print '\\t' + each_file"
   ]
  },
  {
   "cell_type": "code",
   "execution_count": 66,
   "metadata": {
    "collapsed": false
   },
   "outputs": [
    {
     "name": "stdout",
     "output_type": "stream",
     "text": [
      "Dups found with md5sum \"eb1a3227cdc3fedbaec2fe38bf6c044a\":\n",
      "\t/Users/dr9/Developer/team-code/python-club/notebooks/testing.txt\n",
      "\t/Users/dr9/Developer/team-code/python-club/notebooks/testing_dup.txt\n",
      "Dups found with md5sum \"d41d8cd98f00b204e9800998ecf8427e\":\n",
      "\t/Users/dr9/Developer/team-code/python-club/notebooks/a.txt\n",
      "\t/Users/dr9/Developer/team-code/python-club/notebooks/output.txt\n",
      "\t/Users/dr9/Developer/team-code/python-club/notebooks/test.txt\n"
     ]
    }
   ],
   "source": [
    "!echo testing > testing.txt\n",
    "!cp testing.txt testing_dup.txt\n",
    "all_files = walk(os.getcwd())\n",
    "dict_md5sum = make_md5sum(all_files, '.txt')\n",
    "find_duplicates(dict_md5sum)"
   ]
  }
 ],
 "metadata": {
  "kernelspec": {
   "display_name": "Python 2",
   "language": "python",
   "name": "python2"
  },
  "language_info": {
   "codemirror_mode": {
    "name": "ipython",
    "version": 2
   },
   "file_extension": ".py",
   "mimetype": "text/x-python",
   "name": "python",
   "nbconvert_exporter": "python",
   "pygments_lexer": "ipython2",
   "version": "2.7.9"
  }
 },
 "nbformat": 4,
 "nbformat_minor": 0
}

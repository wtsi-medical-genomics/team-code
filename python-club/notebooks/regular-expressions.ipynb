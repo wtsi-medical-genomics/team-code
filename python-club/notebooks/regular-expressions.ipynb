{
 "cells": [
  {
   "cell_type": "markdown",
   "metadata": {},
   "source": [
    "#Regular Expressions"
   ]
  },
  {
   "cell_type": "markdown",
   "metadata": {},
   "source": [
    "##Introduction\n",
    "###Regular expressions\n",
    "* A sequence of symbols and characters expressing a text pattern.\n",
    "* A regular expression allows us to specify a string pattern that we can then search for in bodies of text.\n",
    "* It is a mini-language with its own syntax and exsists in pretty much every programming language (and OS) worth its salt.\n",
    "\n",
    "Some examples of a regular expressions are:\n",
    "\n",
    "```\n",
    "\\w+_\\d\n",
    "^SL\\d{3}_UC$\n",
    "^1[012]0[01]\\d{4,5}\n",
    "```\n",
    "Regexps are can appear quite dense but can be decomposed into **character classes** and **metacharacters**.\n",
    "###Character classes\n",
    "###Metacharacters\n"
   ]
  },
  {
   "cell_type": "markdown",
   "metadata": {},
   "source": [
    "In python we use the `re` module to create and use regular expressions."
   ]
  },
  {
   "cell_type": "code",
   "execution_count": 157,
   "metadata": {
    "collapsed": true
   },
   "outputs": [],
   "source": [
    "import re"
   ]
  },
  {
   "cell_type": "markdown",
   "metadata": {},
   "source": [
    "###Task\n",
    "We have a list of strings and some of these contain names that we want to extract. The names have the format\n",
    "```\n",
    "0123_FirstName_LastName\n",
    "```\n",
    "where the quantity of numbers at the beginning of the string are variable."
   ]
  },
  {
   "cell_type": "code",
   "execution_count": 142,
   "metadata": {
    "collapsed": true
   },
   "outputs": [],
   "source": [
    "L = [\n",
    "'123_Sam_Smith',\n",
    "'Blah blah',\n",
    "'2342_Katie_Price',\n",
    "'More blah blah',\n",
    "'String_without_numbers']"
   ]
  },
  {
   "cell_type": "code",
   "execution_count": 143,
   "metadata": {
    "collapsed": true
   },
   "outputs": [],
   "source": [
    "p = re.compile(r'\\d+_([A-Z,a-z]+)_([A-Z,a-z]+)')"
   ]
  },
  {
   "cell_type": "code",
   "execution_count": 144,
   "metadata": {
    "collapsed": false
   },
   "outputs": [
    {
     "name": "stdout",
     "output_type": "stream",
     "text": [
      "('Sam', 'Smith')\n",
      "('Katie', 'Price')\n"
     ]
    }
   ],
   "source": [
    "for el in L:\n",
    "    m = p.match(el)\n",
    "    if m:\n",
    "        print m.groups()"
   ]
  },
  {
   "cell_type": "code",
   "execution_count": 139,
   "metadata": {
    "collapsed": true
   },
   "outputs": [],
   "source": [
    "  m = p.match(L[0])"
   ]
  },
  {
   "cell_type": "code",
   "execution_count": 140,
   "metadata": {
    "collapsed": false
   },
   "outputs": [
    {
     "data": {
      "text/plain": [
       "('Sam', 'Smith')"
      ]
     },
     "execution_count": 140,
     "metadata": {},
     "output_type": "execute_result"
    }
   ],
   "source": [
    "m.groups()"
   ]
  },
  {
   "cell_type": "markdown",
   "metadata": {},
   "source": [
    "###Task\n",
    "Find all occurences of \"AGT\" within a string of DNA where contiguous repeated occurences should be counted only once."
   ]
  },
  {
   "cell_type": "code",
   "execution_count": 106,
   "metadata": {
    "collapsed": false
   },
   "outputs": [],
   "source": [
    "dna = 'AGTAGTACTACAAGTAGTCCAGTCCTTGGGAGTAGTAGTAGTAAGGGCCT'"
   ]
  },
  {
   "cell_type": "code",
   "execution_count": 107,
   "metadata": {
    "collapsed": false
   },
   "outputs": [
    {
     "name": "stdout",
     "output_type": "stream",
     "text": [
      "(start, stop): (0, 6)\n",
      "matching string: AGTAGT\n",
      "(start, stop): (12, 18)\n",
      "matching string: AGTAGT\n",
      "(start, stop): (20, 23)\n",
      "matching string: AGT\n",
      "(start, stop): (30, 42)\n",
      "matching string: AGTAGTAGTAGT\n"
     ]
    }
   ],
   "source": [
    "p = re.compile(r'(AGT)+')\n",
    "m = p.finditer(dna)\n",
    "for match in m:\n",
    "    print '(start, stop): {}'.format(match.span())\n",
    "    print 'matching string: {}'.format(match.group())"
   ]
  },
  {
   "cell_type": "code",
   "execution_count": 74,
   "metadata": {
    "collapsed": false
   },
   "outputs": [
    {
     "data": {
      "text/plain": [
       "(0, 3)"
      ]
     },
     "execution_count": 74,
     "metadata": {},
     "output_type": "execute_result"
    }
   ],
   "source": [
    "m.span()"
   ]
  },
  {
   "cell_type": "code",
   "execution_count": 35,
   "metadata": {
    "collapsed": false
   },
   "outputs": [
    {
     "data": {
      "text/plain": [
       "['This', 'is', 'a', 'test', 'short', 'and', 'sweet', 'of', 'split', '']"
      ]
     },
     "execution_count": 35,
     "metadata": {},
     "output_type": "execute_result"
    }
   ],
   "source": [
    "p = re.compile(r'\\W+')\n",
    "p.split('This is a test, short and sweet, of split().')"
   ]
  },
  {
   "cell_type": "code",
   "execution_count": 82,
   "metadata": {
    "collapsed": false
   },
   "outputs": [
    {
     "data": {
      "text/plain": [
       "'AGTAGTAGTAGT'"
      ]
     },
     "execution_count": 82,
     "metadata": {},
     "output_type": "execute_result"
    }
   ],
   "source": [
    "match.group()"
   ]
  },
  {
   "cell_type": "markdown",
   "metadata": {},
   "source": [
    "###Task\n",
    "It has become a critical part of your job to determine if a string contains \"wazup\" or \"wazzup\" or \"wazzzup\", etc."
   ]
  },
  {
   "cell_type": "code",
   "execution_count": 158,
   "metadata": {
    "collapsed": true
   },
   "outputs": [],
   "source": [
    "L = [\n",
    "'wazzzzzzzup',\n",
    "'wazup',\n",
    "'waup',\n",
    "'what is up',\n",
    "'wazzzzzzzzzzzzzzzzzzzzzzzup']"
   ]
  },
  {
   "cell_type": "code",
   "execution_count": 159,
   "metadata": {
    "collapsed": true
   },
   "outputs": [],
   "source": [
    "p = re.compile(r'waz+up')"
   ]
  },
  {
   "cell_type": "code",
   "execution_count": 160,
   "metadata": {
    "collapsed": false
   },
   "outputs": [
    {
     "name": "stdout",
     "output_type": "stream",
     "text": [
      "wazzzzzzzup\n",
      "wazup\n",
      "wazzzzzzzzzzzzzzzzzzzzzzzup\n"
     ]
    }
   ],
   "source": [
    "for el in L:\n",
    "    if p.match(el):\n",
    "        print el"
   ]
  },
  {
   "cell_type": "markdown",
   "metadata": {},
   "source": [
    "##Resources\n",
    "* https://docs.python.org/2/howto/regex.html\n",
    "* https://www.regex101.com/#python"
   ]
  },
  {
   "cell_type": "code",
   "execution_count": null,
   "metadata": {
    "collapsed": true
   },
   "outputs": [],
   "source": []
  }
 ],
 "metadata": {
  "kernelspec": {
   "display_name": "Python 2",
   "language": "python",
   "name": "python2"
  },
  "language_info": {
   "codemirror_mode": {
    "name": "ipython",
    "version": 2
   },
   "file_extension": ".py",
   "mimetype": "text/x-python",
   "name": "python",
   "nbconvert_exporter": "python",
   "pygments_lexer": "ipython2",
   "version": "2.7.9"
  }
 },
 "nbformat": 4,
 "nbformat_minor": 0
}

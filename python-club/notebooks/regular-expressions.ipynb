{
 "cells": [
  {
   "cell_type": "code",
   "execution_count": 5,
   "metadata": {
    "collapsed": true
   },
   "outputs": [],
   "source": [
    "import re # Python's regular expression module\n",
    "\n",
    "def re_test(regex, query):\n",
    "    \"\"\"A helper function to test if a regex has a match in a query.\"\"\"\n",
    "    p = re.compile(regex)\n",
    "    result = 'MATCH' if p.match(query) else 'NOT FOUND'\n",
    "    print '\"{}\" with regex \"{}\": {}'.format(query, regex, result)"
   ]
  },
  {
   "cell_type": "markdown",
   "metadata": {},
   "source": [
    "#Regular Expressions\n",
    "###Daniel Rice"
   ]
  },
  {
   "cell_type": "markdown",
   "metadata": {},
   "source": [
    "* Introduction\n",
    "  * Definition\n",
    "  * Examples\n",
    "  * Exercise 1\n",
    "* Decomposing the syntax\n",
    "  * Character classes\n",
    "  * Metacharacters\n",
    "    * Repetition\n",
    "    * Capture groups\n",
    "* Regex's in Python\n",
    "    * match\n",
    "    * search"
   ]
  },
  {
   "cell_type": "markdown",
   "metadata": {},
   "source": [
    "##Introduction\n",
    "###Definition\n",
    "A regular expression (also known as a RE, regex, regex pattern, or regexp) is **a sequence of symbols and characters expressing a text pattern**. A regular expression allows us to specify a string pattern that we can then search for within a body of text. The idea is to make a pattern template (regex), and then query some text to see if the template is present or not.\n",
    "\n",
    "###Example 1\n",
    "Let's say we want to determine if a string begins with the word `PASS`. Our regular expression will simply be:"
   ]
  },
  {
   "cell_type": "code",
   "execution_count": 71,
   "metadata": {
    "collapsed": true
   },
   "outputs": [],
   "source": [
    "pass_regex = 'PASS'"
   ]
  },
  {
   "cell_type": "markdown",
   "metadata": {},
   "source": [
    "This pattern will match the occurence of `PASS` in the query text. Now let's test it out:"
   ]
  },
  {
   "cell_type": "code",
   "execution_count": 72,
   "metadata": {
    "collapsed": false
   },
   "outputs": [
    {
     "name": "stdout",
     "output_type": "stream",
     "text": [
      "\"PASS: Data good\" with regex \"PASS\": MATCH\n"
     ]
    }
   ],
   "source": [
    "re_test(pass_regex, 'PASS: Data good')"
   ]
  },
  {
   "cell_type": "code",
   "execution_count": 73,
   "metadata": {
    "collapsed": false
   },
   "outputs": [
    {
     "name": "stdout",
     "output_type": "stream",
     "text": [
      "\"FAIL: Data bad\" with regex \"PASS\": NOT FOUND\n"
     ]
    }
   ],
   "source": [
    "re_test(pass_regex, 'FAIL: Data bad')"
   ]
  },
  {
   "cell_type": "markdown",
   "metadata": {},
   "source": [
    "###Example 2\n",
    "Let's say we have a text file that contains numerical readings that we need to perform some analysis on. Here's the first few lines from the file:"
   ]
  },
  {
   "cell_type": "code",
   "execution_count": 24,
   "metadata": {
    "collapsed": false
   },
   "outputs": [],
   "source": [
    "lines = \\\n",
    "\"\"\"\n",
    "Device-initialized.\n",
    "Version-19.23\n",
    "12-12-2014\n",
    "12\n",
    "4353\n",
    "3452\n",
    "ERROR\n",
    "498\n",
    "34598734\n",
    "345982398\n",
    "23\n",
    "ERROR\n",
    "3434345798\n",
    "\"\"\""
   ]
  },
  {
   "cell_type": "markdown",
   "metadata": {},
   "source": [
    "We don't want the header lines and those `ERROR` lines are going to ruin our analysis! Let's filter these out with with a regex. First we will create the pattern template (or regex) for what we want to find:\n",
    "\n",
    "```\n",
    "^\\d+$\n",
    "```\n",
    "\n",
    "This regex can be split into four parts:\n",
    "\n",
    "1. **`^`** This indicates the start of the string.\n",
    "2. **`\\d`** This specifies we want to match decimal digits (the numbers 0-9).\n",
    "3. **`+`** This symbol means we want to find one or more of the previous symbol (which in this case is a decimal digit).\n",
    "4. **`$`** This indicates the end of the string.\n",
    "\n",
    "Putting it all together we want to find patterns that are one or more (`+`) numbers (`\\d`) from start (`^`) to finish (`$`).\n",
    "\n",
    "Let's load the regex into Python's `re` module:"
   ]
  },
  {
   "cell_type": "code",
   "execution_count": 25,
   "metadata": {
    "collapsed": true
   },
   "outputs": [],
   "source": [
    "integer_regex = re.compile('\\d+$')"
   ]
  },
  {
   "cell_type": "markdown",
   "metadata": {},
   "source": [
    "Now let's get our string of lines into a list of strings:"
   ]
  },
  {
   "cell_type": "code",
   "execution_count": 26,
   "metadata": {
    "collapsed": false
   },
   "outputs": [
    {
     "name": "stdout",
     "output_type": "stream",
     "text": [
      "['Device-initialized.', 'Version-19.23', '12-12-2014', '12', '4353', '3452', 'ERROR', '498', '34598734', '345982398', '23', 'ERROR', '3434345798']\n"
     ]
    }
   ],
   "source": [
    "lines = lines.split()\n",
    "print lines"
   ]
  },
  {
   "cell_type": "markdown",
   "metadata": {},
   "source": [
    "Now we need to run through each of these lines and determine if it matches our regex. Converting to integer would be nice as well."
   ]
  },
  {
   "cell_type": "code",
   "execution_count": 27,
   "metadata": {
    "collapsed": false
   },
   "outputs": [
    {
     "name": "stdout",
     "output_type": "stream",
     "text": [
      "[12, 4353, 3452, 498, 34598734, 345982398, 23, 3434345798]\n"
     ]
    }
   ],
   "source": [
    "clean_data = [] # We will accumulate our filtered integers here\n",
    "for line in lines:\n",
    "    if integer_regex.match(line):\n",
    "        clean_data.append(int(line))\n",
    "print clean_data\n",
    "\n",
    "# If you're into one liners you could also do one of these:\n",
    "# clean_data = [int(line) for line in lines if integer_regex.match(line)]\n",
    "# clean_data = map(int, filter(integer_regex.match, lines))"
   ]
  },
  {
   "cell_type": "markdown",
   "metadata": {},
   "source": [
    "It worked like a dream. You may be arguing that there other non-regex solutions to this problem and indeed there are (for example integer typecasting with a catch clause) but this example was given to show you the process of:\n",
    "\n",
    "1. Creating a regex pattern for what you want to find.\n",
    "2. Appyling it to some text.\n",
    "3. Extracting the positive hits.\n",
    "\n",
    "There will be situations where regex's will really be the only viable solution when you want to match some super-complex strings."
   ]
  },
  {
   "cell_type": "markdown",
   "metadata": {},
   "source": [
    "###Exercise 1\n",
    "You have a file consisting of DNA bases which you want to perform analysis on:"
   ]
  },
  {
   "cell_type": "code",
   "execution_count": 36,
   "metadata": {
    "collapsed": false
   },
   "outputs": [],
   "source": [
    "lines = \\\n",
    "\"\"\"\n",
    "Acme-DNA-Reader\n",
    "ACTG\n",
    "AA\n",
    "-1\n",
    "CCTC\n",
    "TTTCG\n",
    "C\n",
    "TGCTA\n",
    "-1\n",
    "TCCCCCC\n",
    "\"\"\""
   ]
  },
  {
   "cell_type": "markdown",
   "metadata": {},
   "source": [
    "The `-1` represent reading erros and we want these removed. Using the preceeding example as a guide, filter out the header and the reading errors.\n",
    "\n",
    "**Hint** The bases can be represented with the pattern `[ACGT]`."
   ]
  },
  {
   "cell_type": "code",
   "execution_count": 37,
   "metadata": {
    "collapsed": false
   },
   "outputs": [
    {
     "name": "stdout",
     "output_type": "stream",
     "text": [
      "Acme-DNA-Reader\n",
      "ACTG\n",
      "AA\n",
      "-1\n",
      "CCTC\n",
      "TTTCG\n",
      "C\n",
      "TGCTA\n",
      "-1\n",
      "TCCCCCC\n",
      "['ACTG', 'AA', 'CCTC', 'TTTCG', 'C', 'TGCTA', 'TCCCCCC']\n"
     ]
    }
   ],
   "source": [
    "bases_regex = re.compile('[ACGT]+$')\n",
    "lines = lines.split()\n",
    "#print lines\n",
    "clean_data = [] # We will accumulate our filtered integers here\n",
    "for line in lines:\n",
    "    print line\n",
    "    if bases_regex.match(line):\n",
    "        clean_data.append(line)\n",
    "print clean_data\n"
   ]
  },
  {
   "cell_type": "markdown",
   "metadata": {},
   "source": [
    "##Decomposing the syntax\n",
    "Regexps can appear cryptic but they can be decomposed into **character classes** and **metacharacters**.\n",
    "###Character classes\n",
    "These allow us to concisely specify the types or classes of characters to match. In the example above `\\d` is a character class that represents decimal digits. There are many such character classes and we will go through these below.\n",
    "The square brackets allow us to specify a set of characters to match. We have already seen this with `[ACGT]`. We can also use the hyphen `-` to specify ranges.\n",
    "\n",
    "| Character Class | Description | Match Examples |\n",
    "|:---------------:| ----------- | -------------- |\n",
    "| `\\d` | Matches any decimal digit; this is equivalent to the class `[0-9]`. | `0`, `1`, `2`, ... |\n",
    "| `\\D` | Matches any non-digit character; this is equivalent to the class `[^0-9]`. | `a`, `@`, `;` |\n",
    "| `\\s` | Matches any whitespace character; this is equivalent to the class `[ \\t\\n\\r\\f\\v]`. | space, tab, newline |\n",
    "| `\\S` | Matches any non-whitespace character; this is equivalent to the class `[^ \\t\\n\\r\\f\\v]`. | `1`, `A`, `&` |\n",
    "| `\\w` | Matches any alphanumeric character (word character) ; this is equivalent to the class `[a-zA-Z0-9_]`.| `x`, `Z`, `2` |\n",
    "| `\\W` | Matches any non-alphanumeric character; this is equivalent to the class `[^a-zA-Z0-9_]`. | `£`, `(`, space |\n",
    "| `.`  | Matches anything (except newline). | `8`, `(`, `a`, space |\n",
    "\n",
    "This can look like a lot to remember but there are some menomics here:\n",
    "\n",
    "| Character Class | Mnemonic |\n",
    "|:---------------:| -------- |\n",
    "| `\\d` | **d**ecimal digit |\n",
    "| `\\D` | uppercase so not `\\d` |\n",
    "| `\\s` | white**s**pace character |\n",
    "| `\\S` | uppercase so not `\\s` |\n",
    "| `\\w` | **w**ord character |\n",
    "| `\\W` | uppercase so not `\\w`|\n",
    "\n",
    "\n",
    "###Metacharacters\n",
    "####Repitition\n",
    "The character classes will match only a single character. How can say match exactly `3` occurences of `Q`? The metacharacters include different sybmols to reflect repetition:\n",
    "\n",
    "| Repetition Metacharacter | Description |\n",
    "|:------------------------:| ----------- |\n",
    "| `*` | Matches zero or more occurences of the previous character (class). |\n",
    "| `+` | Matches one or more occurences of the previous character (class). |\n",
    "| `{m,n}` | With integers `m` and `n`, specifies at least `m` and at most `n` occurences of the previous character (class). **Do not put any space after the comma** *as this prevents the metacharacter from being recognized.* |\n",
    "\n",
    "####Examples\n"
   ]
  },
  {
   "cell_type": "code",
   "execution_count": 38,
   "metadata": {
    "collapsed": false
   },
   "outputs": [
    {
     "name": "stdout",
     "output_type": "stream",
     "text": [
      "\" \" with regex \"A*\": MATCH\n",
      "\"A\" with regex \"A*\": MATCH\n",
      "\"AA\" with regex \"A*\": MATCH\n",
      "\"Z12345\" with regex \"A*\": MATCH\n"
     ]
    }
   ],
   "source": [
    "re_test('A*', ' ')\n",
    "re_test('A*', 'A')\n",
    "re_test('A*', 'AA')\n",
    "re_test('A*', 'Z12345')"
   ]
  },
  {
   "cell_type": "code",
   "execution_count": 39,
   "metadata": {
    "collapsed": false
   },
   "outputs": [
    {
     "name": "stdout",
     "output_type": "stream",
     "text": [
      "\" \" with regex \"A+\": NOT FOUND\n",
      "\"A\" with regex \"A+\": MATCH\n",
      "\"ZZZZ\" with regex \"A+\": NOT FOUND\n"
     ]
    }
   ],
   "source": [
    "re_test('A+', ' ')\n",
    "re_test('A+', 'A')\n",
    "re_test('A+', 'ZZZZ')"
   ]
  },
  {
   "cell_type": "code",
   "execution_count": 40,
   "metadata": {
    "collapsed": false
   },
   "outputs": [
    {
     "name": "stdout",
     "output_type": "stream",
     "text": [
      "\"BB\" with regex \"BA{1,3}B\": NOT FOUND\n",
      "\"BAB\" with regex \"BA{1,3}B\": MATCH\n",
      "\"BAAAB\" with regex \"BA{1,3}B\": MATCH\n",
      "\"BAAAAAB\" with regex \"BA{1,3}B\": NOT FOUND\n"
     ]
    }
   ],
   "source": [
    "re_test('BA{1,3}B', 'BB')\n",
    "re_test('BA{1,3}B', 'BAB')\n",
    "re_test('BA{1,3}B', 'BAAAB')\n",
    "re_test('BA{1,3}B', 'BAAAAAB')"
   ]
  },
  {
   "cell_type": "code",
   "execution_count": 41,
   "metadata": {
    "collapsed": false
   },
   "outputs": [
    {
     "name": "stdout",
     "output_type": "stream",
     "text": [
      "\"AB12[]9023\" with regex \".*\": MATCH\n",
      "\"123B\" with regex \"\\d{1,3}B\": MATCH\n",
      "\"aaa2\" with regex \"\\w{1,3}\\d+\": MATCH\n",
      "\"aaaa2\" with regex \"\\w{1,3}\\d+\": NOT FOUND\n"
     ]
    }
   ],
   "source": [
    "re_test('.*', 'AB12[]9023')\n",
    "re_test('\\d{1,3}B', '123B')\n",
    "re_test('\\w{1,3}\\d+', 'aaa2')\n",
    "re_test('\\w{1,3}\\d+', 'aaaa2')"
   ]
  },
  {
   "cell_type": "code",
   "execution_count": 47,
   "metadata": {
    "collapsed": false
   },
   "outputs": [],
   "source": [
    "#http://path/ssh://dr9@farm3-login:/path\n",
    "p = re.compile(r'http://(\\w+)/ssh://(\\w+)@(\\w+):/(\\w+)')"
   ]
  },
  {
   "cell_type": "code",
   "execution_count": 48,
   "metadata": {
    "collapsed": false
   },
   "outputs": [],
   "source": [
    "m = p.match(r'http://path/ssh://dr9@farm3-login:/path')"
   ]
  },
  {
   "cell_type": "code",
   "execution_count": 59,
   "metadata": {
    "collapsed": false
   },
   "outputs": [],
   "source": [
    "RE_SSH = re.compile(r'/ssh://(\\w+)@(.+):(.+)/(?:chr)?([mxy0-9]{1,2}):(\\d+)-(\\d+)$', re.IGNORECASE)"
   ]
  },
  {
   "cell_type": "code",
   "execution_count": 65,
   "metadata": {
    "collapsed": true
   },
   "outputs": [],
   "source": [
    "RE_SSH = re.compile(r'/ssh://(\\w+)@(.+)$', re.IGNORECASE)"
   ]
  },
  {
   "cell_type": "code",
   "execution_count": 69,
   "metadata": {
    "collapsed": true
   },
   "outputs": [],
   "source": [
    "t = '/ssh://dr9@farm3-login'"
   ]
  },
  {
   "cell_type": "code",
   "execution_count": 70,
   "metadata": {
    "collapsed": false
   },
   "outputs": [],
   "source": [
    "m = RE_SSH.match(t)\n",
    "#user, server, path, lchr, lmin, lmax = m.groups()"
   ]
  },
  {
   "cell_type": "code",
   "execution_count": 72,
   "metadata": {
    "collapsed": false
   },
   "outputs": [
    {
     "name": "stdout",
     "output_type": "stream",
     "text": [
      "dr9\n",
      "farm3-login\n"
     ]
    }
   ],
   "source": [
    "for el in m.groups():\n",
    "    print el"
   ]
  },
  {
   "cell_type": "markdown",
   "metadata": {},
   "source": [
    "###Exercise 2\n",
    "Determine if a string contains \"wazup\" or \"wazzup\" or \"wazzzup\" where the number of z's must be greater than zero. Use the following list of strings:"
   ]
  },
  {
   "cell_type": "code",
   "execution_count": 73,
   "metadata": {
    "collapsed": true
   },
   "outputs": [],
   "source": [
    "L = [\n",
    "'So I said wazzzzzzzup?',\n",
    "'And she said wazup back to me',\n",
    "'waup isn\\'t a word',\n",
    "'what is up',\n",
    "'wazzzzzzzzzzzzzzzzzzzzzzzup']"
   ]
  },
  {
   "cell_type": "code",
   "execution_count": 74,
   "metadata": {
    "collapsed": false
   },
   "outputs": [
    {
     "name": "stdout",
     "output_type": "stream",
     "text": [
      "['So I said wazzzzzzzup?', 'And she said wazup back to me', 'wazzzzzzzzzzzzzzzzzzzzzzzup']\n"
     ]
    }
   ],
   "source": [
    "wazup_regex = re.compile(r'.*waz+up.*')\n",
    "matches = [el for el in L if wazup_regex.match(el)]\n",
    "print matches"
   ]
  },
  {
   "cell_type": "markdown",
   "metadata": {},
   "source": [
    "###Example\n",
    "We have a list of strings and some of these contain names that we want to extract. The names have the format\n",
    "```\n",
    "0123_FirstName_LastName\n",
    "```\n",
    "where the quantity of numbers at the beginning of the string are variable (e.g. `1_Bob_Smith`, `12_Bob_Smith`, `123456_Bob_Smith)` are all valid)."
   ]
  },
  {
   "cell_type": "code",
   "execution_count": 82,
   "metadata": {
    "collapsed": true
   },
   "outputs": [],
   "source": [
    "L = [\n",
    "'123_George_Washington',\n",
    "'Blah blah',\n",
    "'894542342_Winston_Churchill',\n",
    "'More blah blah',\n",
    "'String_without_numbers']"
   ]
  },
  {
   "cell_type": "markdown",
   "metadata": {},
   "source": [
    "Don't worry if the following regex looks cryptic, it will soon be broken down."
   ]
  },
  {
   "cell_type": "code",
   "execution_count": 83,
   "metadata": {
    "collapsed": true
   },
   "outputs": [],
   "source": [
    "p = re.compile(r'\\d+_([A-Z,a-z]+)_([A-Z,a-z]+)')"
   ]
  },
  {
   "cell_type": "code",
   "execution_count": 85,
   "metadata": {
    "collapsed": false
   },
   "outputs": [
    {
     "name": "stdout",
     "output_type": "stream",
     "text": [
      "('George', 'Washington')\n",
      "('Winston', 'Churchill')\n"
     ]
    }
   ],
   "source": [
    "for el in L:\n",
    "    m = p.match(el)\n",
    "    if m:\n",
    "        print m.groups()"
   ]
  },
  {
   "cell_type": "markdown",
   "metadata": {},
   "source": [
    "###Exercise 3\n",
    "Find all occurences of `AGT` within a string of DNA where contiguous repeated occurences should be counted only once (e.g. `AGTAGTAGT` will be counted once and not three times)."
   ]
  },
  {
   "cell_type": "code",
   "execution_count": 75,
   "metadata": {
    "collapsed": false
   },
   "outputs": [],
   "source": [
    "dna = 'AGTAGTACTACAAGTAGTCCAGTCCTTGGGAGTAGTAGTAGTAAGGGCCT'"
   ]
  },
  {
   "cell_type": "code",
   "execution_count": 76,
   "metadata": {
    "collapsed": false
   },
   "outputs": [
    {
     "name": "stdout",
     "output_type": "stream",
     "text": [
      "(start, stop): (0, 6)\n",
      "matching string: AGTAGT\n",
      "(start, stop): (12, 18)\n",
      "matching string: AGTAGT\n",
      "(start, stop): (20, 23)\n",
      "matching string: AGT\n",
      "(start, stop): (30, 42)\n",
      "matching string: AGTAGTAGTAGT\n"
     ]
    }
   ],
   "source": [
    "p = re.compile(r'(AGT)+')\n",
    "m = p.finditer(dna)\n",
    "for match in m:\n",
    "    print '(start, stop): {}'.format(match.span())\n",
    "    print 'matching string: {}'.format(match.group())"
   ]
  },
  {
   "cell_type": "code",
   "execution_count": 77,
   "metadata": {
    "collapsed": true
   },
   "outputs": [],
   "source": [
    "p.finditer?"
   ]
  },
  {
   "cell_type": "markdown",
   "metadata": {},
   "source": [
    "###Exercise 4\n",
    "A text file contains some important information about a test that has been run. The individual who wrote this file is \n",
    "inconsistent with date formats."
   ]
  },
  {
   "cell_type": "code",
   "execution_count": 80,
   "metadata": {
    "collapsed": false
   },
   "outputs": [],
   "source": [
    "L = [\n",
    "'Test 1-2 commencing 2012-12-12 for multiple reads.',\n",
    "'Date of birth of individual 803232435345345 is 1983/06/27.',\n",
    "'Test 1-2 complete 20130420.']"
   ]
  },
  {
   "cell_type": "markdown",
   "metadata": {},
   "source": [
    "Convert all dates to the format YYYYMMDD.\n",
    "\n",
    "Hints:\n",
    "  * Use groups `()`\n",
    "  * Use `{m, n}` where `m=n=2 or m=n=4`\n",
    "  * Use `?` for the bits between date components\n",
    "  * You can use either search or match, though in the latter you will need to specify what happens before and after the date (`.*` maybe)?\n",
    "  * The second element in the list will present you with issues as there is a number there that may accidentally be captured as a date. Use `\\D` to make sure your date is not surrounded by decimal digits."
   ]
  },
  {
   "cell_type": "code",
   "execution_count": 78,
   "metadata": {
    "collapsed": true
   },
   "outputs": [],
   "source": [
    "p = re.compile(r'\\D+\\d{4,4}[-/]?\\d{2,2}[-/]?\\d{2,2}\\D')"
   ]
  },
  {
   "cell_type": "code",
   "execution_count": 85,
   "metadata": {
    "collapsed": false
   },
   "outputs": [
    {
     "name": "stdout",
     "output_type": "stream",
     "text": [
      "['20121212', '19830627', '20130420']\n"
     ]
    }
   ],
   "source": [
    "date_regex = re.compile(r'\\D(\\d{4,4})[-/]?(\\d{2,2})[-/]?(\\d{2,2})\\D')\n",
    "standard_dates = []\n",
    "for el in L:\n",
    "    m = date_regex.search(el)\n",
    "    if m:\n",
    "        standard_dates.append(''.join(m.groups()))\n",
    "print standard_dates"
   ]
  },
  {
   "cell_type": "markdown",
   "metadata": {},
   "source": [
    "##Resources\n",
    "\n",
    "| Resource                                   | Description                                                       |\n",
    "| ------------------------------------------ | ----------------------------------------------------------------- |\n",
    "| https://docs.python.org/2/howto/regex.html | A great in-depth tutorial from the official Python documentation. |\n",
    "| https://www.regex101.com/#python           | A useful online tool to quickly test regular expressions.         |\n",
    "| http://regexcrossword.com/                 | A nice way to practice your regular expression skills.            |"
   ]
  },
  {
   "cell_type": "code",
   "execution_count": 16,
   "metadata": {
    "collapsed": true
   },
   "outputs": [],
   "source": [
    "text = 'abcd \\e'"
   ]
  },
  {
   "cell_type": "code",
   "execution_count": 17,
   "metadata": {
    "collapsed": false
   },
   "outputs": [
    {
     "name": "stdout",
     "output_type": "stream",
     "text": [
      "abcd \\e\n"
     ]
    }
   ],
   "source": [
    "print text"
   ]
  },
  {
   "cell_type": "code",
   "execution_count": 15,
   "metadata": {
    "collapsed": false
   },
   "outputs": [
    {
     "data": {
      "text/plain": [
       "re.compile(r'\\\\')"
      ]
     },
     "execution_count": 15,
     "metadata": {},
     "output_type": "execute_result"
    }
   ],
   "source": [
    "re.compile(r'\\\\')"
   ]
  },
  {
   "cell_type": "code",
   "execution_count": null,
   "metadata": {
    "collapsed": true
   },
   "outputs": [],
   "source": []
  }
 ],
 "metadata": {
  "kernelspec": {
   "display_name": "Python 2",
   "language": "python",
   "name": "python2"
  },
  "language_info": {
   "codemirror_mode": {
    "name": "ipython",
    "version": 2
   },
   "file_extension": ".py",
   "mimetype": "text/x-python",
   "name": "python",
   "nbconvert_exporter": "python",
   "pygments_lexer": "ipython2",
   "version": "2.7.9"
  }
 },
 "nbformat": 4,
 "nbformat_minor": 0
}

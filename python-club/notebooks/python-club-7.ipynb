{
 "metadata": {
  "name": "",
  "signature": "sha256:dba7b2e1667d77caffdfded3bc67c9f6013a58d346c3cc4b48bee3e1c770b350"
 },
 "nbformat": 3,
 "nbformat_minor": 0,
 "worksheets": [
  {
   "cells": [
    {
     "cell_type": "markdown",
     "metadata": {},
     "source": [
      "##Exercise 7.1\n",
      "Rewrite the function print_n from Section 5.8 using iteration instead of recursion."
     ]
    },
    {
     "cell_type": "markdown",
     "metadata": {},
     "source": [
      "##Exercise 7.2  \n",
      "Encapsulate this loop in a function called square_root that takes a as a parameter, chooses a reasonable value of x, and returns an estimate of the square root of a."
     ]
    },
    {
     "cell_type": "markdown",
     "metadata": {},
     "source": [
      "##Exercise 7.3\n",
      "To test the square root algorithm in this chapter, you could compare it with `math.sqrt`. Write a function named `test_square_root` that prints a table like this:\n",
      "```\n",
      "1.0 1.0           1.0           0.0\n",
      "2.0 1.41421356237 1.41421356237 2.22044604925e-16\n",
      "3.0 1.73205080757 1.73205080757 0.0\n",
      "4.0 2.0           2.0           0.0\n",
      "5.0 2.2360679775  2.2360679775  0.0\n",
      "6.0 2.44948974278 2.44948974278 0.0\n",
      "7.0 2.64575131106 2.64575131106 0.0\n",
      "8.0 2.82842712475 2.82842712475 4.4408920985e-16\n",
      "9.0 3.0           3.0           0.0\n",
      "```\n",
      "The first column is a number, `a`; the second column is the square root of `a` computed with the function from Section 7.5; the third column is the square root computed by `math.sqrt`; the fourth column is the absolute value of the difference between the two estimates.\n"
     ]
    },
    {
     "cell_type": "markdown",
     "metadata": {},
     "source": [
      "##Exercise 7.4  \n",
      "The built-in function `eval` takes a string and evaluates it using the Python interpreter. For example:\n",
      "\n",
      "```\n",
      ">>> eval('1 + 2 * 3')\n",
      "7\n",
      ">>> import math\n",
      ">>> eval('math.sqrt(5)')\n",
      "2.2360679774997898\n",
      ">>> eval('type(math.pi)')\n",
      "<type 'float'>\n",
      "```\n",
      "\n",
      "Write a function called `eval_loop` that iteratively prompts the user, takes the resulting input and evaluates it using `eval`, and prints the result. It should continue until the user enters 'done', and then return the value of the last expression it evaluated."
     ]
    },
    {
     "cell_type": "markdown",
     "metadata": {},
     "source": [
      "##Exercise 7.5\n",
      "The mathematician Srinivasa Ramanujan found an infinite series that can be used to generate a numerical approximation of $\\pi$\n",
      "Write a function called estimate_pi that uses this formula to compute and return an estimate of $\\pi$. It should use a while loop to compute terms of the summation until the last term is smaller than `1e-15` (which is Python notation for $10^{\u221215}$). You can check the result by comparing it to `math.pi`.\n",
      "\n",
      "$$\n",
      "\\frac{1}{\\pi} = \\frac{2\\sqrt{2}}{9801}\\sum_{k=0}^{\\infty} \\frac{(4k)!(1103 + 26390k)}{(k!)^4 396^{4k}}\n",
      "$$"
     ]
    }
   ],
   "metadata": {}
  }
 ]
}
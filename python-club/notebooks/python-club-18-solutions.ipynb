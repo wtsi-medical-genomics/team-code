{
 "cells": [
  {
   "cell_type": "markdown",
   "metadata": {},
   "source": [
    "##Question 1 (Sarah)"
   ]
  },
  {
   "cell_type": "code",
   "execution_count": 11,
   "metadata": {
    "collapsed": false
   },
   "outputs": [
    {
     "name": "stdout",
     "output_type": "stream",
     "text": [
      "False\n"
     ]
    }
   ],
   "source": [
    "class Time(object):\n",
    "    \"\"\"Represents the time of day.\n",
    "    attributes: hour, minute, second\n",
    "    \"\"\"\n",
    "    def __init__(self, hour=0, minute=0, second=0):\n",
    "        self.second = hour * 3600 + minute * 60 + second\n",
    "\n",
    "    def __str__(self):\n",
    "        minutes, second = divmod(self.second, 60)\n",
    "        hour, minute = divmod(minutes, 60)\n",
    "        return '{:02d}:{:02d}:{:02d}'.format(hour, minute, second)\n",
    "\n",
    "\n",
    "    def __cmp__(self, other):\n",
    "        t1=self.second\n",
    "        t2=other.second\n",
    "        \n",
    "        return cmp(t1,t2) \n",
    "\n",
    "t1=Time(20,15,5)\n",
    "t2=Time(20,15,5)\n",
    "    \n",
    "#print t1.second\n",
    "#print t2\n",
    "\n",
    "print t1<t2"
   ]
  },
  {
   "cell_type": "code",
   "execution_count": 14,
   "metadata": {
    "collapsed": false
   },
   "outputs": [
    {
     "data": {
      "text/plain": [
       "0"
      ]
     },
     "execution_count": 14,
     "metadata": {},
     "output_type": "execute_result"
    }
   ],
   "source": [
    "#t1.__cmp__(t2)\n",
    "Time.__cmp__(t1,t2)"
   ]
  },
  {
   "cell_type": "code",
   "execution_count": 15,
   "metadata": {
    "collapsed": false
   },
   "outputs": [
    {
     "data": {
      "text/plain": [
       "__main__.Time"
      ]
     },
     "execution_count": 15,
     "metadata": {},
     "output_type": "execute_result"
    }
   ],
   "source": [
    "type(t1)"
   ]
  },
  {
   "cell_type": "markdown",
   "metadata": {},
   "source": [
    "##Question 2 (Dan)"
   ]
  },
  {
   "cell_type": "code",
   "execution_count": 33,
   "metadata": {
    "collapsed": true
   },
   "outputs": [],
   "source": [
    "import random\n",
    "\n",
    "class Card(object):\n",
    "    \"\"\"Represents a standard playing card.\"\"\"\n",
    "\n",
    "    suit_names = ['Clubs', 'Diamonds', 'Hearts', 'Spades']\n",
    "    rank_names = [None, 'Ace', '2', '3', '4', '5', '6', '7', \n",
    "              '8', '9', '10', 'Jack', 'Queen', 'King']\n",
    "    \n",
    "    def __init__(self, suit=0, rank=2):\n",
    "        self.suit = suit\n",
    "        self.rank = rank\n",
    "\n",
    "    def __str__(self):\n",
    "        return '%s of %s' % (Card.rank_names[self.rank],\n",
    "                             Card.suit_names[self.suit])\n",
    "    \n",
    "    def __cmp__(self, other):\n",
    "        t1 = self.suit, self.rank\n",
    "        t2 = other.suit, other.rank\n",
    "        return cmp(t1, t2)\n",
    "    \n",
    "    \n",
    "class Deck(object):\n",
    "\n",
    "    def __init__(self):\n",
    "        self.cards = []\n",
    "        for suit in range(4):\n",
    "            for rank in range(1, 14):\n",
    "                card = Card(suit, rank)\n",
    "                self.cards.append(card)\n",
    "\n",
    "    def shuffle(self):\n",
    "        random.shuffle(self.cards)\n",
    "        \n",
    "    def __str__(self):\n",
    "        res = []\n",
    "        for card in self.cards:\n",
    "            res.append(str(card))\n",
    "        return '\\n'.join(res)\n",
    "\n",
    "    def sort(self):\n",
    "        self.cards.sort()"
   ]
  },
  {
   "cell_type": "markdown",
   "metadata": {},
   "source": [
    "Creating a deck and shuffling it."
   ]
  },
  {
   "cell_type": "code",
   "execution_count": 35,
   "metadata": {
    "collapsed": false
   },
   "outputs": [
    {
     "name": "stdout",
     "output_type": "stream",
     "text": [
      "9 of Hearts\n",
      "Ace of Spades\n",
      "4 of Spades\n",
      "2 of Clubs\n",
      "Ace of Clubs\n",
      "10 of Hearts\n",
      "8 of Spades\n",
      "Jack of Diamonds\n",
      "7 of Clubs\n",
      "6 of Clubs\n",
      "4 of Hearts\n",
      "7 of Diamonds\n",
      "10 of Spades\n",
      "Jack of Clubs\n",
      "7 of Hearts\n",
      "Queen of Diamonds\n",
      "Jack of Spades\n",
      "2 of Diamonds\n",
      "6 of Diamonds\n",
      "5 of Spades\n",
      "6 of Spades\n",
      "Queen of Hearts\n",
      "Queen of Clubs\n",
      "Ace of Hearts\n",
      "2 of Spades\n",
      "2 of Hearts\n",
      "5 of Clubs\n",
      "3 of Diamonds\n",
      "3 of Hearts\n",
      "King of Clubs\n",
      "3 of Spades\n",
      "9 of Clubs\n",
      "9 of Diamonds\n",
      "9 of Spades\n",
      "King of Spades\n",
      "4 of Diamonds\n",
      "7 of Spades\n",
      "8 of Clubs\n",
      "10 of Clubs\n",
      "8 of Diamonds\n",
      "5 of Diamonds\n",
      "8 of Hearts\n",
      "3 of Clubs\n",
      "6 of Hearts\n",
      "Queen of Spades\n",
      "4 of Clubs\n",
      "10 of Diamonds\n",
      "King of Diamonds\n",
      "Ace of Diamonds\n",
      "Jack of Hearts\n",
      "King of Hearts\n",
      "5 of Hearts\n"
     ]
    }
   ],
   "source": [
    "d = Deck()\n",
    "d.shuffle()\n",
    "print(d)"
   ]
  },
  {
   "cell_type": "markdown",
   "metadata": {},
   "source": [
    "Now sorting the deck."
   ]
  },
  {
   "cell_type": "code",
   "execution_count": 36,
   "metadata": {
    "collapsed": false
   },
   "outputs": [
    {
     "name": "stdout",
     "output_type": "stream",
     "text": [
      "Ace of Clubs\n",
      "2 of Clubs\n",
      "3 of Clubs\n",
      "4 of Clubs\n",
      "5 of Clubs\n",
      "6 of Clubs\n",
      "7 of Clubs\n",
      "8 of Clubs\n",
      "9 of Clubs\n",
      "10 of Clubs\n",
      "Jack of Clubs\n",
      "Queen of Clubs\n",
      "King of Clubs\n",
      "Ace of Diamonds\n",
      "2 of Diamonds\n",
      "3 of Diamonds\n",
      "4 of Diamonds\n",
      "5 of Diamonds\n",
      "6 of Diamonds\n",
      "7 of Diamonds\n",
      "8 of Diamonds\n",
      "9 of Diamonds\n",
      "10 of Diamonds\n",
      "Jack of Diamonds\n",
      "Queen of Diamonds\n",
      "King of Diamonds\n",
      "Ace of Hearts\n",
      "2 of Hearts\n",
      "3 of Hearts\n",
      "4 of Hearts\n",
      "5 of Hearts\n",
      "6 of Hearts\n",
      "7 of Hearts\n",
      "8 of Hearts\n",
      "9 of Hearts\n",
      "10 of Hearts\n",
      "Jack of Hearts\n",
      "Queen of Hearts\n",
      "King of Hearts\n",
      "Ace of Spades\n",
      "2 of Spades\n",
      "3 of Spades\n",
      "4 of Spades\n",
      "5 of Spades\n",
      "6 of Spades\n",
      "7 of Spades\n",
      "8 of Spades\n",
      "9 of Spades\n",
      "10 of Spades\n",
      "Jack of Spades\n",
      "Queen of Spades\n",
      "King of Spades\n"
     ]
    }
   ],
   "source": [
    "d.sort()\n",
    "print(d)"
   ]
  },
  {
   "cell_type": "markdown",
   "metadata": {},
   "source": [
    "##Question 3 (Liu)"
   ]
  },
  {
   "cell_type": "code",
   "execution_count": 1,
   "metadata": {
    "collapsed": true
   },
   "outputs": [],
   "source": [
    "import random\n",
    "\n",
    "\n",
    "class Card(object):\n",
    "    \"\"\"Represents a standard playing card.\n",
    "    \n",
    "    Attributes:\n",
    "      suit: integer 0-3\n",
    "      rank: integer 1-13\n",
    "    \"\"\"\n",
    "\n",
    "    suit_names = [\"Clubs\", \"Diamonds\", \"Hearts\", \"Spades\"]\n",
    "    rank_names = [None, \"Ace\", \"2\", \"3\", \"4\", \"5\", \"6\", \"7\", \n",
    "              \"8\", \"9\", \"10\", \"Jack\", \"Queen\", \"King\"]\n",
    "\n",
    "    def __init__(self, suit=0, rank=2):\n",
    "        self.suit = suit\n",
    "        self.rank = rank\n",
    "\n",
    "    def __str__(self):\n",
    "        \"\"\"Returns a human-readable string representation.\"\"\"\n",
    "        return '%s of %s' % (Card.rank_names[self.rank],\n",
    "                             Card.suit_names[self.suit])\n",
    "\n",
    "    def __cmp__(self, other):\n",
    "        \"\"\"Compares this card to other, first by suit, then rank.\n",
    "\n",
    "        Returns a positive number if this > other; negative if other > this;\n",
    "        and 0 if they are equivalent.\n",
    "        \"\"\"\n",
    "        t1 = self.suit, self.rank\n",
    "        t2 = other.suit, other.rank\n",
    "        return cmp(t1, t2)\n",
    "\n",
    "\n",
    "class Deck(object):\n",
    "    \"\"\"Represents a deck of cards.\n",
    "\n",
    "    Attributes:\n",
    "      cards: list of Card objects.\n",
    "    \"\"\"\n",
    "    \n",
    "    def __init__(self):\n",
    "        self.cards = []\n",
    "        for suit in range(4):\n",
    "            for rank in range(1, 14):\n",
    "                card = Card(suit, rank)\n",
    "                self.cards.append(card)\n",
    "\n",
    "    def __str__(self):\n",
    "        res = []\n",
    "        for card in self.cards:\n",
    "            res.append(str(card))\n",
    "        return '\\n'.join(res)\n",
    "\n",
    "    def add_card(self, card):\n",
    "        \"\"\"Adds a card to the deck.\"\"\"\n",
    "        self.cards.append(card)\n",
    "\n",
    "    def remove_card(self, card):\n",
    "        \"\"\"Removes a card from the deck.\"\"\"\n",
    "        self.cards.remove(card)\n",
    "\n",
    "    def pop_card(self, i=-1):\n",
    "        \"\"\"Removes and returns a card from the deck.\n",
    "\n",
    "        i: index of the card to pop; by default, pops the last card.\n",
    "        \"\"\"\n",
    "        return self.cards.pop(i)\n",
    "\n",
    "    def shuffle(self):\n",
    "        \"\"\"Shuffles the cards in this deck.\"\"\"\n",
    "        random.shuffle(self.cards)\n",
    "\n",
    "    def sort(self):\n",
    "        \"\"\"Sorts the cards in ascending order.\"\"\"\n",
    "        self.cards.sort()\n",
    "\n",
    "    def move_cards(self, hand, num):\n",
    "        \"\"\"Moves the given number of cards from the deck into the Hand.\n",
    "\n",
    "        hand: destination Hand object\n",
    "        num: integer number of cards to move\n",
    "        \"\"\"\n",
    "        for i in range(num):\n",
    "            hand.add_card(self.pop_card())\n",
    "            \n",
    "    def deal_hands(self, num_of_hands, num_of_cards):\n",
    "        hands_list = []\n",
    "        for i in range(num_of_hands):\n",
    "            new_hand = Hand(str(i + 1))\n",
    "            self.move_cards(new_hand, num_of_cards)\n",
    "            hands_list.append(new_hand)\n",
    "        return hands_list\n",
    "\n",
    "\n",
    "class Hand(Deck):\n",
    "    \"\"\"Represents a hand of playing cards.\"\"\"\n",
    "    \n",
    "    def __init__(self, label=''):\n",
    "        self.cards = []\n",
    "        self.label = label"
   ]
  },
  {
   "cell_type": "code",
   "execution_count": 2,
   "metadata": {
    "collapsed": false
   },
   "outputs": [
    {
     "name": "stdout",
     "output_type": "stream",
     "text": [
      "Hand No. 1:\n",
      "Queen of Clubs\n",
      "3 of Spades\n",
      "\n",
      "Hand No. 2:\n",
      "9 of Clubs\n",
      "7 of Diamonds\n",
      "\n",
      "Hand No. 3:\n",
      "Ace of Spades\n",
      "2 of Spades\n",
      "\n",
      "Hand No. 4:\n",
      "7 of Spades\n",
      "Ace of Clubs\n",
      "\n",
      "Hand No. 5:\n",
      "3 of Hearts\n",
      "Ace of Diamonds\n",
      "\n"
     ]
    }
   ],
   "source": [
    "deck = Deck()\n",
    "deck.shuffle()\n",
    "\n",
    "num_of_hands = 5\n",
    "num_of_cards = 2\n",
    "hands_list = deck.deal_hands(num_of_hands, num_of_cards)\n",
    "for single_hand in hands_list:\n",
    "    print 'Hand No. ' + single_hand.label + ':'\n",
    "    print single_hand\n",
    "    print"
   ]
  },
  {
   "cell_type": "markdown",
   "metadata": {},
   "source": [
    "##Question 5 (Dan)"
   ]
  },
  {
   "cell_type": "markdown",
   "metadata": {},
   "source": [
    "###Original code"
   ]
  },
  {
   "cell_type": "code",
   "execution_count": 3,
   "metadata": {
    "collapsed": false
   },
   "outputs": [
    {
     "name": "stdout",
     "output_type": "stream",
     "text": [
      "the greater part of the street, and there she had the power as well as she entered the house. I merely called, because I thought you meant to say any thing. . . . . . Indeed I must speak to Dr. and Mrs. Wallis does them full justice--only we do to rouse them? Any nonsense will serve. They _shall_ talk. Ladies and gentlemen--I am ordered by Miss Bates's voice, something was to afford at Randalls one day;--even Mr. Woodhouse had been afraid it would be no possibility of good fortune. I hope he does,\" replied Mr. Knightley; \"I have\n"
     ]
    }
   ],
   "source": [
    "\"\"\"This module contains code from\n",
    "Think Python by Allen B. Downey\n",
    "http://thinkpython.com\n",
    "\n",
    "Copyright 2012 Allen B. Downey\n",
    "License: GNU GPLv3 http://www.gnu.org/licenses/gpl.html\n",
    "\n",
    "\"\"\"\n",
    "\n",
    "import sys\n",
    "import string\n",
    "import random\n",
    "\n",
    "# global variables\n",
    "suffix_map = {}        # map from prefixes to a list of suffixes\n",
    "prefix = ()            # current tuple of words\n",
    "\n",
    "\n",
    "def process_file(filename, order=2):\n",
    "    \"\"\"Reads a file and performs Markov analysis.\n",
    "\n",
    "    filename: string\n",
    "    order: integer number of words in the prefix\n",
    "\n",
    "    Returns: map from prefix to list of possible suffixes.\n",
    "    \"\"\"\n",
    "    fp = open(filename)\n",
    "    skip_gutenberg_header(fp)\n",
    "\n",
    "    for line in fp:\n",
    "        for word in line.rstrip().split():\n",
    "            process_word(word, order)\n",
    "\n",
    "\n",
    "def skip_gutenberg_header(fp):\n",
    "    \"\"\"Reads from fp until it finds the line that ends the header.\n",
    "\n",
    "    fp: open file object\n",
    "    \"\"\"\n",
    "    for line in fp:\n",
    "        if line.startswith('*END*THE SMALL PRINT!'):\n",
    "            break\n",
    "\n",
    "\n",
    "def process_word(word, order=2):\n",
    "    \"\"\"Processes each word.\n",
    "\n",
    "    word: string\n",
    "    order: integer\n",
    "\n",
    "    During the first few iterations, all we do is store up the words; \n",
    "    after that we start adding entries to the dictionary.\n",
    "    \"\"\"\n",
    "    global prefix\n",
    "    if len(prefix) < order:\n",
    "        prefix += (word,)\n",
    "        return\n",
    "\n",
    "    try:\n",
    "        suffix_map[prefix].append(word)\n",
    "    except KeyError:\n",
    "        # if there is no entry for this prefix, make one\n",
    "        suffix_map[prefix] = [word]\n",
    "\n",
    "    prefix = shift(prefix, word)\n",
    "\n",
    "\n",
    "def random_text(n=100):\n",
    "    \"\"\"Generates random wordsfrom the analyzed text.\n",
    "\n",
    "    Starts with a random prefix from the dictionary.\n",
    "\n",
    "    n: number of words to generate\n",
    "    \"\"\"\n",
    "    # choose a random prefix (not weighted by frequency)\n",
    "    start = random.choice(suffix_map.keys())\n",
    "    \n",
    "    for i in range(n):\n",
    "        suffixes = suffix_map.get(start, None)\n",
    "        if suffixes == None:\n",
    "            # if the start isn't in map, we got to the end of the\n",
    "            # original text, so we have to start again.\n",
    "            random_text(n-i)\n",
    "            return\n",
    "\n",
    "        # choose a random suffix\n",
    "        word = random.choice(suffixes)\n",
    "        print word,\n",
    "        start = shift(start, word)\n",
    "\n",
    "\n",
    "def shift(t, word):\n",
    "    \"\"\"Forms a new tuple by removing the head and adding word to the tail.\n",
    "\n",
    "    t: tuple of strings\n",
    "    word: string\n",
    "\n",
    "    Returns: tuple of strings\n",
    "    \"\"\"\n",
    "    return t[1:] + (word,)\n",
    "\n",
    "\n",
    "def main(name, filename='', n=100, order=2, *args):\n",
    "    try:\n",
    "        n = int(n)\n",
    "        order = int(order)\n",
    "    except:\n",
    "        print 'Usage: randomtext.py filename [# of words] [prefix length]'\n",
    "    else: \n",
    "        process_file(filename, order)\n",
    "        random_text(n)\n",
    "\n",
    "\n",
    "if __name__ == '__main__':\n",
    "    main(_, filename='emma.txt')"
   ]
  },
  {
   "cell_type": "markdown",
   "metadata": {},
   "source": [
    "###All of the functions shoved into a class"
   ]
  },
  {
   "cell_type": "code",
   "execution_count": 13,
   "metadata": {
    "collapsed": false
   },
   "outputs": [
    {
     "name": "stdout",
     "output_type": "stream",
     "text": [
      "has own powers, and yet it is honourable.-- Yes, honourable, I think, but I believed none of their being left to itself. She, therefore, said no more; and Emma passed into it with the greatest alacrity and enjoyment. \"What an exquisite flutter of spirits which would probably repent it. Six years hence, if he could never allow you to make apologies, excuses, to urge something for a young man, and I shall hear about you all,\" said he; so I put it down; but when they left her long, by no means yet reconciled to his companions; and he had\n"
     ]
    }
   ],
   "source": [
    "\"\"\"This module contains code from\n",
    "Think Python by Allen B. Downey\n",
    "http://thinkpython.com\n",
    "\n",
    "Copyright 2012 Allen B. Downey\n",
    "License: GNU GPLv3 http://www.gnu.org/licenses/gpl.html\n",
    "\n",
    "\"\"\"\n",
    "\n",
    "import sys\n",
    "import string\n",
    "import random\n",
    "\n",
    "class Markov(object):\n",
    "    \n",
    "    def __init__(self):\n",
    "        self.suffix_map = {}  # map from prefixes to a list of suffixes\n",
    "        self.prefix = ()      # current tuple of words\n",
    "        \n",
    "    def process_file(self, filename, order=2):\n",
    "        \"\"\"Reads a file and performs Markov analysis.\n",
    "\n",
    "        filename: string\n",
    "        order: integer number of words in the prefix\n",
    "\n",
    "        Returns: map from prefix to list of possible suffixes.\n",
    "        \"\"\"\n",
    "        fp = open(filename)\n",
    "        self.skip_gutenberg_header(fp)\n",
    "\n",
    "        for line in fp:\n",
    "            for word in line.rstrip().split():\n",
    "                self.process_word(word, order)\n",
    "\n",
    "\n",
    "    def skip_gutenberg_header(self, fp):\n",
    "        \"\"\"Reads from fp until it finds the line that ends the header.\n",
    "\n",
    "        fp: open file object\n",
    "        \"\"\"\n",
    "        for line in fp:\n",
    "            if line.startswith('*END*THE SMALL PRINT!'):\n",
    "                break\n",
    "\n",
    "\n",
    "    def process_word(self, word, order=2):\n",
    "        \"\"\"Processes each word.\n",
    "\n",
    "        word: string\n",
    "        order: integer\n",
    "\n",
    "        During the first few iterations, all we do is store up the words; \n",
    "        after that we start adding entries to the dictionary.\n",
    "        \"\"\"\n",
    "\n",
    "        if len(self.prefix) < order:\n",
    "            self.prefix += (word,)\n",
    "            return\n",
    "\n",
    "        try:\n",
    "            self.suffix_map[self.prefix].append(word)\n",
    "        except KeyError:\n",
    "            # if there is no entry for this prefix, make one\n",
    "            self.suffix_map[self.prefix] = [word]\n",
    "\n",
    "        self.prefix = self.shift(prefix, word)\n",
    "\n",
    "\n",
    "    def random_text(self, n=100):\n",
    "        \"\"\"Generates random wordsfrom the analyzed text.\n",
    "\n",
    "        Starts with a random prefix from the dictionary.\n",
    "\n",
    "        n: number of words to generate\n",
    "        \"\"\"\n",
    "        # choose a random prefix (not weighted by frequency)\n",
    "        start = random.choice(self.suffix_map.keys())\n",
    "\n",
    "        for i in range(n):\n",
    "            suffixes = self.suffix_map.get(start, None)\n",
    "            if suffixes == None:\n",
    "                # if the start isn't in map, we got to the end of the\n",
    "                # original text, so we have to start again.\n",
    "                random_text(n-i)\n",
    "                return\n",
    "\n",
    "            # choose a random suffix\n",
    "            word = random.choice(suffixes)\n",
    "            print word,\n",
    "            start = self.shift(start, word)\n",
    "\n",
    "\n",
    "    def shift(self, t, word):\n",
    "        \"\"\"Forms a new tuple by removing the head and adding word to the tail.\n",
    "\n",
    "        t: tuple of strings\n",
    "        word: string\n",
    "\n",
    "        Returns: tuple of strings\n",
    "        \"\"\"\n",
    "        return t[1:] + (word,)\n",
    "\n",
    "\n",
    "def main(name, filename='', n=100, order=2, *args):\n",
    "    try:\n",
    "        n = int(n)\n",
    "        order = int(order)\n",
    "    except:\n",
    "        print 'Usage: randomtext.py filename [# of words] [prefix length]'\n",
    "    else: \n",
    "        m = Markov()\n",
    "        m.process_file(filename, order)\n",
    "        m.random_text(n)\n",
    "\n",
    "\n",
    "if __name__ == '__main__':\n",
    "    main(_, filename='emma.txt')"
   ]
  },
  {
   "cell_type": "markdown",
   "metadata": {},
   "source": [
    "##Question 6"
   ]
  },
  {
   "cell_type": "code",
   "execution_count": null,
   "metadata": {
    "collapsed": true
   },
   "outputs": [],
   "source": []
  }
 ],
 "metadata": {
  "kernelspec": {
   "display_name": "Python 2",
   "language": "python",
   "name": "python2"
  },
  "language_info": {
   "codemirror_mode": {
    "name": "ipython",
    "version": 2
   },
   "file_extension": ".py",
   "mimetype": "text/x-python",
   "name": "python",
   "nbconvert_exporter": "python",
   "pygments_lexer": "ipython2",
   "version": "2.7.9"
  }
 },
 "nbformat": 4,
 "nbformat_minor": 0
}

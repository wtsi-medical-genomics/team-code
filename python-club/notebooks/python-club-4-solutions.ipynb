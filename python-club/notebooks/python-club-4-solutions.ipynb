{
 "metadata": {
  "name": "",
  "signature": "sha256:5d6f51873a073d259baf1f60c3779708da72c3579f184f955c9bc120e4263d1f"
 },
 "nbformat": 3,
 "nbformat_minor": 0,
 "worksheets": [
  {
   "cells": [
    {
     "cell_type": "markdown",
     "metadata": {},
     "source": [
      "#Python Club\n",
      "##Meeting 4\n",
      "___"
     ]
    },
    {
     "cell_type": "markdown",
     "metadata": {},
     "source": [
      "##Exercises\n",
      "\n",
      "###Exercise 5.a\n",
      "The following uses the logical operator `not` with the relational operator '>'. See if you can write this using only relational operators (`!=, >, <, >=, <=`).\n",
      "\n",
      "####Solution"
     ]
    },
    {
     "cell_type": "code",
     "collapsed": false,
     "input": [
      "x = 5\n",
      "if not x > 5:\n",
      "    print 'x is not bigger than 5'\n",
      "if x <= 5:\n",
      "    print 'version 2: x is not bigger than 5'"
     ],
     "language": "python",
     "metadata": {},
     "outputs": [
      {
       "output_type": "stream",
       "stream": "stdout",
       "text": [
        "x is not bigger than 5\n",
        "version 2: x is not bigger than 5\n"
       ]
      }
     ],
     "prompt_number": 113
    },
    {
     "cell_type": "markdown",
     "metadata": {},
     "source": [
      "###Exercise 5.b\n",
      "What is the point of `elif`? Why not just use two `if` statements in a row? Write an example that demonstrates the differece between:\n",
      "\n",
      "```\n",
      "if <condition>\n",
      "  <body>\n",
      "if <condition>\n",
      "  <body>\n",
      "```\n",
      "\n",
      "and\n",
      "\n",
      "```\n",
      "if <condition>\n",
      "  <body>\n",
      "elif <condition>\n",
      "  <body>\n",
      "```\n",
      "\n",
      "####Solution\n",
      "In the first case both `if` statements will be reached in the flow of the program. In the second case the `elif` will only be reached if the condition from the `if` is false:\n",
      "\n",
      "\n",
      "\n",
      "\n",
      "```\n",
      "if <condition 1>\n",
      "  <body>\n",
      "if <condition 2>  <--- flow of execution will reach this no matter what the first if is\n",
      "  <body>\n",
      "```\n",
      "\n",
      "and\n",
      "\n",
      "```\n",
      "if <condition 1>\n",
      "  <body>\n",
      "elif <condition 2>  <--- flow of execution will only reach this if <condition 1> is false\n",
      "  <body>\n",
      "```"
     ]
    },
    {
     "cell_type": "code",
     "collapsed": false,
     "input": [
      "x = 1\n",
      "if x > 0:\n",
      "    x += 1\n",
      "if x > 1:\n",
      "    x += 1\n",
      "print(x)"
     ],
     "language": "python",
     "metadata": {},
     "outputs": [
      {
       "output_type": "stream",
       "stream": "stdout",
       "text": [
        "3\n"
       ]
      }
     ],
     "prompt_number": 2
    },
    {
     "cell_type": "code",
     "collapsed": false,
     "input": [
      "x = 1\n",
      "if x > 0:\n",
      "    x += 1\n",
      "elif x > 1:\n",
      "    x += 1\n",
      "print(x)\n",
      "    "
     ],
     "language": "python",
     "metadata": {},
     "outputs": [
      {
       "output_type": "stream",
       "stream": "stdout",
       "text": [
        "2\n"
       ]
      }
     ],
     "prompt_number": 3
    },
    {
     "cell_type": "markdown",
     "metadata": {},
     "source": [
      "###Exercise 5.c\n",
      "We have an annotation that starts at position 1000 and ends at position 2000. Write a function that returns true if a gene occupies any part of the annotation. For example:\n",
      "\n",
      "```\n",
      ">>> gene_in_annotation(snp=432)\n",
      "False\n",
      ">>> gene_in_annotation(snp=1023)\n",
      "True\n",
      ">>> gene_in_annotation(snp=4502)\n",
      "False\n",
      "```\n",
      "\n",
      "####Solution"
     ]
    },
    {
     "cell_type": "code",
     "collapsed": false,
     "input": [
      "def gene_in_annotation(snp):\n",
      "    if snp >= 1000 and snp <= 2000:\n",
      "        return True\n",
      "    else:\n",
      "        return False"
     ],
     "language": "python",
     "metadata": {},
     "outputs": [],
     "prompt_number": 11
    },
    {
     "cell_type": "code",
     "collapsed": false,
     "input": [
      "gene_in_annotation(snp=432)"
     ],
     "language": "python",
     "metadata": {},
     "outputs": [
      {
       "metadata": {},
       "output_type": "pyout",
       "prompt_number": 7,
       "text": [
        "False"
       ]
      }
     ],
     "prompt_number": 7
    },
    {
     "cell_type": "code",
     "collapsed": false,
     "input": [
      "gene_in_annotation(snp=1023)"
     ],
     "language": "python",
     "metadata": {},
     "outputs": [
      {
       "metadata": {},
       "output_type": "pyout",
       "prompt_number": 13,
       "text": [
        "True"
       ]
      }
     ],
     "prompt_number": 13
    },
    {
     "cell_type": "code",
     "collapsed": false,
     "input": [
      "gene_in_annotation(snp=4502)"
     ],
     "language": "python",
     "metadata": {},
     "outputs": [
      {
       "metadata": {},
       "output_type": "pyout",
       "prompt_number": 12,
       "text": [
        "False"
       ]
      }
     ],
     "prompt_number": 12
    },
    {
     "cell_type": "markdown",
     "metadata": {},
     "source": [
      "###Exercise 5.3\n",
      "Fermat\u2019s Last Theorem says that there are no positive integers a, b, and c such that\n",
      "\n",
      "```\n",
      "a**n + b**n = c**n \n",
      "```\n",
      "\n",
      "for any values of n greater than 2.\n",
      "\n",
      "1. Write a function named check_fermat that takes four parameters\u2014a, b, c and n\u2014and that checks to see if Fermat\u2019s theorem holds. If n is greater than 2 and it turns out to be true that\n",
      "an + bn = cn \n",
      "the program should print, \u201cHoly smokes, Fermat was wrong!\u201d Otherwise the program should print, \u201cNo, that doesn\u2019t work.\u201d\n",
      "\n",
      "2. Write a function that prompts the user to input values for a, b, c and n, converts them to integers, and uses check_fermat to check whether they violate Fermat\u2019s theorem.\n",
      "\n",
      "####Solution"
     ]
    },
    {
     "cell_type": "code",
     "collapsed": false,
     "input": [
      "#!/usr/bin/env python\n",
      "\n",
      "def check_fermat(a,b,c,n):\n",
      "    if n <= 2:\n",
      "        print(\"Fermat's Last Theorem only holds for n>2\")\n",
      "        return\n",
      "    else:\n",
      "        if a ** n + b ** n == c ** n:\n",
      "            print(\"Holy smokes, Fermat was wrong!\")\n",
      "        else:\n",
      "            print(\"No, that doesn't work\")\n",
      "\n",
      "\n",
      "def get_user_input():\n",
      "    a = int(raw_input(\"Enter a: \"))\n",
      "    b = int(raw_input(\"Enter b: \"))\n",
      "    c = int(raw_input(\"Enter c: \"))\n",
      "    n = int(raw_input(\"Enter n: \"))\n",
      "    check_fermat(a, b, c, n)\n",
      "\n",
      "\n",
      "if __name__ == \"__main__\":\n",
      "    get_user_input()"
     ],
     "language": "python",
     "metadata": {},
     "outputs": [
      {
       "name": "stdout",
       "output_type": "stream",
       "stream": "stdout",
       "text": [
        "Enter a: 5\n"
       ]
      },
      {
       "name": "stdout",
       "output_type": "stream",
       "stream": "stdout",
       "text": [
        "Enter b: 6\n"
       ]
      },
      {
       "name": "stdout",
       "output_type": "stream",
       "stream": "stdout",
       "text": [
        "Enter c: 9090\n"
       ]
      },
      {
       "name": "stdout",
       "output_type": "stream",
       "stream": "stdout",
       "text": [
        "Enter n: 65\n"
       ]
      },
      {
       "output_type": "stream",
       "stream": "stdout",
       "text": [
        "No, that doesn't work\n"
       ]
      }
     ],
     "prompt_number": 16
    },
    {
     "cell_type": "markdown",
     "metadata": {},
     "source": [
      "###Exercise 5.4\n",
      "If you are given three sticks, you may or may not be able to arrange them in a triangle. For example, if one of the sticks is 12 inches long and the other two are one inch long, it is clear that you will not be able to get the short sticks to meet in the middle. For any three lengths, there is a simple test to see if it is possible to form a triangle: If any of the three lengths is greater than the sum of the other two, then you cannot form a triangle. Otherwise, you can. (If the sum of two lengths equals the third, they form what is called a \u201cdegenerate\u201d triangle.)\n",
      "\n",
      "1. Write a function named is_triangle that takes three integers as arguments, and that prints either \u201cYes\u201d or \u201cNo,\u201d depending on whether you can or cannot form a triangle from sticks with the given lengths.\n",
      "2. Write a function that prompts the user to input three stick lengths, converts them to integers, and uses is_triangle to check whether sticks with the given lengths can form a triangle.\n",
      "\n",
      "####Solution\n"
     ]
    },
    {
     "cell_type": "code",
     "collapsed": false,
     "input": [
      "#!/usr/bin/env python\n",
      "\n",
      "def is_triangle(side1, side2, side3):\n",
      "    if (side1 + side2 == side3) or (side1 + side3 == side2) or (side2 + side3 == side1):\n",
      "        print(\"Yes\")\n",
      "    else:\n",
      "        print(\"No\")\n",
      "\n",
      "\n",
      "def get_user_input():\n",
      "    side1 = int(raw_input(\"Enter length of side 1: \"))\n",
      "    side2 = int(raw_input(\"Enter length of side 2: \"))\n",
      "    side3 = int(raw_input(\"Enter length of side 3: \"))\n",
      "    is_triangle(side1, side2, side3)\n",
      "\n",
      "if __name__ == \"__main__\":\n",
      "    get_user_input()"
     ],
     "language": "python",
     "metadata": {},
     "outputs": [
      {
       "name": "stdout",
       "output_type": "stream",
       "stream": "stdout",
       "text": [
        "Enter length of side 1: 23\n"
       ]
      },
      {
       "name": "stdout",
       "output_type": "stream",
       "stream": "stdout",
       "text": [
        "Enter length of side 2: 23\n"
       ]
      },
      {
       "name": "stdout",
       "output_type": "stream",
       "stream": "stdout",
       "text": [
        "Enter length of side 3: 46\n"
       ]
      },
      {
       "output_type": "stream",
       "stream": "stdout",
       "text": [
        "Yes\n"
       ]
      }
     ],
     "prompt_number": 20
    },
    {
     "cell_type": "markdown",
     "metadata": {},
     "source": [
      "###Exercise 5.c\n",
      "Bonus. Sometimes we want to split a file location into its file name and directory parts. Look into the `os` module documentation to figure out how to split the following up:\n",
      "\n",
      "```\n",
      "loc = '/a/path/name/to/something/filename.ext'\n",
      "==>\n",
      "('/a/path/name/to/something', 'filename.ext')\n",
      "```\n",
      "\n",
      "####Solution"
     ]
    },
    {
     "cell_type": "code",
     "collapsed": false,
     "input": [
      "loc = '/a/path/name/to/something/filename.ext'\n",
      "import os\n",
      "parts = os.path.split(loc)\n",
      "print parts[0]\n",
      "print parts[1]"
     ],
     "language": "python",
     "metadata": {},
     "outputs": [
      {
       "output_type": "stream",
       "stream": "stdout",
       "text": [
        "/a/path/name/to/something\n",
        "filename.ext\n"
       ]
      }
     ],
     "prompt_number": 14
    }
   ],
   "metadata": {}
  }
 ]
}
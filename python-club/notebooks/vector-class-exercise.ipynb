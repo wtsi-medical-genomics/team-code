{
 "cells": [
  {
   "cell_type": "markdown",
   "metadata": {},
   "source": [
    "##Making a Vector class\n",
    "In this exercise we will construct a class to represent a mathematical object called the vector. A vector is a list of elements, exactly like a list in Python:\n",
    "\n",
    "```\n",
    "v = [1, 2, 3]\n",
    "w = [3, 2, 5]\n",
    "```\n",
    "\n",
    "\n",
    "We want to implement the following methods:\n",
    "\n",
    "###1. `__init__(self, elements)`\n",
    "Create the `__init__` method in your class `Vector` and use `self.elements` to store the provided `elements` parameter as a list.\n",
    "\n",
    "###2. `__mul__(self, other)`\n",
    "These objects can be multiplied together in different ways but we will consider only the dot-product:\n",
    "\n",
    "```\n",
    "v * w = 1*3 + 2*2 + 3*5\n",
    "      = 22\n",
    "```\n",
    "We will do this in our method with a list comprehension. Use the following guidelines to implement `__mul__` in your class:\n",
    "\n",
    "1. A list comprehension looks like:\n",
    "```\n",
    "list_comp = [some_operation(element) for element in list]\n",
    "```\n",
    "Try the following to get a feel for listcomps:\n",
    "```\n",
    "squares = [element ** 2 for element in [1,2,3]]\n",
    "```\n",
    "\n",
    "2. `zip(A, B)` will return an element each from `A`, `B` as a tuple so in our listcomp:\n",
    "```\n",
    "list_comp = [some_operation(a, b) for a, b in zip(A, B)]\n",
    "```\n",
    "3. `a * b` is the operation we want to perform \n",
    "4. `sum(List)` will add all of the values of the list together\n",
    "\n",
    "###3. `rss(self)`\n",
    "This stands for Root Sum Square and is essentially the square root of the dot product of self with its self.\n",
    "\n",
    "Hints: \n",
    "  * Use the `math` module's `sqrt`\n",
    "  * Reuse `__mul__`\n",
    "\n",
    "###4. `__cmp__(self, other)`\n",
    "This is the compartor operator where self and other are both Vector instances. We will say that for vectors `U`, `V`,\n",
    "\n",
    "```U > V if rss(U) > rss(V)\n",
    "U < V if rss(U) < rss(V)\n",
    "U == V if rss(U) == rss(V)```\n",
    "\n",
    "###5. `__str__(self)`\n",
    "All we want to do here is return a string representation of a list object.\n",
    "\n",
    "Hint: Apply the function `str` to something.\n",
    "\n",
    "##Testing the Vector class\n",
    "Once you have made your Vector class run the `test` function and make sure all tests pass. The `test` function has stored values for what it expects to be the result for each of these methods."
   ]
  },
  {
   "cell_type": "code",
   "execution_count": 1,
   "metadata": {
    "collapsed": false
   },
   "outputs": [],
   "source": [
    "import math\n",
    "\n",
    "# make your class here ..."
   ]
  },
  {
   "cell_type": "code",
   "execution_count": 2,
   "metadata": {
    "collapsed": false
   },
   "outputs": [],
   "source": [
    "def test():\n",
    "    p = Vector([1, 2, 3.14])\n",
    "    q = Vector([1, 2, 3.14])\n",
    "    r = Vector(range(3))\n",
    "\n",
    "    tests = ['str(p)', 'str(q)', 'str(r)', 'p * q', 'q * r',\\\n",
    "             'p.rss()', 'q.rss()', 'r.rss()', 'p > q', 'p < q', 'p == q', 'q > r', 'q < r', 'q == r']\n",
    "    truths = ['[1, 2, 3.14]', '[1, 2, 3.14]', '[0, 1, 2]',\\\n",
    "              14.8596, 8.280000000000001, 3.85481517067, 3.85481517067, 2.2360679775,\\\n",
    "              False, False, True, True, False, False]\n",
    "\n",
    "    for truth, test in zip(truths, tests):\n",
    "        eval_result = eval(test)\n",
    "        if type(eval_result) == type(truth):\n",
    "            if (isinstance(truth, float) and eval_result - truth < 1e-8) or (eval_result == truth):\n",
    "                test_result = 'PASSED'\n",
    "            else:\n",
    "                test_result = 'FAILED expected: {}'.format(truth)\n",
    "        else:\n",
    "            test_result = 'FAILED expected type: {} but got {}'.format(type(truth), type(eval_result))\n",
    "        print '{:10} = {:>15}\\t{}'.format(test, eval_result, test_result)"
   ]
  },
  {
   "cell_type": "code",
   "execution_count": null,
   "metadata": {
    "collapsed": true
   },
   "outputs": [],
   "source": [
    "test()"
   ]
  }
 ],
 "metadata": {
  "kernelspec": {
   "display_name": "Python 2",
   "language": "python",
   "name": "python2"
  },
  "language_info": {
   "codemirror_mode": {
    "name": "ipython",
    "version": 2
   },
   "file_extension": ".py",
   "mimetype": "text/x-python",
   "name": "python",
   "nbconvert_exporter": "python",
   "pygments_lexer": "ipython2",
   "version": "2.7.9"
  }
 },
 "nbformat": 4,
 "nbformat_minor": 0
}

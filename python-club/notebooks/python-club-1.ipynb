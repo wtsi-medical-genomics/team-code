{
 "metadata": {
  "name": "",
  "signature": "sha256:785b2179badba938b5bf572bbca365f6497055a80e9fbf6b1cab08a7f7e60631"
 },
 "nbformat": 3,
 "nbformat_minor": 0,
 "worksheets": [
  {
   "cells": [
    {
     "cell_type": "markdown",
     "metadata": {},
     "source": [
      "#Python Club\n",
      "##Meeting 1\n",
      "---"
     ]
    },
    {
     "cell_type": "markdown",
     "metadata": {},
     "source": [
      "##Agenda\n",
      "\n",
      "* Chapter 1 & 2 Discussion and Questions\n",
      "    * Python 2 versus 3\n",
      "    * Why high-level programming level / interpreted languages exist?\n",
      "* Python in its many forms\n",
      "* Modules & Packages\n",
      "* Python on your local machine\n",
      "* Python on the farm\n",
      "* Getting help\n",
      "* Practical\n",
      "---"
     ]
    },
    {
     "cell_type": "markdown",
     "metadata": {},
     "source": [
      "##Chapter 1 & 2 Discussion and Questions"
     ]
    },
    {
     "cell_type": "markdown",
     "metadata": {},
     "source": [
      "##Python 2 versus 3\n",
      "Python 2 has been around for a very long time and as a consequence has a huge amount of code (particularly scientific) written for it. Python 3 is relatively young (end of 2008) and lacks the substantial code base (though it is certainly growing). To keep things simple, we'll focus on version 2, but also try to highlight any clear differences that arise. We'll also use both versions on the farm in the practical at the end.\n",
      "\n",
      "To read more about this see https://wiki.python.org/moin/Python2orPython3/."
     ]
    },
    {
     "cell_type": "markdown",
     "metadata": {},
     "source": [
      "##Why do high-level programming languages exist?\n",
      "\n",
      "So that (normal) humans can read and write programs.\n",
      "\n",
      "To see how readability improves as we move from the lowest (Machine Code) language to high-level languages, consider the following implementations that produce the Fibonacci sequence: 0, 1, 1, 2, 3, 5, 8,..."
     ]
    },
    {
     "cell_type": "markdown",
     "metadata": {},
     "source": [
      "###Machine Code (108 characters)"
     ]
    },
    {
     "cell_type": "markdown",
     "metadata": {},
     "source": [
      "```\n",
      "8B542408 83FA0077\n",
      "06B80000 0000C383\n",
      "FA027706 B8010000\n",
      "00C353BB 01000000\n",
      "B9010000 008D0419\n",
      "83FA0376 078BD98B\n",
      "C84AEBF1 5BC3\n",
      "```"
     ]
    },
    {
     "cell_type": "markdown",
     "metadata": {},
     "source": [
      "###Assembly Language (168 characters)"
     ]
    },
    {
     "cell_type": "markdown",
     "metadata": {},
     "source": [
      "```\n",
      "fib:\n",
      "    mov edx, [esp+8]\n",
      "    cmp edx, 0\n",
      "    ja @f\n",
      "    mov eax, 0\n",
      "    ret\n",
      " \n",
      "    @@:\n",
      "    cmp edx, 2\n",
      "    ja @f\n",
      "    mov eax, 1\n",
      "    ret\n",
      " \n",
      "    @@:\n",
      "    push ebx\n",
      "    mov ebx, 1\n",
      "    mov ecx, 1\n",
      "\n",
      "    @@:\n",
      "        lea eax, [ebx+ecx]\n",
      "        cmp edx, 3\n",
      "        jbe @f\n",
      "        mov ebx, ecx\n",
      "        mov ecx, eax\n",
      "        dec edx\n",
      "    jmp @b\n",
      " \n",
      "    @@:\n",
      "    pop ebx\n",
      "    ret\n",
      "```"
     ]
    },
    {
     "cell_type": "markdown",
     "metadata": {},
     "source": [
      "###C (136 characters)"
     ]
    },
    {
     "cell_type": "markdown",
     "metadata": {},
     "source": [
      "```\n",
      "unsigned int fib(unsigned int n)\n",
      "{\n",
      "    if (n <= 0)\n",
      "        return 0;\n",
      "    else if (n <= 2)\n",
      "        return 1;\n",
      "    else {\n",
      "        int a,b,c;\n",
      "        a = 1;\n",
      "        b = 1;\n",
      "        while (true) {\n",
      "            c = a + b;\n",
      "            if (n <= 3) return c;\n",
      "            a = b;\n",
      "            b = c;\n",
      "            n--;\n",
      "        }\n",
      "    }\n",
      "}\n",
      "```"
     ]
    },
    {
     "cell_type": "markdown",
     "metadata": {},
     "source": [
      "###Python (68 characters)"
     ]
    },
    {
     "cell_type": "code",
     "collapsed": false,
     "input": [
      "def fib(n):\n",
      "    if n == 0:\n",
      "        return 0\n",
      "    elif n == 1:\n",
      "        return 1\n",
      "    else:\n",
      "        return fib(n - 1) + fib(n - 2)"
     ],
     "language": "python",
     "metadata": {},
     "outputs": [],
     "prompt_number": 9
    },
    {
     "cell_type": "code",
     "collapsed": false,
     "input": [
      "fib(0), fib(1), fib(2), fib(3), fib(4), fib(5), fib(6)"
     ],
     "language": "python",
     "metadata": {},
     "outputs": [
      {
       "metadata": {},
       "output_type": "pyout",
       "prompt_number": 11,
       "text": [
        "(0, 1, 1, 2, 3, 5, 8)"
       ]
      }
     ],
     "prompt_number": 11
    },
    {
     "cell_type": "markdown",
     "metadata": {},
     "source": [
      "###Why do interpreted languages exist?\n",
      "\n",
      "So they can be transfered from one system to another without needing to be recompiled. I could email you the above Python code and you could run it immediately. However, the C code would need to be compiled.\n",
      "\n",
      "---"
     ]
    },
    {
     "cell_type": "markdown",
     "metadata": {},
     "source": [
      "## Python in its many forms\n",
      "\n",
      "You can use python in several ways:\n",
      "\n",
      "**Script mode** Type your code in a text editor, and save to a .py file, execute with **`$ python code.py`** (more on this later)\n",
      "\n",
      "**Interactive mode** You enter a expression and you immediately get a result\n",
      "* **`$ python`** The barebones.\n",
      "* **`$ ipython`** Extends the barebones with automcompletion, inline graphics, fle saving.\n",
      "* **`$ ipython notebook`** What you are staring at right now. You can do inline graphics, text formatting, access the shell all within the browser. This is the best way to share things such as inspection of data, explaining an algorithm step by step, teaching material.\n",
      "* **`$ ipython qtconsole`** A similar experince to the notebook but within a terminal-like user interface.\n",
      "\n",
      "#### Which one to use? Up to you really but the following are general guidelines:\n",
      "* If you are making something as a standalone piece of code, it best to use script mode.\n",
      "* If you want to experiment and save your work then an IPython notebook is a good way to go.\n",
      "* If you want to quickly enter a few lines of code to test something, plain old python is handy."
     ]
    },
    {
     "cell_type": "markdown",
     "metadata": {},
     "source": [
      "###Script mode, WTP (What The Python?)"
     ]
    },
    {
     "cell_type": "markdown",
     "metadata": {},
     "source": [
      "There a variety of ways to execute a python script\n",
      "\n",
      "####Method 1 -- `$ python first.py`\n",
      "    \n",
      "So WTP? Well that depends on how your system is setup. UNIX looks in the PATH environment variable and uses what is specified there. If nothing found in the `PATH` resort to the default `/usr/bin/python`. On my system I have installed Anaconda which has made entry in my `PATH` so that is what is used on my system:"
     ]
    },
    {
     "cell_type": "code",
     "collapsed": false,
     "input": [
      "!which python"
     ],
     "language": "python",
     "metadata": {},
     "outputs": [
      {
       "output_type": "stream",
       "stream": "stdout",
       "text": [
        "/Users/dr9/anaconda/bin/python\r\n"
       ]
      }
     ],
     "prompt_number": 18
    },
    {
     "cell_type": "code",
     "collapsed": false,
     "input": [
      "!cat ~/.bash_profile"
     ],
     "language": "python",
     "metadata": {},
     "outputs": [
      {
       "output_type": "stream",
       "stream": "stdout",
       "text": [
        "# added by Anaconda 2.1.0 installer\r\n",
        "export PATH=\"/Users/dr9/homebrew/bin:$PATH\"\r\n",
        "export PATH=\"/Users/dr9/anaconda/bin:$PATH\"\r\n",
        "export PATH=\"/Users/dr9/Library/samtools/bin:$PATH\"\r\n",
        "export PATH=\"/Users/dr9/Library/wgsim:$PATH\"\r\n",
        "export PATH=\"/Users/dr9/bin:$PATH\"\r\n",
        "\r\n",
        "if [ -f `brew --prefix`/etc/bash_completion ]; then\r\n",
        "    . `brew --prefix`/etc/bash_completion\r\n",
        "fi\r\n",
        "\r\n",
        "alias ff='/Applications/Firefox.app/Contents/MacOS/firefox-bin --profilemanager'\r\n",
        "alias ss='ssh  -L3128:cache1a.internal.sanger.ac.uk:3128 ssh.sanger.ac.uk'\r\n",
        "alias ws='ssh web-wwwsand-06'\r\n"
       ]
      }
     ],
     "prompt_number": 19
    },
    {
     "cell_type": "markdown",
     "metadata": {},
     "source": [
      "---\n",
      "\n",
      "####Method 2 -- `$ /Users/dr9/anaconda/bin/python first.py`\n",
      "\n",
      "If you want to be explicit about it you can state the path to the binary of the Python interpreter. This is particularly relevant when you want to specify exactly which version of Python you want (eg 2.7.2, 2.7.8 or 3.3.2)."
     ]
    },
    {
     "cell_type": "markdown",
     "metadata": {},
     "source": [
      "---\n",
      "\n",
      "####Method 3 -- **`$ ./first.py`**\n",
      "\n",
      "We haven't told UNIX from the command line where the Python interpreter is so we need to include it in the shebang. The shebang or hashbang is the first line of a script that begins `#!` and is used in many scripting languages, not just Python. Some examples of these lines are:\n",
      "\n",
      "* **`#!/Users/dr9/anaconda/bin/python`**\n",
      "* **`#!/usr/bin/env python`**\n",
      "\n",
      "Note that you will also need to chmod your Python file so it is executable.\n",
      "\n",
      "Which of these methoda is best? This is a matter of preference. As long as you have your path setup, you method one should be sufficient. On the farm, you may want to specify precisely what version so Methods 2 and 3 may be preferable."
     ]
    },
    {
     "cell_type": "markdown",
     "metadata": {},
     "source": [
      "##Modules & Packages"
     ]
    },
    {
     "cell_type": "markdown",
     "metadata": {},
     "source": [
      "* A piece of software to perform a specific task.\n",
      "* The work has already been done for you, just type **`import <some package>`**.\n",
      "* A fantastic selling point for lazy people.\n",
      "* These are written by \u201cofficial\u201d python developers as well as scientists, commercial sector, anybody really.\n",
      "* A **package** is a collection of **Modules**. For the time being just think of these as external pieces of code that make your life easy.\n",
      "\n",
      "Some common bioinformatics packages\n",
      "\n",
      "| Package| Description           |\n",
      "| ------ | --------------------- |\n",
      "| pysam  | Interface to samtools |\n",
      "| pyvcf  | VCF reader/parser     |\n",
      "\n",
      "Some common general purpose packages\n",
      "\n",
      "| Package     | Description                                                           |\n",
      "| ----------- | --------------------------------------------------------------------- |\n",
      "| NumPy       | Numerical computing, very fast because it uses compiled Fortan code   |\n",
      "| SciPy       | Scientific computing:  optimization, linear algebra, integration, ... |\n",
      "| matplotlib  | Plotting                                                              |\n",
      "| pandas      | Python Data Analysis Library                                          |\n",
      "\n"
     ]
    },
    {
     "cell_type": "markdown",
     "metadata": {},
     "source": [
      "###How to import packages"
     ]
    },
    {
     "cell_type": "markdown",
     "metadata": {},
     "source": [
      "For example, let\u2019s try out the sys package which is part of the Standard Library (an official Python packages) that tells us system-specific parameters and functions. We will use it to determine what version of python we are using in the current script by using its version parameter."
     ]
    },
    {
     "cell_type": "code",
     "collapsed": false,
     "input": [
      "import sys\n",
      "sys.version"
     ],
     "language": "python",
     "metadata": {},
     "outputs": [
      {
       "metadata": {},
       "output_type": "pyout",
       "prompt_number": 1,
       "text": [
        "'2.7.9 |Anaconda 2.1.0 (x86_64)| (default, Dec 15 2014, 10:37:34) \\n[GCC 4.2.1 (Apple Inc. build 5577)]'"
       ]
      }
     ],
     "prompt_number": 1
    },
    {
     "cell_type": "code",
     "collapsed": false,
     "input": [
      "import sys as zebra_face\n",
      "zebra_face.version"
     ],
     "language": "python",
     "metadata": {},
     "outputs": [
      {
       "metadata": {},
       "output_type": "pyout",
       "prompt_number": 2,
       "text": [
        "'2.7.9 |Anaconda 2.1.0 (x86_64)| (default, Dec 15 2014, 10:37:34) \\n[GCC 4.2.1 (Apple Inc. build 5577)]'"
       ]
      }
     ],
     "prompt_number": 2
    },
    {
     "cell_type": "markdown",
     "metadata": {},
     "source": [
      "The above methods are nice because in order to use one of the module's functions or parameters you need to preceed it with something. Why this is good is clear in the next two examples."
     ]
    },
    {
     "cell_type": "code",
     "collapsed": false,
     "input": [
      "from sys import version\n",
      "version"
     ],
     "language": "python",
     "metadata": {},
     "outputs": [
      {
       "metadata": {},
       "output_type": "pyout",
       "prompt_number": 30,
       "text": [
        "'2.7.9 |Anaconda 2.1.0 (x86_64)| (default, Dec 15 2014, 10:37:34) \\n[GCC 4.2.1 (Apple Inc. build 5577)]'"
       ]
      }
     ],
     "prompt_number": 30
    },
    {
     "cell_type": "markdown",
     "metadata": {},
     "source": [
      "This is OK but not ideal because what if you accidentally overwrite version with something else?"
     ]
    },
    {
     "cell_type": "code",
     "collapsed": false,
     "input": [
      "from sys import version\n",
      "version = \"something else\"\n",
      "print version"
     ],
     "language": "python",
     "metadata": {},
     "outputs": [
      {
       "output_type": "stream",
       "stream": "stdout",
       "text": [
        "something else\n"
       ]
      }
     ],
     "prompt_number": 35
    },
    {
     "cell_type": "code",
     "collapsed": false,
     "input": [
      "from sys import *\n",
      "version"
     ],
     "language": "python",
     "metadata": {},
     "outputs": [
      {
       "metadata": {},
       "output_type": "pyout",
       "prompt_number": 31,
       "text": [
        "'2.7.9 |Anaconda 2.1.0 (x86_64)| (default, Dec 15 2014, 10:37:34) \\n[GCC 4.2.1 (Apple Inc. build 5577)]'"
       ]
      }
     ],
     "prompt_number": 31
    },
    {
     "cell_type": "markdown",
     "metadata": {},
     "source": [
      "Do this only when doing some quick and dirty scripting/interactive computing. This is bad because it fills your **namespace** with everything from the module. The namespace is basically what can be called at that moment in time. What if two different modules were loaded with the `import *` style that have same function? For example, pysam (samtools for Python) and numpy both have the sort function:"
     ]
    },
    {
     "cell_type": "code",
     "collapsed": false,
     "input": [
      "from pysam import *\n",
      "from numpy import *\n",
      "sort([4,2,1,3])"
     ],
     "language": "python",
     "metadata": {},
     "outputs": [
      {
       "metadata": {},
       "output_type": "pyout",
       "prompt_number": 64,
       "text": [
        "array([1, 2, 3, 4])"
       ]
      }
     ],
     "prompt_number": 64
    },
    {
     "cell_type": "markdown",
     "metadata": {},
     "source": [
      "What is happening here is that all of numpy's functions are overwriting pysam's, since it was called last. But if I swap the import order, then I get a different behaviour:"
     ]
    },
    {
     "cell_type": "code",
     "collapsed": false,
     "input": [
      "from numpy import *\n",
      "from pysam import *\n",
      "sort([4,2,1,3])"
     ],
     "language": "python",
     "metadata": {},
     "outputs": [
      {
       "ename": "UnsupportedOperation",
       "evalue": "IOStream has no fileno.",
       "output_type": "pyerr",
       "traceback": [
        "\u001b[0;31m---------------------------------------------------------------------------\u001b[0m\n\u001b[0;31mUnsupportedOperation\u001b[0m                      Traceback (most recent call last)",
        "\u001b[0;32m<ipython-input-65-4743efa2d81b>\u001b[0m in \u001b[0;36m<module>\u001b[0;34m()\u001b[0m\n\u001b[1;32m      1\u001b[0m \u001b[0;32mfrom\u001b[0m \u001b[0mnumpy\u001b[0m \u001b[0;32mimport\u001b[0m \u001b[0;34m*\u001b[0m\u001b[0;34m\u001b[0m\u001b[0m\n\u001b[1;32m      2\u001b[0m \u001b[0;32mfrom\u001b[0m \u001b[0mpysam\u001b[0m \u001b[0;32mimport\u001b[0m \u001b[0;34m*\u001b[0m\u001b[0;34m\u001b[0m\u001b[0m\n\u001b[0;32m----> 3\u001b[0;31m \u001b[0msort\u001b[0m\u001b[0;34m(\u001b[0m\u001b[0;34m[\u001b[0m\u001b[0;36m4\u001b[0m\u001b[0;34m,\u001b[0m\u001b[0;36m2\u001b[0m\u001b[0;34m,\u001b[0m\u001b[0;36m1\u001b[0m\u001b[0;34m,\u001b[0m\u001b[0;36m3\u001b[0m\u001b[0;34m]\u001b[0m\u001b[0;34m)\u001b[0m\u001b[0;34m\u001b[0m\u001b[0m\n\u001b[0m",
        "\u001b[0;32m/Users/dr9/anaconda/lib/python2.7/site-packages/pysam/__init__.pyc\u001b[0m in \u001b[0;36m__call__\u001b[0;34m(self, *args, **kwargs)\u001b[0m\n\u001b[1;32m     62\u001b[0m         '''\n\u001b[1;32m     63\u001b[0m         retval, stderr, stdout = csamtools._samtools_dispatch(\n\u001b[0;32m---> 64\u001b[0;31m             self.dispatch, args)\n\u001b[0m\u001b[1;32m     65\u001b[0m         \u001b[0;32mif\u001b[0m \u001b[0mretval\u001b[0m\u001b[0;34m:\u001b[0m\u001b[0;34m\u001b[0m\u001b[0m\n\u001b[1;32m     66\u001b[0m             raise SamtoolsError(\n",
        "\u001b[0;32m/Users/dr9/anaconda/lib/python2.7/site-packages/pysam/csamtools.so\u001b[0m in \u001b[0;36mpysam.csamtools._samtools_dispatch (pysam/csamtools.c:2808)\u001b[0;34m()\u001b[0m\n",
        "\u001b[0;32m/Users/dr9/anaconda/lib/python2.7/site-packages/IPython/kernel/zmq/iostream.pyc\u001b[0m in \u001b[0;36mfileno\u001b[0;34m(self)\u001b[0m\n\u001b[1;32m    192\u001b[0m \u001b[0;34m\u001b[0m\u001b[0m\n\u001b[1;32m    193\u001b[0m     \u001b[0;32mdef\u001b[0m \u001b[0mfileno\u001b[0m\u001b[0;34m(\u001b[0m\u001b[0mself\u001b[0m\u001b[0;34m)\u001b[0m\u001b[0;34m:\u001b[0m\u001b[0;34m\u001b[0m\u001b[0m\n\u001b[0;32m--> 194\u001b[0;31m         \u001b[0;32mraise\u001b[0m \u001b[0mUnsupportedOperation\u001b[0m\u001b[0;34m(\u001b[0m\u001b[0;34m\"IOStream has no fileno.\"\u001b[0m\u001b[0;34m)\u001b[0m\u001b[0;34m\u001b[0m\u001b[0m\n\u001b[0m\u001b[1;32m    195\u001b[0m \u001b[0;34m\u001b[0m\u001b[0m\n\u001b[1;32m    196\u001b[0m     \u001b[0;32mdef\u001b[0m \u001b[0mwrite\u001b[0m\u001b[0;34m(\u001b[0m\u001b[0mself\u001b[0m\u001b[0;34m,\u001b[0m \u001b[0mstring\u001b[0m\u001b[0;34m)\u001b[0m\u001b[0;34m:\u001b[0m\u001b[0;34m\u001b[0m\u001b[0m\n",
        "\u001b[0;31mUnsupportedOperation\u001b[0m: IOStream has no fileno."
       ]
      }
     ],
     "prompt_number": 65
    },
    {
     "cell_type": "markdown",
     "metadata": {},
     "source": [
      "To conclude, `import module` and `import module as something` are the best, least error prone ways of importing a module."
     ]
    },
    {
     "cell_type": "markdown",
     "metadata": {},
     "source": [
      "##Python on your local machine"
     ]
    },
    {
     "cell_type": "markdown",
     "metadata": {},
     "source": [
      "The easiest way to install and use Python on your local machine is to use the Anaconda distribution. It is free and very convenient (it sames you from downloading numerous modules). Be sure to download version 2.7 as this is compatible with more modules than the version 3.4. Download the command line version as this bypasses security restrictions on graphical installs. When it asks you to install to your `PATH` go ahead and say yes.\n",
      "\n",
      "http://continuum.io/downloads\n",
      "\n",
      "Now that anaconda is installed, we can install modules in two ways:\n",
      "\n",
      "###With Anaconda's conda installer:\n",
      "```\n",
      "$ conda install module_name\n",
      "```\n",
      "\n",
      "###With Python's package management system called pip:\n",
      "```\n",
      "$ pip install module_name\n",
      "```\n",
      "\n",
      "What is the difference? The major difference is that conda can install binary files, that is the installer doesn't need to compile source code to in order to install it on your machine. This is handy because compiling can take some time and things can sometimes go wrong. On the other hand, pip needs to compile the source code. Because conda provides binary files this requires individuals to maintain these binaries. As a consequence, some modules may not be available on conda though EVERY module will be on pip (you'll just have to build it).\n",
      "\n",
      "**Q**: Why do we need to compile anything? I thought Python was interpreted?\n",
      "\n",
      "\n",
      "###Where are the modules installed to?\n",
      "```\n",
      "~/Anaconda/lib/python2.7/site-packages\n",
      "```"
     ]
    },
    {
     "cell_type": "markdown",
     "metadata": {},
     "source": [
      "##Python on the farm\n",
      "There are several versions of Python on the farm:\n",
      "\n",
      "```\n",
      "dr9@farm3-head4:/software$ ls | grep python\n",
      "python-2.7.3\n",
      "python-2.7.6\n",
      "python-2.7.8\n",
      "python-3.2.3\n",
      "python-3.3.0\n",
      "python-3.3.2\n",
      "python-3.4.0\n",
      "```\n",
      "\n",
      "I would suggest using **`python-2.7.6`** (`python-2.7.8` claims to be `python-2.7.3` so I think something is up with it, I'll submit a ticket). In order to specify this python version you can pick any of the previous methods used for local machines. For example, method 2:\n",
      "\n",
      "```dr9@farm3-head2:~$ bsub -o <output> /software/python-2.7.6/bin/python <python script>.py```\n",
      "\n",
      "###Installing Packages & Modules on the Farm\n",
      "There is a good Sanger wiki page on this: http://mediawiki.internal.sanger.ac.uk/index.php/Installing_Software#Python. The crux of it is to install with pip with the user option:\n",
      "\n",
      "```$ /software/python-2.7.6/bin/pip install --user modulename```\n",
      "\n",
      "Which will install software in `~/.local` according to the type of file.\n",
      "\n",
      "| Type of file | Installation directory               |\n",
      "|--------------|------------------------------------- |\n",
      "| modules      | ~/.local/lib/python2.7/site-packages |\n",
      "| scripts      | ~/.local/bin                         |\n",
      "\n",
      "\n",
      "##Documentation\n",
      "There a variety of ways read about python, modules and functions.\n",
      "\n",
      "* `help(\"topic\")` where topic can be a package, module or function\n",
      "* `topic?` in IPython\n",
      "* The official Python docs https://docs.python.org/2/\n",
      "* Most packages will also have their own documentation site (eg http://pysam.readthedocs.org/en/latest/)\n"
     ]
    },
    {
     "cell_type": "markdown",
     "metadata": {},
     "source": [
      "##Practical"
     ]
    },
    {
     "cell_type": "markdown",
     "metadata": {},
     "source": [
      "###Locally\n",
      "* Install `pysam` locally.\n",
      "* Within a text editor of your choice start writing a script to perform the following\n",
      "    * Import `pysam` and `inspect` (a module from the Standard Library so you've already got it installed)\n",
      "    * We want to print out the file location of the pysam module. (hint: https://docs.python.org/2/library/inspect.html#inspect.getfile)\n",
      "* Run this from the command line.\n",
      "* Now that that is working, we are going to add to the same script some lines to print the Python version and location that is interpreting our file.\n",
      "    * Import `sys`.\n",
      "    * Checkout the sys docs for something that might do this. (hint: https://docs.python.org/2/library/sys.html#sys.executable)\n",
      "* If you've got Anaconda installed on your system you have two versions of the Python. See if you can change the version this script runs with. (hint: /usr/bin and ~/Anaconda/bin are the two default locations)\n",
      "\n",
      "###On the farm\n",
      "* Copy your (working) code on to the farm. Repeat above except now install pysam (`/software/python-x.x.x/bin/pip install --user <modname>`) for both 2.7.6 and 3.4.0.\n"
     ]
    },
    {
     "cell_type": "code",
     "collapsed": false,
     "input": [],
     "language": "python",
     "metadata": {},
     "outputs": []
    }
   ],
   "metadata": {}
  }
 ]
}
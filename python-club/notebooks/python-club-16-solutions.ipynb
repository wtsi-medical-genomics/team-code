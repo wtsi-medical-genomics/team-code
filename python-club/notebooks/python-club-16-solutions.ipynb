{
 "cells": [
  {
   "cell_type": "markdown",
   "metadata": {},
   "source": [
    "#Chapter 16 Solutions"
   ]
  },
  {
   "cell_type": "markdown",
   "metadata": {},
   "source": [
    "# Exercise 1 (Sarah)"
   ]
  },
  {
   "cell_type": "code",
   "execution_count": 1,
   "metadata": {
    "collapsed": false
   },
   "outputs": [
    {
     "name": "stdout",
     "output_type": "stream",
     "text": [
      "11:59:30\n"
     ]
    }
   ],
   "source": [
    "\n",
    "class Time(object):\n",
    "    \"\"\"Represents the time of day.\n",
    "    attributes: hour, minute, second\n",
    "    \"\"\"\n",
    "time = Time()\n",
    "time.hour = 11\n",
    "time.minute = 59\n",
    "time.second = 30\n",
    "\n",
    "def print_time(time):\n",
    "    thetime= '%.2d:%.2d:%.2d' %(time.hour, time.minute, time.second)\n",
    "    print thetime\n",
    "    \n",
    "print_time(time)"
   ]
  },
  {
   "cell_type": "markdown",
   "metadata": {},
   "source": [
    "##Exercise 3 (Liu)"
   ]
  },
  {
   "cell_type": "code",
   "execution_count": null,
   "metadata": {
    "collapsed": true
   },
   "outputs": [],
   "source": []
  },
  {
   "cell_type": "code",
   "execution_count": 5,
   "metadata": {
    "collapsed": false
   },
   "outputs": [
    {
     "name": "stdout",
     "output_type": "stream",
     "text": [
      "(11:59:30)\n",
      "(11:59:30)\n",
      "(12:02:39)\n",
      "True\n"
     ]
    }
   ],
   "source": [
    "import copy\n",
    "\n",
    "class Time(object):\n",
    "    \"\"\"Represents the time of day.\n",
    "       \n",
    "    attributes: hour, minute, second\n",
    "    \"\"\"\n",
    "\n",
    "def print_time(t):\n",
    "    print '(%.2d:%.2d:%.2d)' % (t.hour, t.minute, t.second)\n",
    "\n",
    "def get_seconds(time):\n",
    "    return (time.hour * 60 + time.minute) * 60 + time.second\n",
    "    \n",
    "def is_after(t1, t2):\n",
    "    return get_seconds(t1) > get_seconds(t2)\n",
    "\n",
    "def increment(time, seconds):\n",
    "    time.second += seconds\n",
    "    \n",
    "    # get the right minutes\n",
    "    min_increment = time.second/60\n",
    "    time.second = time.second%60\n",
    "    time.minute += min_increment\n",
    "    \n",
    "    # get the right hours\n",
    "    hour_increment = time.minute/60\n",
    "    time.minute = time.minute%60\n",
    "    time.hour += hour_increment\n",
    "    \n",
    "time = Time()\n",
    "time.hour = 11\n",
    "time.minute = 59\n",
    "time.second = 30\n",
    "\n",
    "print_time(time)\n",
    "\n",
    "copied_time = copy.deepcopy(time)\n",
    "\n",
    "increment(copied_time, 189)\n",
    "print_time(time)\n",
    "print_time(copied_time)\n",
    "print is_after(copied_time, time)"
   ]
  },
  {
   "cell_type": "markdown",
   "metadata": {},
   "source": [
    "##Exercise 6 (Dan)"
   ]
  },
  {
   "cell_type": "code",
   "execution_count": 2,
   "metadata": {
    "collapsed": false
   },
   "outputs": [
    {
     "name": "stdout",
     "output_type": "stream",
     "text": [
      "Running a 26.2188 mile race with a time of 02:02:57 yields an average mile time of 00:04:41\n"
     ]
    }
   ],
   "source": [
    "class Time(object):\n",
    "    \"\"\"Represents the time of day.\n",
    "       \n",
    "    attributes: hour, minute, second\n",
    "    \"\"\"\n",
    "    \n",
    "def time_to_int(time):\n",
    "    minutes = time.hour * 60 + time.minute\n",
    "    seconds = minutes * 60 + time.second\n",
    "    return seconds\n",
    "\n",
    "def int_to_time(seconds):\n",
    "    time = Time()\n",
    "    minutes, time.second = divmod(seconds, 60)\n",
    "    time.hour, time.minute = divmod(minutes, 60)\n",
    "    return time\n",
    "\n",
    "def str_time(time):\n",
    "    return '{0:02d}:{1:02d}:{2:02d}'.format(time.hour, time.minute, time.second)\n",
    "\n",
    "def mul_time(time, n):\n",
    "    return int_to_time(int(time_to_int(time) * n))\n",
    "\n",
    "def average_mile_time(race_time, miles):\n",
    "    return mul_time(race_time, 1./miles)\n",
    "\n",
    "r = Time()\n",
    "r.hour = 2\n",
    "r.minute = 2\n",
    "r.second = 57\n",
    "miles = 26.2188\n",
    "d = {'miles':miles, 'race_time':str_time(r), 'avg_mile': str_time(average_mile_time(r, miles))}\n",
    "print('Running a {miles} mile race with a time of {race_time} yields an average mile time of {avg_mile}'.format(**d))"
   ]
  }
 ],
 "metadata": {
  "kernelspec": {
   "display_name": "Python 2",
   "language": "python",
   "name": "python2"
  },
  "language_info": {
   "codemirror_mode": {
    "name": "ipython",
    "version": 2
   },
   "file_extension": ".py",
   "mimetype": "text/x-python",
   "name": "python",
   "nbconvert_exporter": "python",
   "pygments_lexer": "ipython2",
   "version": "2.7.9"
  }
 },
 "nbformat": 4,
 "nbformat_minor": 0
}

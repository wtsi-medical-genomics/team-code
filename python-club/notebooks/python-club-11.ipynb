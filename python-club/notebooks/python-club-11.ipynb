{
 "cells": [
  {
   "cell_type": "markdown",
   "metadata": {},
   "source": [
    "*All exercises from Downey, Allen. Think Python. Green Tea Press, 2014. http://www.greenteapress.com/thinkpython/*"
   ]
  },
  {
   "cell_type": "markdown",
   "metadata": {},
   "source": [
    "##Exercise 11.1 (Masa)\n",
    "Write a function that reads the words in words.txt and stores them as keys in a dictionary. It doesn’t matter what the values are. Then you can use the in operator as a fast way to check whether a string is in the dictionary."
   ]
  },
  {
   "cell_type": "markdown",
   "metadata": {},
   "source": [
    "##Exercise 11.2 (Wendy)\n",
    "Dictionaries have a method called get that takes a key and a default value. If the key appears in the dictionary, get returns the corresponding value; otherwise it returns the default value. For example:\n",
    "\n",
    "```\n",
    ">>> h = histogram('a')\n",
    ">>> print h\n",
    "{'a': 1}\n",
    ">>> h.get('a', 0)\n",
    "1\n",
    ">>> h.get('b', 0)\n",
    "0\n",
    "```\n",
    "Use get to write histogram more concisely. You should be able to eliminate the `if` statement."
   ]
  },
  {
   "cell_type": "markdown",
   "metadata": {},
   "source": [
    "##Exercise 11.3 (Dan)\n",
    "Dictionaries have a method called keys that returns the keys of the dictionary, in no particular order, as a list.\n",
    "Modify print_hist to print the keys and their values in alphabetical order.\n",
    "\n",
    "```\n",
    "def print_hist(h):\n",
    "    for c in h:\n",
    "        print c, h[c]\n",
    "```"
   ]
  },
  {
   "cell_type": "markdown",
   "metadata": {},
   "source": [
    "##Exercise 11.4 (Sarah)\n",
    "Modify reverse_lookup so that it builds and returns a list of all keys that map to v, or an empty list if there are none.\n",
    "\n",
    "```\n",
    "def reverse_lookup(d, v):\n",
    "    for k in d:\n",
    "        if d[k] == v:\n",
    "            return k\n",
    "    raise ValueError\n",
    "```"
   ]
  },
  {
   "cell_type": "markdown",
   "metadata": {},
   "source": [
    "##Exercise 11.5 (Sarah)\n",
    "Exercise 5   Read the documentation of the dictionary method setdefault and use it to write a more concise version of invert_dict.\n",
    "\n",
    "```\n",
    "def invert_dict(d):\n",
    "    inverse = dict()\n",
    "    for key in d:\n",
    "        val = d[key]\n",
    "        if val not in inverse:\n",
    "            inverse[val] = [key]\n",
    "        else:\n",
    "            inverse[val].append(key)\n",
    "    return inverse\n",
    "```"
   ]
  },
  {
   "cell_type": "markdown",
   "metadata": {},
   "source": [
    "##Exercise 11.6 (Liu)"
   ]
  },
  {
   "cell_type": "markdown",
   "metadata": {},
   "source": [
    "Run this version of fibonacci and the original with a range of parameters and compare their run times.\n",
    "\n",
    "```\n",
    "known = {0:0, 1:1}\n",
    "\n",
    "def fibonacci(n):\n",
    "    if n in known:\n",
    "        return known[n]\n",
    "\n",
    "    res = fibonacci(n-1) + fibonacci(n-2)\n",
    "    known[n] = res\n",
    "    return res\n",
    "```"
   ]
  },
  {
   "cell_type": "markdown",
   "metadata": {},
   "source": [
    "##Exercise 11.7 (Wendy)\n",
    "Memoize the Ackermann function from Exercise 5 and see if memoization makes it possible to evaluate the function with bigger arguments. Hint: no.\n",
    "\n",
    "```\n",
    "def ack(m, n):\n",
    "    if m < 0 or n < 0:\n",
    "        print \"m and n must be nonnegative\"\n",
    "        return None\n",
    "    elif m == 0:\n",
    "        return n + 1\n",
    "    elif m > 0 and n == 0:\n",
    "        return ack(m - 1, 1)\n",
    "    elif m > 0 and n > 0:\n",
    "        return ack(m - 1, ack(m, n - 1))\n",
    "```"
   ]
  },
  {
   "cell_type": "markdown",
   "metadata": {},
   "source": [
    "##Exercise 11.9 (Masa)\n",
    "If you did Exercise 8, you already have a function named has_duplicates that takes a list as a parameter and returns True if there is any object that appears more than once in the list.\n",
    "Use a dictionary to write a faster, simpler version of has_duplicates.\n",
    "\n",
    "```\n",
    "def has_duplicates(L):\n",
    "    seen = []\n",
    "    for el in L:\n",
    "        if el in seen:\n",
    "            return True\n",
    "        seen.append(el)\n",
    "    return False\n",
    "```"
   ]
  },
  {
   "cell_type": "markdown",
   "metadata": {},
   "source": [
    "##Exercise 11.10 (Dan)\n",
    "Two words are “rotate pairs” if you can rotate one of them and get the other (see rotate_word in Exercise 12). Write a program that reads a wordlist and finds all the rotate pairs.\n",
    "\n",
    "```\n",
    "def rotate_word(word, r):\n",
    "    return word[r:] + word[0:r]\n",
    "```"
   ]
  },
  {
   "cell_type": "markdown",
   "metadata": {},
   "source": [
    "##Exercise 11.11 (Liu)\n",
    "Here’s another Puzzler from Car Talk (http://www.cartalk.com/content/puzzlers):\n",
    "\n",
    ">This was sent in by a fellow named Dan O’Leary. He came upon a common one-syllable, five-letter word recently that has the following unique property. When you remove the first letter, the remaining letters form a homophone of the original word, that is a word that sounds exactly the same. Replace the first letter, that is, put it back and remove the second letter and the result is yet another homophone of the original word. And the question is, what’s the word?\n",
    "\n",
    ">Now I’m going to give you an example that doesn’t work. Let’s look at the five-letter word, ‘wrack.’ W-R-A-C-K, you know like to ‘wrack with pain.’ If I remove the first letter, I am left with a four-letter word, ’R-A-C-K.’ As in, ‘Holy cow, did you see the rack on that buck! It must have been a nine-pointer!’ It’s a perfect homophone. If you put the ‘w’ back, and remove the ‘r,’ instead, you’re left with the word, ‘wack,’ which is a real word, it’s just not a homophone of the other two words.\n",
    "\n",
    ">But there is, however, at least one word that Dan and we know of, which will yield two \n",
    "homophones if you remove either of the first two letters to make two, new four-letter words. The question is, what’s the word?\n",
    "\n",
    "You can use the dictionary from Exercise 1 to check whether a string is in the word list.\n",
    "\n",
    "To check whether two words are homophones, you can use the CMU Pronouncing Dictionary. You can download it from http://www.speech.cs.cmu.edu/cgi-bin/cmudict or from http://thinkpython.com/code/c06d and you can also download http://thinkpython.com/code/pronounce.py, which provides a function named read_dictionary that reads the pronouncing dictionary and returns a Python dictionary that maps from each word to a string that describes its primary pronunciation.\n",
    "\n",
    "Write a program that lists all the words that solve the Puzzler."
   ]
  }
 ],
 "metadata": {
  "kernelspec": {
   "display_name": "Python 2",
   "language": "python",
   "name": "python2"
  },
  "language_info": {
   "codemirror_mode": {
    "name": "ipython",
    "version": 2
   },
   "file_extension": ".py",
   "mimetype": "text/x-python",
   "name": "python",
   "nbconvert_exporter": "python",
   "pygments_lexer": "ipython2",
   "version": "2.7.9"
  }
 },
 "nbformat": 4,
 "nbformat_minor": 0
}

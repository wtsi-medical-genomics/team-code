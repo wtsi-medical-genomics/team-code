{
 "metadata": {
  "name": "",
  "signature": "sha256:55b8d3974d5008534ba507ae8a074f28f4f61ecd790a749f2aab41ac8108d043"
 },
 "nbformat": 3,
 "nbformat_minor": 0,
 "worksheets": [
  {
   "cells": [
    {
     "cell_type": "markdown",
     "metadata": {},
     "source": [
      "##Exercise 0"
     ]
    },
    {
     "cell_type": "code",
     "collapsed": false,
     "input": [
      "def f(x):\n",
      "    return x + 1\n",
      "\n",
      "def g(x):\n",
      "    return 2 * f(x)\n",
      "\n",
      "def h(x):\n",
      "    return f(2 * x)"
     ],
     "language": "python",
     "metadata": {},
     "outputs": [],
     "prompt_number": 49
    },
    {
     "cell_type": "markdown",
     "metadata": {},
     "source": [
      "##Exercise 3"
     ]
    },
    {
     "cell_type": "code",
     "collapsed": false,
     "input": [
      "def right_justify(string):\n",
      "    print ' ' * (70 - len(string)) + string"
     ],
     "language": "python",
     "metadata": {},
     "outputs": [],
     "prompt_number": 23
    },
    {
     "cell_type": "code",
     "collapsed": false,
     "input": [
      "right_justify('hello')\n",
      "right_justify('hi')"
     ],
     "language": "python",
     "metadata": {},
     "outputs": [
      {
       "output_type": "stream",
       "stream": "stdout",
       "text": [
        "                                                                 hello\n",
        "                                                                    hi\n"
       ]
      }
     ],
     "prompt_number": 25
    },
    {
     "cell_type": "markdown",
     "metadata": {},
     "source": [
      "##Exercise 4"
     ]
    },
    {
     "cell_type": "code",
     "collapsed": false,
     "input": [
      "def do_twice(f, arg):\n",
      "    f(arg)\n",
      "    f(arg)\n",
      "\n",
      "def print_twice(arg):\n",
      "    print arg\n",
      "    print arg\n",
      "\n",
      "print 'do_twice output'\n",
      "do_twice(print_twice, 'spam')\n",
      "\n",
      "def do_four(f, arg):\n",
      "    do_twice(f, arg)\n",
      "    do_twice(f, arg)\n",
      "\n",
      "print 'do_four output'\n",
      "do_four(print_twice, 'spam')"
     ],
     "language": "python",
     "metadata": {},
     "outputs": [
      {
       "output_type": "stream",
       "stream": "stdout",
       "text": [
        "do_twice output\n",
        "spam\n",
        "spam\n",
        "spam\n",
        "spam\n",
        "do_four output\n",
        "spam\n",
        "spam\n",
        "spam\n",
        "spam\n",
        "spam\n",
        "spam\n",
        "spam\n",
        "spam\n"
       ]
      }
     ],
     "prompt_number": 27
    },
    {
     "cell_type": "code",
     "collapsed": false,
     "input": [
      "def do_twice(f):\n",
      "    f()\n",
      "    f()\n",
      "\n",
      "def do_four(f):\n",
      "    do_twice(f)\n",
      "    do_twice(f)\n",
      "\n",
      "def print_beam():\n",
      "    print '+ - - - -',\n",
      "\n",
      "def print_post():\n",
      "    print '|        ',\n",
      "\n",
      "def print_beams():\n",
      "    do_twice(print_beam)\n",
      "    print '+'\n",
      "\n",
      "def print_posts():\n",
      "    do_twice(print_post)\n",
      "    print '|'\n",
      "\n",
      "def print_row():\n",
      "    print_beams()\n",
      "    do_four(print_posts)\n",
      "\n",
      "def print_grid():\n",
      "    do_twice(print_row)\n",
      "    print_beams()\n",
      "\n",
      "print_grid()"
     ],
     "language": "python",
     "metadata": {},
     "outputs": [
      {
       "output_type": "stream",
       "stream": "stdout",
       "text": [
        "+ - - - - + - - - - +\n",
        "|         |         |\n",
        "|         |         |\n",
        "|         |         |\n",
        "|         |         |\n",
        "+ - - - - + - - - - +\n",
        "|         |         |\n",
        "|         |         |\n",
        "|         |         |\n",
        "|         |         |\n",
        "+ - - - - + - - - - +\n"
       ]
      }
     ],
     "prompt_number": 29
    },
    {
     "cell_type": "markdown",
     "metadata": {},
     "source": [
      "##Exercise 5 Extension"
     ]
    },
    {
     "cell_type": "code",
     "collapsed": false,
     "input": [
      "def one_four_one(f, g, h):\n",
      "    f()\n",
      "    do_four(g)\n",
      "    h()\n",
      "\n",
      "def print_plus():\n",
      "    print '+',\n",
      "\n",
      "def print_dash():\n",
      "    print '-',\n",
      "\n",
      "def print_bar():\n",
      "    print '|',\n",
      "\n",
      "def print_space():\n",
      "    print ' ',\n",
      "\n",
      "def print_end():\n",
      "    print\n",
      "\n",
      "def nothing():\n",
      "    \"do nothing\"\n",
      "\n",
      "def print1beam():\n",
      "    one_four_one(nothing, print_dash, print_plus)\n",
      "\n",
      "def print1post():\n",
      "    one_four_one(nothing, print_space, print_bar)\n",
      "\n",
      "def print4beams():\n",
      "    one_four_one(print_plus, print1beam, print_end)\n",
      "\n",
      "def print4posts():\n",
      "    one_four_one(print_bar, print1post, print_end)\n",
      "\n",
      "def print_row():\n",
      "    one_four_one(nothing, print4posts, print4beams)\n",
      "\n",
      "def print_grid():\n",
      "    one_four_one(print4beams, print_row, nothing)\n",
      "\n",
      "print_grid()"
     ],
     "language": "python",
     "metadata": {},
     "outputs": [
      {
       "output_type": "stream",
       "stream": "stdout",
       "text": [
        "+ - - - - + - - - - + - - - - + - - - - +\n",
        "|         |         |         |         |\n",
        "|         |         |         |         |\n",
        "|         |         |         |         |\n",
        "|         |         |         |         |\n",
        "+ - - - - + - - - - + - - - - + - - - - +\n",
        "|         |         |         |         |\n",
        "|         |         |         |         |\n",
        "|         |         |         |         |\n",
        "|         |         |         |         |\n",
        "+ - - - - + - - - - + - - - - + - - - - +\n",
        "|         |         |         |         |\n",
        "|         |         |         |         |\n",
        "|         |         |         |         |\n",
        "|         |         |         |         |\n",
        "+ - - - - + - - - - + - - - - + - - - - +\n",
        "|         |         |         |         |\n",
        "|         |         |         |         |\n",
        "|         |         |         |         |\n",
        "|         |         |         |         |\n",
        "+ - - - - + - - - - + - - - - + - - - - +\n"
       ]
      }
     ],
     "prompt_number": 45
    },
    {
     "cell_type": "markdown",
     "metadata": {},
     "source": [
      "##Exercise 6"
     ]
    },
    {
     "cell_type": "code",
     "collapsed": false,
     "input": [
      "def get_line(symbol1, symbol2, n):\n",
      "    return (symbol1 + ' ' + (symbol2 + ' ')* 4) * n + symbol1 + '\\n'\n",
      "\n",
      "def get_row(n):\n",
      "    s = get_line('+','-', n)\n",
      "    s += get_line('|', ' ', n) * 4\n",
      "    return s\n",
      "\n",
      "def print_grid(n):\n",
      "    g = get_row(n) * n\n",
      "    g += get_line('+','-', n)\n",
      "    print g"
     ],
     "language": "python",
     "metadata": {},
     "outputs": [],
     "prompt_number": 30
    },
    {
     "cell_type": "code",
     "collapsed": false,
     "input": [
      "grid(12)"
     ],
     "language": "python",
     "metadata": {},
     "outputs": [
      {
       "output_type": "stream",
       "stream": "stdout",
       "text": [
        "+ - - - - + - - - - + - - - - + - - - - + - - - - + - - - - + - - - - + - - - - + - - - - + - - - - + - - - - + - - - - +\n",
        "|         |         |         |         |         |         |         |         |         |         |         |         |\n",
        "|         |         |         |         |         |         |         |         |         |         |         |         |\n",
        "|         |         |         |         |         |         |         |         |         |         |         |         |\n",
        "|         |         |         |         |         |         |         |         |         |         |         |         |\n",
        "+ - - - - + - - - - + - - - - + - - - - + - - - - + - - - - + - - - - + - - - - + - - - - + - - - - + - - - - + - - - - +\n",
        "|         |         |         |         |         |         |         |         |         |         |         |         |\n",
        "|         |         |         |         |         |         |         |         |         |         |         |         |\n",
        "|         |         |         |         |         |         |         |         |         |         |         |         |\n",
        "|         |         |         |         |         |         |         |         |         |         |         |         |\n",
        "+ - - - - + - - - - + - - - - + - - - - + - - - - + - - - - + - - - - + - - - - + - - - - + - - - - + - - - - + - - - - +\n",
        "|         |         |         |         |         |         |         |         |         |         |         |         |\n",
        "|         |         |         |         |         |         |         |         |         |         |         |         |\n",
        "|         |         |         |         |         |         |         |         |         |         |         |         |\n",
        "|         |         |         |         |         |         |         |         |         |         |         |         |\n",
        "+ - - - - + - - - - + - - - - + - - - - + - - - - + - - - - + - - - - + - - - - + - - - - + - - - - + - - - - + - - - - +\n",
        "|         |         |         |         |         |         |         |         |         |         |         |         |\n",
        "|         |         |         |         |         |         |         |         |         |         |         |         |\n",
        "|         |         |         |         |         |         |         |         |         |         |         |         |\n",
        "|         |         |         |         |         |         |         |         |         |         |         |         |\n",
        "+ - - - - + - - - - + - - - - + - - - - + - - - - + - - - - + - - - - + - - - - + - - - - + - - - - + - - - - + - - - - +\n",
        "|         |         |         |         |         |         |         |         |         |         |         |         |\n",
        "|         |         |         |         |         |         |         |         |         |         |         |         |\n",
        "|         |         |         |         |         |         |         |         |         |         |         |         |\n",
        "|         |         |         |         |         |         |         |         |         |         |         |         |\n",
        "+ - - - - + - - - - + - - - - + - - - - + - - - - + - - - - + - - - - + - - - - + - - - - + - - - - + - - - - + - - - - +\n",
        "|         |         |         |         |         |         |         |         |         |         |         |         |\n",
        "|         |         |         |         |         |         |         |         |         |         |         |         |\n",
        "|         |         |         |         |         |         |         |         |         |         |         |         |\n",
        "|         |         |         |         |         |         |         |         |         |         |         |         |\n",
        "+ - - - - + - - - - + - - - - + - - - - + - - - - + - - - - + - - - - + - - - - + - - - - + - - - - + - - - - + - - - - +\n",
        "|         |         |         |         |         |         |         |         |         |         |         |         |\n",
        "|         |         |         |         |         |         |         |         |         |         |         |         |\n",
        "|         |         |         |         |         |         |         |         |         |         |         |         |\n",
        "|         |         |         |         |         |         |         |         |         |         |         |         |\n",
        "+ - - - - + - - - - + - - - - + - - - - + - - - - + - - - - + - - - - + - - - - + - - - - + - - - - + - - - - + - - - - +\n",
        "|         |         |         |         |         |         |         |         |         |         |         |         |\n",
        "|         |         |         |         |         |         |         |         |         |         |         |         |\n",
        "|         |         |         |         |         |         |         |         |         |         |         |         |\n",
        "|         |         |         |         |         |         |         |         |         |         |         |         |\n",
        "+ - - - - + - - - - + - - - - + - - - - + - - - - + - - - - + - - - - + - - - - + - - - - + - - - - + - - - - + - - - - +\n",
        "|         |         |         |         |         |         |         |         |         |         |         |         |\n",
        "|         |         |         |         |         |         |         |         |         |         |         |         |\n",
        "|         |         |         |         |         |         |         |         |         |         |         |         |\n",
        "|         |         |         |         |         |         |         |         |         |         |         |         |\n",
        "+ - - - - + - - - - + - - - - + - - - - + - - - - + - - - - + - - - - + - - - - + - - - - + - - - - + - - - - + - - - - +\n",
        "|         |         |         |         |         |         |         |         |         |         |         |         |\n",
        "|         |         |         |         |         |         |         |         |         |         |         |         |\n",
        "|         |         |         |         |         |         |         |         |         |         |         |         |\n",
        "|         |         |         |         |         |         |         |         |         |         |         |         |\n",
        "+ - - - - + - - - - + - - - - + - - - - + - - - - + - - - - + - - - - + - - - - + - - - - + - - - - + - - - - + - - - - +\n",
        "|         |         |         |         |         |         |         |         |         |         |         |         |\n",
        "|         |         |         |         |         |         |         |         |         |         |         |         |\n",
        "|         |         |         |         |         |         |         |         |         |         |         |         |\n",
        "|         |         |         |         |         |         |         |         |         |         |         |         |\n",
        "+ - - - - + - - - - + - - - - + - - - - + - - - - + - - - - + - - - - + - - - - + - - - - + - - - - + - - - - + - - - - +\n",
        "|         |         |         |         |         |         |         |         |         |         |         |         |\n",
        "|         |         |         |         |         |         |         |         |         |         |         |         |\n",
        "|         |         |         |         |         |         |         |         |         |         |         |         |\n",
        "|         |         |         |         |         |         |         |         |         |         |         |         |\n",
        "+ - - - - + - - - - + - - - - + - - - - + - - - - + - - - - + - - - - + - - - - + - - - - + - - - - + - - - - + - - - - +\n",
        "\n"
       ]
      }
     ],
     "prompt_number": 53
    }
   ],
   "metadata": {}
  }
 ]
}